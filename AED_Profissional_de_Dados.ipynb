{
  "nbformat": 4,
  "nbformat_minor": 0,
  "metadata": {
    "colab": {
      "name": "AED_Profissional.de.Dados.ipynb",
      "provenance": [],
      "collapsed_sections": [],
      "authorship_tag": "ABX9TyPSsLbFWO0NfCbVVSuuropL",
      "include_colab_link": true
    },
    "kernelspec": {
      "name": "python3",
      "display_name": "Python 3"
    },
    "language_info": {
      "name": "python"
    }
  },
  "cells": [
    {
      "cell_type": "markdown",
      "metadata": {
        "id": "view-in-github",
        "colab_type": "text"
      },
      "source": [
        "<a href=\"https://colab.research.google.com/github/rodrigoviana-ds/Projetos/blob/main/AED_Profissional_de_Dados.ipynb\" target=\"_parent\"><img src=\"https://colab.research.google.com/assets/colab-badge.svg\" alt=\"Open In Colab\"/></a>"
      ]
    },
    {
      "cell_type": "markdown",
      "metadata": {
        "id": "l-Zb_nm7PNwE"
      },
      "source": [
        ""
      ]
    },
    {
      "cell_type": "markdown",
      "metadata": {
        "id": "VaMcbLzzPKHz"
      },
      "source": [
        "#**Perfil do Profissional de Dados no Brasil**\n",
        "\n",
        "##**Pesquisa de Mercado pela comunidade Data Hackers - Nov/19.**\n",
        "\n",
        "\n",
        "A profissão que vem aparecendo cada vez mais em alta tanto no Brasil quanto no mundo é a que envolve a área de dados. Dentre todas a que mais se destaca é a de Cientista de Dados. \n",
        "\n",
        "O que mais se observa nessa profissão são os salários. As suposições giram em salários altos, muitos acima dos R$ 20.000. Certamente existem profissionais que ganham nessa faixa. Mas será que essa é uma realidade da maioria? \n",
        "\n",
        "Com o intuito de responder a essa e outras perguntas, a equipe do Data Hackers - a maior comunidade de Data Science do Brasil - organizou uma pesquisa de âmbito nacional com profissionais da área.\n",
        "\n",
        "A pesquisa, que contou com a participação de 1765 entrevistados, nos ajuda a entender o perfil do profissional de dados cada vez mais requisitado no mercado.\n"
      ]
    },
    {
      "cell_type": "code",
      "metadata": {
        "id": "4WJHXLuaOx0l"
      },
      "source": [
        "import pandas as pd"
      ],
      "execution_count": 36,
      "outputs": []
    },
    {
      "cell_type": "code",
      "metadata": {
        "id": "V_BFtjsyPa1S"
      },
      "source": [
        "caminho = '/content/datahackers-survey-2019-anonymous-responses.csv'\n",
        "dados = pd.read_csv(caminho)"
      ],
      "execution_count": 37,
      "outputs": []
    },
    {
      "cell_type": "code",
      "metadata": {
        "colab": {
          "base_uri": "https://localhost:8080/"
        },
        "id": "ju1I7Ma0Pi4i",
        "outputId": "45a6b1c1-769f-4f5e-be7a-d1d3ace45abf"
      },
      "source": [
        "dados.shape"
      ],
      "execution_count": 38,
      "outputs": [
        {
          "output_type": "execute_result",
          "data": {
            "text/plain": [
              "(1765, 170)"
            ]
          },
          "metadata": {
            "tags": []
          },
          "execution_count": 38
        }
      ]
    },
    {
      "cell_type": "code",
      "metadata": {
        "colab": {
          "base_uri": "https://localhost:8080/",
          "height": 508
        },
        "id": "2QozjSghPotV",
        "outputId": "89ed1816-a2e7-4d11-adf7-acf27bdc8c13"
      },
      "source": [
        "dados.head()"
      ],
      "execution_count": 130,
      "outputs": [
        {
          "output_type": "execute_result",
          "data": {
            "text/html": [
              "<div>\n",
              "<style scoped>\n",
              "    .dataframe tbody tr th:only-of-type {\n",
              "        vertical-align: middle;\n",
              "    }\n",
              "\n",
              "    .dataframe tbody tr th {\n",
              "        vertical-align: top;\n",
              "    }\n",
              "\n",
              "    .dataframe thead th {\n",
              "        text-align: right;\n",
              "    }\n",
              "</style>\n",
              "<table border=\"1\" class=\"dataframe\">\n",
              "  <thead>\n",
              "    <tr style=\"text-align: right;\">\n",
              "      <th></th>\n",
              "      <th>('P0', 'id')</th>\n",
              "      <th>('P1', 'age')</th>\n",
              "      <th>('P2', 'gender')</th>\n",
              "      <th>('P3', 'living_in_brasil')</th>\n",
              "      <th>('P5', 'living_state')</th>\n",
              "      <th>('P6', 'born_or_graduated')</th>\n",
              "      <th>('P8', 'degreee_level')</th>\n",
              "      <th>('P10', 'job_situation')</th>\n",
              "      <th>('P12', 'workers_number')</th>\n",
              "      <th>('P13', 'manager')</th>\n",
              "      <th>('P16', 'salary_range')</th>\n",
              "      <th>('P17', 'time_experience_data_science')</th>\n",
              "      <th>('P18', 'time_experience_before')</th>\n",
              "      <th>('P19', 'is_data_science_professional')</th>\n",
              "      <th>('P20', 'linear_regression')</th>\n",
              "      <th>('P20', 'logistic_regression')</th>\n",
              "      <th>('P20', 'glms')</th>\n",
              "      <th>('P20', 'decision_tree')</th>\n",
              "      <th>('P20', 'random_forest')</th>\n",
              "      <th>('P20', 'neural_networks')</th>\n",
              "      <th>('P20', 'bayesian_inference')</th>\n",
              "      <th>('P20', 'ensemble')</th>\n",
              "      <th>('P20', 'svms')</th>\n",
              "      <th>('P20', 'cnns')</th>\n",
              "      <th>('P20', 'rnns')</th>\n",
              "      <th>('P20', 'hmms')</th>\n",
              "      <th>('P20', 'gans')</th>\n",
              "      <th>('P20', 'markov_chains')</th>\n",
              "      <th>('P20', 'nlp')</th>\n",
              "      <th>('P20', 'gradient_boosted_machines')</th>\n",
              "      <th>('P20', 'cluster_analysis')</th>\n",
              "      <th>('P20', 'survival_analysis')</th>\n",
              "      <th>('P20', 'longitudinal_data_analysis')</th>\n",
              "      <th>('P20', 'joint analysis')</th>\n",
              "      <th>('P20', 'no_listed_methods')</th>\n",
              "      <th>('P21', 'sql_')</th>\n",
              "      <th>('P21', 'r')</th>\n",
              "      <th>('P21', 'python')</th>\n",
              "      <th>('P21', 'c_c++_c#')</th>\n",
              "      <th>('P21', 'dotnet')</th>\n",
              "      <th>...</th>\n",
              "      <th>('P33', 'other_brasilian_blogs')</th>\n",
              "      <th>('P33', 'other_slack_channels')</th>\n",
              "      <th>('P33', 'twitter')</th>\n",
              "      <th>('P33', 'abroad_blogs')</th>\n",
              "      <th>('P33', 'abroad_podcasts')</th>\n",
              "      <th>('P33', 'meetups_and_events')</th>\n",
              "      <th>('P33', 'only_data_hackers')</th>\n",
              "      <th>('P33', 'other')</th>\n",
              "      <th>('P34', 'udacity')</th>\n",
              "      <th>('P34', 'coursera')</th>\n",
              "      <th>('P34', 'udemy')</th>\n",
              "      <th>('P34', 'height')</th>\n",
              "      <th>('P34', 'edx')</th>\n",
              "      <th>('P34', 'data_camp')</th>\n",
              "      <th>('P34', 'data_quest')</th>\n",
              "      <th>('P34', 'kaggle_learn')</th>\n",
              "      <th>('P34', 'online_courses')</th>\n",
              "      <th>('P34', 'other')</th>\n",
              "      <th>('P35', 'data_science_plataforms_preference')</th>\n",
              "      <th>('P35', 'other')</th>\n",
              "      <th>('P36', 'draw_participation')</th>\n",
              "      <th>('D1', 'living_macroregion')</th>\n",
              "      <th>('D2', 'origin_macroregion')</th>\n",
              "      <th>('D3', 'anonymized_degree_area')</th>\n",
              "      <th>('D4', 'anonymized_market_sector')</th>\n",
              "      <th>('D5', 'anonymized_manager_level')</th>\n",
              "      <th>('D6', 'anonymized_role')</th>\n",
              "      <th>profissao</th>\n",
              "      <th>salario</th>\n",
              "      <th>idade</th>\n",
              "      <th>tamanho_da_empresa</th>\n",
              "      <th>gestor</th>\n",
              "      <th>se_considera_ds</th>\n",
              "      <th>sexo</th>\n",
              "      <th>experiencia_ds</th>\n",
              "      <th>tipo_de_trabalho</th>\n",
              "      <th>escolaridade</th>\n",
              "      <th>area_de_formacao</th>\n",
              "      <th>setor_de_mercado</th>\n",
              "      <th>plataforma_favorita</th>\n",
              "    </tr>\n",
              "  </thead>\n",
              "  <tbody>\n",
              "    <tr>\n",
              "      <th>0</th>\n",
              "      <td>v9otv8j9wdvjrv9otvwnn9owhzq54ktv</td>\n",
              "      <td>37.0</td>\n",
              "      <td>Masculino</td>\n",
              "      <td>1</td>\n",
              "      <td>Minas Gerais (MG)</td>\n",
              "      <td>1.0</td>\n",
              "      <td>Estudante de Graduação</td>\n",
              "      <td>Empregado (CTL)</td>\n",
              "      <td>de 1 a 5</td>\n",
              "      <td>0.0</td>\n",
              "      <td>de R$ 1.001/mês a R$ 2.000/mês</td>\n",
              "      <td>Não tenho experiência na área de dados</td>\n",
              "      <td>Não tive experiência na área de TI/Engenharia ...</td>\n",
              "      <td>0</td>\n",
              "      <td>0</td>\n",
              "      <td>0</td>\n",
              "      <td>0</td>\n",
              "      <td>0</td>\n",
              "      <td>0</td>\n",
              "      <td>0</td>\n",
              "      <td>0</td>\n",
              "      <td>0</td>\n",
              "      <td>0</td>\n",
              "      <td>0</td>\n",
              "      <td>0</td>\n",
              "      <td>0</td>\n",
              "      <td>0</td>\n",
              "      <td>0</td>\n",
              "      <td>0</td>\n",
              "      <td>0</td>\n",
              "      <td>0</td>\n",
              "      <td>0</td>\n",
              "      <td>0</td>\n",
              "      <td>0</td>\n",
              "      <td>0</td>\n",
              "      <td>0</td>\n",
              "      <td>0</td>\n",
              "      <td>0</td>\n",
              "      <td>0</td>\n",
              "      <td>0</td>\n",
              "      <td>...</td>\n",
              "      <td>0</td>\n",
              "      <td>0</td>\n",
              "      <td>0</td>\n",
              "      <td>0</td>\n",
              "      <td>0</td>\n",
              "      <td>0</td>\n",
              "      <td>0</td>\n",
              "      <td>0</td>\n",
              "      <td>0</td>\n",
              "      <td>0</td>\n",
              "      <td>0</td>\n",
              "      <td>0</td>\n",
              "      <td>0</td>\n",
              "      <td>0</td>\n",
              "      <td>0</td>\n",
              "      <td>0</td>\n",
              "      <td>1</td>\n",
              "      <td>0</td>\n",
              "      <td>Nunca fiz cursos online</td>\n",
              "      <td>NaN</td>\n",
              "      <td>1.0</td>\n",
              "      <td>Região Sudeste</td>\n",
              "      <td>NaN</td>\n",
              "      <td>Computação / Engenharia de Software / Sistemas...</td>\n",
              "      <td>Outras</td>\n",
              "      <td>NaN</td>\n",
              "      <td>Outras</td>\n",
              "      <td>Outras</td>\n",
              "      <td>1500.0</td>\n",
              "      <td>[31, 40]</td>\n",
              "      <td>NaN</td>\n",
              "      <td>não</td>\n",
              "      <td>não</td>\n",
              "      <td>Masculino</td>\n",
              "      <td>Até 1 ano</td>\n",
              "      <td>Empregado (CTL)</td>\n",
              "      <td>Estudante de Graduação</td>\n",
              "      <td>Computação / Engenharia de Software / Sistemas...</td>\n",
              "      <td>Outras</td>\n",
              "      <td>Nunca fiz cursos online</td>\n",
              "    </tr>\n",
              "    <tr>\n",
              "      <th>1</th>\n",
              "      <td>875ul998t0hqcv0871uptwf3oswcfv35</td>\n",
              "      <td>24.0</td>\n",
              "      <td>Feminino</td>\n",
              "      <td>1</td>\n",
              "      <td>São Paulo (SP)</td>\n",
              "      <td>1.0</td>\n",
              "      <td>Estudante de Graduação</td>\n",
              "      <td>Empregado (CTL)</td>\n",
              "      <td>Acima de 3000</td>\n",
              "      <td>0.0</td>\n",
              "      <td>de R$ 2.001/mês a R$ 3000/mês</td>\n",
              "      <td>Menos de 1 ano</td>\n",
              "      <td>Não tive experiência na área de TI/Engenharia ...</td>\n",
              "      <td>1</td>\n",
              "      <td>0</td>\n",
              "      <td>0</td>\n",
              "      <td>0</td>\n",
              "      <td>0</td>\n",
              "      <td>0</td>\n",
              "      <td>0</td>\n",
              "      <td>0</td>\n",
              "      <td>0</td>\n",
              "      <td>0</td>\n",
              "      <td>0</td>\n",
              "      <td>0</td>\n",
              "      <td>0</td>\n",
              "      <td>0</td>\n",
              "      <td>0</td>\n",
              "      <td>0</td>\n",
              "      <td>0</td>\n",
              "      <td>0</td>\n",
              "      <td>0</td>\n",
              "      <td>0</td>\n",
              "      <td>0</td>\n",
              "      <td>1</td>\n",
              "      <td>1</td>\n",
              "      <td>0</td>\n",
              "      <td>1</td>\n",
              "      <td>0</td>\n",
              "      <td>0</td>\n",
              "      <td>...</td>\n",
              "      <td>0</td>\n",
              "      <td>0</td>\n",
              "      <td>0</td>\n",
              "      <td>0</td>\n",
              "      <td>0</td>\n",
              "      <td>0</td>\n",
              "      <td>0</td>\n",
              "      <td>0</td>\n",
              "      <td>0</td>\n",
              "      <td>0</td>\n",
              "      <td>1</td>\n",
              "      <td>0</td>\n",
              "      <td>0</td>\n",
              "      <td>0</td>\n",
              "      <td>0</td>\n",
              "      <td>0</td>\n",
              "      <td>0</td>\n",
              "      <td>1</td>\n",
              "      <td>NaN</td>\n",
              "      <td>Data Science Academy</td>\n",
              "      <td>0.0</td>\n",
              "      <td>Região Sudeste</td>\n",
              "      <td>NaN</td>\n",
              "      <td>Computação / Engenharia de Software / Sistemas...</td>\n",
              "      <td>Educação</td>\n",
              "      <td>NaN</td>\n",
              "      <td>Data Analyst/Analista de Dados</td>\n",
              "      <td>Analista de Dados</td>\n",
              "      <td>NaN</td>\n",
              "      <td>[18, 24]</td>\n",
              "      <td>Grande</td>\n",
              "      <td>não</td>\n",
              "      <td>sim</td>\n",
              "      <td>Feminino</td>\n",
              "      <td>Até 1 ano</td>\n",
              "      <td>Empregado (CTL)</td>\n",
              "      <td>Estudante de Graduação</td>\n",
              "      <td>Computação / Engenharia de Software / Sistemas...</td>\n",
              "      <td>Educação</td>\n",
              "      <td>NaN</td>\n",
              "    </tr>\n",
              "    <tr>\n",
              "      <th>2</th>\n",
              "      <td>puscuk079vw1pusbb900pzw2xvpxtgdk</td>\n",
              "      <td>26.0</td>\n",
              "      <td>Masculino</td>\n",
              "      <td>1</td>\n",
              "      <td>São Paulo (SP)</td>\n",
              "      <td>1.0</td>\n",
              "      <td>Graduação/Bacharelado</td>\n",
              "      <td>Empregado (CTL)</td>\n",
              "      <td>Acima de 3000</td>\n",
              "      <td>0.0</td>\n",
              "      <td>de R$ 4.001/mês a R$ 6.000/mês</td>\n",
              "      <td>de 1 a 2 anos</td>\n",
              "      <td>de 6 a 10 anos</td>\n",
              "      <td>1</td>\n",
              "      <td>0</td>\n",
              "      <td>0</td>\n",
              "      <td>0</td>\n",
              "      <td>0</td>\n",
              "      <td>1</td>\n",
              "      <td>1</td>\n",
              "      <td>0</td>\n",
              "      <td>1</td>\n",
              "      <td>1</td>\n",
              "      <td>0</td>\n",
              "      <td>0</td>\n",
              "      <td>0</td>\n",
              "      <td>0</td>\n",
              "      <td>0</td>\n",
              "      <td>0</td>\n",
              "      <td>0</td>\n",
              "      <td>1</td>\n",
              "      <td>0</td>\n",
              "      <td>0</td>\n",
              "      <td>0</td>\n",
              "      <td>0</td>\n",
              "      <td>0</td>\n",
              "      <td>0</td>\n",
              "      <td>1</td>\n",
              "      <td>0</td>\n",
              "      <td>0</td>\n",
              "      <td>...</td>\n",
              "      <td>1</td>\n",
              "      <td>0</td>\n",
              "      <td>0</td>\n",
              "      <td>0</td>\n",
              "      <td>0</td>\n",
              "      <td>0</td>\n",
              "      <td>0</td>\n",
              "      <td>0</td>\n",
              "      <td>0</td>\n",
              "      <td>1</td>\n",
              "      <td>1</td>\n",
              "      <td>0</td>\n",
              "      <td>0</td>\n",
              "      <td>0</td>\n",
              "      <td>0</td>\n",
              "      <td>1</td>\n",
              "      <td>0</td>\n",
              "      <td>0</td>\n",
              "      <td>Udemy</td>\n",
              "      <td>NaN</td>\n",
              "      <td>1.0</td>\n",
              "      <td>Região Sudeste</td>\n",
              "      <td>NaN</td>\n",
              "      <td>Outras Engenharias</td>\n",
              "      <td>Indústria (Manufatura)</td>\n",
              "      <td>NaN</td>\n",
              "      <td>Outras</td>\n",
              "      <td>Outras</td>\n",
              "      <td>5000.0</td>\n",
              "      <td>[25, 30]</td>\n",
              "      <td>Grande</td>\n",
              "      <td>não</td>\n",
              "      <td>sim</td>\n",
              "      <td>Masculino</td>\n",
              "      <td>De 1 a 3 anos</td>\n",
              "      <td>Empregado (CTL)</td>\n",
              "      <td>Graduação/Bacharelado</td>\n",
              "      <td>Outras Engenharias</td>\n",
              "      <td>Indústria (Manufatura)</td>\n",
              "      <td>Udemy</td>\n",
              "    </tr>\n",
              "    <tr>\n",
              "      <th>3</th>\n",
              "      <td>rmel8ewqpbffp2mnfbzermel8eqincov</td>\n",
              "      <td>21.0</td>\n",
              "      <td>Masculino</td>\n",
              "      <td>1</td>\n",
              "      <td>São Paulo (SP)</td>\n",
              "      <td>0.0</td>\n",
              "      <td>Estudante de Graduação</td>\n",
              "      <td>Estagiário</td>\n",
              "      <td>de 11 a 50</td>\n",
              "      <td>0.0</td>\n",
              "      <td>de R$ 1.001/mês a R$ 2.000/mês</td>\n",
              "      <td>Menos de 1 ano</td>\n",
              "      <td>de 2 a 3 anos</td>\n",
              "      <td>1</td>\n",
              "      <td>0</td>\n",
              "      <td>0</td>\n",
              "      <td>0</td>\n",
              "      <td>0</td>\n",
              "      <td>1</td>\n",
              "      <td>0</td>\n",
              "      <td>0</td>\n",
              "      <td>0</td>\n",
              "      <td>0</td>\n",
              "      <td>0</td>\n",
              "      <td>0</td>\n",
              "      <td>0</td>\n",
              "      <td>0</td>\n",
              "      <td>0</td>\n",
              "      <td>0</td>\n",
              "      <td>0</td>\n",
              "      <td>0</td>\n",
              "      <td>0</td>\n",
              "      <td>0</td>\n",
              "      <td>0</td>\n",
              "      <td>0</td>\n",
              "      <td>1</td>\n",
              "      <td>0</td>\n",
              "      <td>1</td>\n",
              "      <td>0</td>\n",
              "      <td>0</td>\n",
              "      <td>...</td>\n",
              "      <td>0</td>\n",
              "      <td>0</td>\n",
              "      <td>0</td>\n",
              "      <td>0</td>\n",
              "      <td>1</td>\n",
              "      <td>0</td>\n",
              "      <td>0</td>\n",
              "      <td>0</td>\n",
              "      <td>0</td>\n",
              "      <td>1</td>\n",
              "      <td>1</td>\n",
              "      <td>1</td>\n",
              "      <td>0</td>\n",
              "      <td>0</td>\n",
              "      <td>0</td>\n",
              "      <td>0</td>\n",
              "      <td>0</td>\n",
              "      <td>0</td>\n",
              "      <td>Alura</td>\n",
              "      <td>NaN</td>\n",
              "      <td>1.0</td>\n",
              "      <td>Região Sudeste</td>\n",
              "      <td>Região Sudeste</td>\n",
              "      <td>Computação / Engenharia de Software / Sistemas...</td>\n",
              "      <td>Tecnologia/Fábrica de Software</td>\n",
              "      <td>NaN</td>\n",
              "      <td>Business Intelligence/Analista de BI</td>\n",
              "      <td>Analista de BI</td>\n",
              "      <td>1500.0</td>\n",
              "      <td>[18, 24]</td>\n",
              "      <td>NaN</td>\n",
              "      <td>não</td>\n",
              "      <td>sim</td>\n",
              "      <td>Masculino</td>\n",
              "      <td>Até 1 ano</td>\n",
              "      <td>Estagiário</td>\n",
              "      <td>Estudante de Graduação</td>\n",
              "      <td>Computação / Engenharia de Software / Sistemas...</td>\n",
              "      <td>Tecnologia/Fábrica de Software</td>\n",
              "      <td>Alura</td>\n",
              "    </tr>\n",
              "    <tr>\n",
              "      <th>4</th>\n",
              "      <td>pj9mgud4d6mdct1l7vq0pj9mgu78h6ju</td>\n",
              "      <td>27.0</td>\n",
              "      <td>Masculino</td>\n",
              "      <td>1</td>\n",
              "      <td>NaN</td>\n",
              "      <td>1.0</td>\n",
              "      <td>Graduação/Bacharelado</td>\n",
              "      <td>Freelancer</td>\n",
              "      <td>de 6 a 10</td>\n",
              "      <td>1.0</td>\n",
              "      <td>de R$ 6.001/mês a R$ 8.000/mês</td>\n",
              "      <td>de 4 a 5 anos</td>\n",
              "      <td>de 4 a 5 anos</td>\n",
              "      <td>1</td>\n",
              "      <td>1</td>\n",
              "      <td>0</td>\n",
              "      <td>0</td>\n",
              "      <td>1</td>\n",
              "      <td>1</td>\n",
              "      <td>0</td>\n",
              "      <td>0</td>\n",
              "      <td>1</td>\n",
              "      <td>1</td>\n",
              "      <td>0</td>\n",
              "      <td>1</td>\n",
              "      <td>0</td>\n",
              "      <td>0</td>\n",
              "      <td>0</td>\n",
              "      <td>1</td>\n",
              "      <td>0</td>\n",
              "      <td>0</td>\n",
              "      <td>0</td>\n",
              "      <td>0</td>\n",
              "      <td>0</td>\n",
              "      <td>0</td>\n",
              "      <td>1</td>\n",
              "      <td>0</td>\n",
              "      <td>1</td>\n",
              "      <td>1</td>\n",
              "      <td>0</td>\n",
              "      <td>...</td>\n",
              "      <td>0</td>\n",
              "      <td>0</td>\n",
              "      <td>0</td>\n",
              "      <td>0</td>\n",
              "      <td>0</td>\n",
              "      <td>0</td>\n",
              "      <td>0</td>\n",
              "      <td>1</td>\n",
              "      <td>1</td>\n",
              "      <td>1</td>\n",
              "      <td>1</td>\n",
              "      <td>0</td>\n",
              "      <td>0</td>\n",
              "      <td>0</td>\n",
              "      <td>0</td>\n",
              "      <td>0</td>\n",
              "      <td>0</td>\n",
              "      <td>0</td>\n",
              "      <td>Udemy</td>\n",
              "      <td>NaN</td>\n",
              "      <td>1.0</td>\n",
              "      <td>NaN</td>\n",
              "      <td>NaN</td>\n",
              "      <td>Computação / Engenharia de Software / Sistemas...</td>\n",
              "      <td>Internet/Ecommerce</td>\n",
              "      <td>C-level (CDO, CIO, CTO)</td>\n",
              "      <td>NaN</td>\n",
              "      <td>NaN</td>\n",
              "      <td>7500.0</td>\n",
              "      <td>[25, 30]</td>\n",
              "      <td>Pequena</td>\n",
              "      <td>sim</td>\n",
              "      <td>sim</td>\n",
              "      <td>Masculino</td>\n",
              "      <td>De 3 a 5 anos</td>\n",
              "      <td>Freelancer</td>\n",
              "      <td>Graduação/Bacharelado</td>\n",
              "      <td>Computação / Engenharia de Software / Sistemas...</td>\n",
              "      <td>Internet/Ecommerce</td>\n",
              "      <td>Udemy</td>\n",
              "    </tr>\n",
              "  </tbody>\n",
              "</table>\n",
              "<p>5 rows × 183 columns</p>\n",
              "</div>"
            ],
            "text/plain": [
              "                       ('P0', 'id')  ...      plataforma_favorita\n",
              "0  v9otv8j9wdvjrv9otvwnn9owhzq54ktv  ...  Nunca fiz cursos online\n",
              "1  875ul998t0hqcv0871uptwf3oswcfv35  ...                      NaN\n",
              "2  puscuk079vw1pusbb900pzw2xvpxtgdk  ...                    Udemy\n",
              "3  rmel8ewqpbffp2mnfbzermel8eqincov  ...                    Alura\n",
              "4  pj9mgud4d6mdct1l7vq0pj9mgu78h6ju  ...                    Udemy\n",
              "\n",
              "[5 rows x 183 columns]"
            ]
          },
          "metadata": {
            "tags": []
          },
          "execution_count": 130
        }
      ]
    },
    {
      "cell_type": "markdown",
      "metadata": {
        "id": "SeSsjna0PtwA"
      },
      "source": [
        "#**Tratamento do Conjunto de Dados**\n",
        "\n",
        "O objetivo é limpar o conjunto de dados bem como entender suas variáveis."
      ]
    },
    {
      "cell_type": "markdown",
      "metadata": {
        "id": "IatvUrgMP_cE"
      },
      "source": [
        "##**Verificando Informações Faltantes**"
      ]
    },
    {
      "cell_type": "code",
      "metadata": {
        "colab": {
          "base_uri": "https://localhost:8080/"
        },
        "id": "E2Y5qDuAQF0H",
        "outputId": "8110573b-f8db-44da-bdb2-95a5fd2a507f"
      },
      "source": [
        "dados.isnull().sum()"
      ],
      "execution_count": 40,
      "outputs": [
        {
          "output_type": "execute_result",
          "data": {
            "text/plain": [
              "('P0', 'id')                             0\n",
              "('P1', 'age')                           24\n",
              "('P2', 'gender')                         3\n",
              "('P3', 'living_in_brasil')               0\n",
              "('P5', 'living_state')                 337\n",
              "                                      ... \n",
              "('D2', 'origin_macroregion')          1440\n",
              "('D3', 'anonymized_degree_area')        35\n",
              "('D4', 'anonymized_market_sector')     243\n",
              "('D5', 'anonymized_manager_level')    1460\n",
              "('D6', 'anonymized_role')              514\n",
              "Length: 170, dtype: int64"
            ]
          },
          "metadata": {
            "tags": []
          },
          "execution_count": 40
        }
      ]
    },
    {
      "cell_type": "markdown",
      "metadata": {
        "id": "Qvr2y3elQOXS"
      },
      "source": [
        "Algumas informações importantes para a análise possuem ausência de dados, como idade por exemplo."
      ]
    },
    {
      "cell_type": "code",
      "metadata": {
        "colab": {
          "base_uri": "https://localhost:8080/"
        },
        "id": "ggeilNTWQemI",
        "outputId": "a1064a43-4095-474b-806a-1473d4851749"
      },
      "source": [
        "# Colunas com dados faltantes\n",
        "\n",
        "dados.isnull().sum() != 0"
      ],
      "execution_count": 41,
      "outputs": [
        {
          "output_type": "execute_result",
          "data": {
            "text/plain": [
              "('P0', 'id')                          False\n",
              "('P1', 'age')                          True\n",
              "('P2', 'gender')                       True\n",
              "('P3', 'living_in_brasil')            False\n",
              "('P5', 'living_state')                 True\n",
              "                                      ...  \n",
              "('D2', 'origin_macroregion')           True\n",
              "('D3', 'anonymized_degree_area')       True\n",
              "('D4', 'anonymized_market_sector')     True\n",
              "('D5', 'anonymized_manager_level')     True\n",
              "('D6', 'anonymized_role')              True\n",
              "Length: 170, dtype: bool"
            ]
          },
          "metadata": {
            "tags": []
          },
          "execution_count": 41
        }
      ]
    },
    {
      "cell_type": "code",
      "metadata": {
        "colab": {
          "base_uri": "https://localhost:8080/"
        },
        "id": "KliXcUTCQojg",
        "outputId": "eddece86-6798-4f5d-c515-fcb6e751e067"
      },
      "source": [
        "# Total de linhas sem resposta em cada coluna de dados faltantes\n",
        "\n",
        "dados.isnull().sum()[dados.isnull().sum() != 0]"
      ],
      "execution_count": 42,
      "outputs": [
        {
          "output_type": "execute_result",
          "data": {
            "text/plain": [
              "('P1', 'age')                                      24\n",
              "('P2', 'gender')                                    3\n",
              "('P5', 'living_state')                            337\n",
              "('P6', 'born_or_graduated')                        34\n",
              "('P12', 'workers_number')                         238\n",
              "('P13', 'manager')                                238\n",
              "('P16', 'salary_range')                           238\n",
              "('P22', 'most_used_proggraming_languages')        859\n",
              "('P29', 'have_data_warehouse')                    972\n",
              "('P35', 'data_science_plataforms_preference')     140\n",
              "('P35', 'other')                                 1625\n",
              "('P36', 'draw_participation')                       4\n",
              "('D1', 'living_macroregion')                      337\n",
              "('D2', 'origin_macroregion')                     1440\n",
              "('D3', 'anonymized_degree_area')                   35\n",
              "('D4', 'anonymized_market_sector')                243\n",
              "('D5', 'anonymized_manager_level')               1460\n",
              "('D6', 'anonymized_role')                         514\n",
              "dtype: int64"
            ]
          },
          "metadata": {
            "tags": []
          },
          "execution_count": 42
        }
      ]
    },
    {
      "cell_type": "code",
      "metadata": {
        "colab": {
          "base_uri": "https://localhost:8080/"
        },
        "id": "xdy1PGtxRExc",
        "outputId": "1ff1adb6-8b32-41ec-caa8-043181555853"
      },
      "source": [
        "# Proporção de linhas faltantes em cada coluna (ordem crescente)\n",
        "\n",
        "(dados.isnull().sum()[dados.isnull().sum() != 0]/dados.shape[0]).sort_values()"
      ],
      "execution_count": 43,
      "outputs": [
        {
          "output_type": "execute_result",
          "data": {
            "text/plain": [
              "('P2', 'gender')                                 0.001700\n",
              "('P36', 'draw_participation')                    0.002266\n",
              "('P1', 'age')                                    0.013598\n",
              "('P6', 'born_or_graduated')                      0.019263\n",
              "('D3', 'anonymized_degree_area')                 0.019830\n",
              "('P35', 'data_science_plataforms_preference')    0.079320\n",
              "('P12', 'workers_number')                        0.134844\n",
              "('P13', 'manager')                               0.134844\n",
              "('P16', 'salary_range')                          0.134844\n",
              "('D4', 'anonymized_market_sector')               0.137677\n",
              "('P5', 'living_state')                           0.190935\n",
              "('D1', 'living_macroregion')                     0.190935\n",
              "('D6', 'anonymized_role')                        0.291218\n",
              "('P22', 'most_used_proggraming_languages')       0.486686\n",
              "('P29', 'have_data_warehouse')                   0.550708\n",
              "('D2', 'origin_macroregion')                     0.815864\n",
              "('D5', 'anonymized_manager_level')               0.827195\n",
              "('P35', 'other')                                 0.920680\n",
              "dtype: float64"
            ]
          },
          "metadata": {
            "tags": []
          },
          "execution_count": 43
        }
      ]
    },
    {
      "cell_type": "markdown",
      "metadata": {
        "id": "YwapUGftReLp"
      },
      "source": [
        "As últimas quatro colunas do output acima possuem proporções de \"não resposta\" bem altas. São colunas que não interferem no objetivo de nossa análise.\n",
        "\n",
        "O que chama a atenção é a proporção de \"não resposta\" para a coluna **Most Used Proggraming Languages - Linguagens de programação mais usadas.** Um cientista de dados completo não se limita a uma ou duas linguagens. Talvez isso possa ter influenciado essa proporção alta."
      ]
    },
    {
      "cell_type": "markdown",
      "metadata": {
        "id": "54it8Gf0Rkqj"
      },
      "source": [
        "##**Quantidade de Entrevistados em cada Profissão**\n",
        "\n",
        "A área de dados envolve muitas profissões. O objetivo é ver a quantidade de entrevistados em cada uma delas e, se possível, agrupar algumas para deixar o conjunto de dados mais enxuto."
      ]
    },
    {
      "cell_type": "code",
      "metadata": {
        "colab": {
          "base_uri": "https://localhost:8080/"
        },
        "id": "cRrMYleiRqgj",
        "outputId": "d23fd1cf-2026-4441-b1b2-fc3272bc45c2"
      },
      "source": [
        "dados[\"('D6', 'anonymized_role')\"].value_counts()"
      ],
      "execution_count": 44,
      "outputs": [
        {
          "output_type": "execute_result",
          "data": {
            "text/plain": [
              "Desenvolvedor ou Engenheiro de Software    225\n",
              "Outras                                     220\n",
              "Data Scientist/Cientista de Dados          167\n",
              "Data Analyst/Analista de Dados             163\n",
              "Business Intelligence/Analista de BI       150\n",
              "Data Engineer/Engenheiro de Dados          130\n",
              "Business Analyst/Analista de Negócios       72\n",
              "Analista de Inteligência de Mercado         29\n",
              "Engenheiro                                  26\n",
              "Analista de Marketing                       19\n",
              "Engenheiro de Machine Learning              15\n",
              "DBA/Administrador de Banco de Dados         14\n",
              "Estatístico                                 11\n",
              "Economista                                  10\n",
              "Name: ('D6', 'anonymized_role'), dtype: int64"
            ]
          },
          "metadata": {
            "tags": []
          },
          "execution_count": 44
        }
      ]
    },
    {
      "cell_type": "markdown",
      "metadata": {
        "id": "ikB6AJ5nR69i"
      },
      "source": [
        "Observa-se no output acima uma grande quantidade de profissões que abrangem a área de dados. Por similaridade de funções, algumas foram agrupadas para otimizar a análise."
      ]
    },
    {
      "cell_type": "markdown",
      "metadata": {
        "id": "30Dz0RXvSDrz"
      },
      "source": [
        "##**Agrupando algumas profissões**\n",
        "\n",
        "As profissões foram agrupadas da seguinte forma:\n",
        "\n",
        "*   **Estatístico + Cientista de Dados**\n",
        "*   **Administrador de BD + Engenheiro de Dados**\n",
        "*   **Economista + Engenheiros + Outras**"
      ]
    },
    {
      "cell_type": "code",
      "metadata": {
        "id": "kud89EUTGrAB"
      },
      "source": [
        "profmap = {'Desenvolvedor ou Engenheiro de Software': 'Desenvolvedor/Engenheiro de Software',\n",
        "                                            'Outras': 'Outras',\n",
        "                 'Data Scientist/Cientista de Dados': 'Cientista de Dados',\n",
        "                    'Data Analyst/Analista de Dados': 'Analista de Dados',\n",
        "              'Business Intelligence/Analista de BI': 'Analista de BI',\n",
        "                 'Data Engineer/Engenheiro de Dados': 'Engenheiro de Dados',\n",
        "            'Bussiness Analyst/Analista de Negócios': 'Analista de BI',\n",
        "               'Analista de Inteligência de Mercado': 'Analista de BI',\n",
        "                                        'Engenheiro': 'Outras',\n",
        "                             'Analista de Marketing': 'Outras',\n",
        "                    'Engenheiro de Machine Learning': 'Cientista de Dados',\n",
        "               'DBA/Administrador de Banco de Dados': 'Engenheiro de Dados',\n",
        "                                       'Estatístico': 'Cientista de Dados',\n",
        "                                        'Economista': 'Outras'}\n",
        "\n",
        "dados['profissao'] = dados[\"('D6', 'anonymized_role')\"].map(profmap)"
      ],
      "execution_count": 59,
      "outputs": []
    },
    {
      "cell_type": "code",
      "metadata": {
        "id": "inVx91erSN1e"
      },
      "source": [
        "lista = ['Cientista de Dados', 'Analista de Dados', 'Analista de BI', 'Engenheiro de Dados']\n",
        "\n",
        "pds = dados[dados['profissao'].isin(lista)] #Booleano pra voltar apenas as profissões listadas acima\n",
        "\n",
        "cds = dados[dados['profissao'] == 'Cientista de Dados']\n",
        "\n",
        "ads = dados[dados['profissao'] == 'Analista de Dados']\n",
        "\n",
        "abi = dados[dados['profissao'] == 'Analista de BI']\n",
        "\n",
        "eds = dados[dados['profissao'] == 'Engenheiro de Dados']"
      ],
      "execution_count": 60,
      "outputs": []
    },
    {
      "cell_type": "markdown",
      "metadata": {
        "id": "GSMNX6ZOSbUc"
      },
      "source": [
        "##**Faixa Salarial**"
      ]
    },
    {
      "cell_type": "code",
      "metadata": {
        "colab": {
          "base_uri": "https://localhost:8080/"
        },
        "id": "a9REwmJdSq-1",
        "outputId": "d0b6a88e-83af-4283-9481-427cd9802766"
      },
      "source": [
        "dados[\"('P16', 'salary_range')\"].value_counts()"
      ],
      "execution_count": 61,
      "outputs": [
        {
          "output_type": "execute_result",
          "data": {
            "text/plain": [
              "de R$ 4.001/mês a R$ 6.000/mês      308\n",
              "de R$ 8.001/mês a R$ 12.000/mês     237\n",
              "de R$ 6.001/mês a R$ 8.000/mês      229\n",
              "de R$ 3.001/mês a R$ 4.000/mês      219\n",
              "de R$ 1.001/mês a R$ 2.000/mês      181\n",
              "de R$ 2.001/mês a R$ 3000/mês       150\n",
              "de R$ 12.001/mês a R$ 16.000/mês     82\n",
              "Menos de R$ 1.000/mês                48\n",
              "de R$ 16.001/mês a R$ 20.000/mês     45\n",
              "de R$ 20.001/mês a R$ 25.000/mês     15\n",
              "Acima de R$ 25.001/mês               13\n",
              "Name: ('P16', 'salary_range'), dtype: int64"
            ]
          },
          "metadata": {
            "tags": []
          },
          "execution_count": 61
        }
      ]
    },
    {
      "cell_type": "markdown",
      "metadata": {
        "id": "1DH0UqLAS3L7"
      },
      "source": [
        "A variável salário será transformada para variável contínua. Além disso o salário de cada intervalo será representado pelo salário central."
      ]
    },
    {
      "cell_type": "code",
      "metadata": {
        "id": "d7p5_SBUTRk5"
      },
      "source": [
        "sala_map = {          'Menos de R$ 1.000/mês': 1000,\n",
        "             'de R$ 1.001/mês a R$ 2.000/mês': 1500,\n",
        "             'de R$ 2.001/mês a R$ 3.000/mês': 2500,\n",
        "             'de R$ 3.001/mês a R$ 4.000/mês': 3500,\n",
        "             'de R$ 4.001/mês a R$ 6.000/mês': 5000,\n",
        "             'de R$ 6.001/mês a R$ 8.000/mês': 7500,\n",
        "            'de R$ 8.001/mês a R$ 12.000/mês': 10000,\n",
        "           'de R$ 12.001/mês a R$ 16.000/mês': 14000,\n",
        "           'de R$ 16.001/mês a R$ 20.000/mês': 18000, \n",
        "            'de R$ 16001/mês a R$ 20.000/mês': 22500,\n",
        "                     'Acima de R$ 25.001/mês': 25000}\n",
        "\n",
        "dados['salario'] = dados[\"('P16', 'salary_range')\"].map(sala_map)"
      ],
      "execution_count": 62,
      "outputs": []
    },
    {
      "cell_type": "code",
      "metadata": {
        "colab": {
          "base_uri": "https://localhost:8080/",
          "height": 296
        },
        "id": "ZNUDRLMxT0gi",
        "outputId": "2e1cc9ab-dc16-404a-baf5-8bb5428682be"
      },
      "source": [
        "dados['salario'].value_counts().sort_index().plot(kind = 'bar');"
      ],
      "execution_count": 49,
      "outputs": [
        {
          "output_type": "display_data",
          "data": {
            "image/png": "[encoded data removed]",
            "text/plain": [
              "<Figure size 432x288 with 1 Axes>"
            ]
          },
          "metadata": {
            "tags": [],
            "needs_background": "light"
          }
        }
      ]
    },
    {
      "cell_type": "markdown",
      "metadata": {
        "id": "NPywkt4DUEz7"
      },
      "source": [
        "O salário que mais se destaca é o de 5.000 reais. Além disso, a faixa salarial está bem distribuída entre 3.500 e 7.500 reais."
      ]
    },
    {
      "cell_type": "markdown",
      "metadata": {
        "id": "PNA6TTXDUYKK"
      },
      "source": [
        "##**Idade**"
      ]
    },
    {
      "cell_type": "code",
      "metadata": {
        "colab": {
          "base_uri": "https://localhost:8080/",
          "height": 266
        },
        "id": "QxvmBUWmU7Ye",
        "outputId": "f641e0e4-af64-4566-f1b6-fa45d2cf047f"
      },
      "source": [
        "dados[\"('P1', 'age')\"].plot(kind = 'hist', edgecolor = 'darkblue');"
      ],
      "execution_count": 50,
      "outputs": [
        {
          "output_type": "display_data",
          "data": {
            "image/png": "[encoded data removed]",
            "text/plain": [
              "<Figure size 432x288 with 1 Axes>"
            ]
          },
          "metadata": {
            "tags": [],
            "needs_background": "light"
          }
        }
      ]
    },
    {
      "cell_type": "code",
      "metadata": {
        "colab": {
          "base_uri": "https://localhost:8080/"
        },
        "id": "aPTDdnmZVKij",
        "outputId": "ea51a41b-7648-4800-843d-38ba1084f4ce"
      },
      "source": [
        "dados[\"('P1', 'age')\"].describe().round(2)"
      ],
      "execution_count": 51,
      "outputs": [
        {
          "output_type": "execute_result",
          "data": {
            "text/plain": [
              "count    1741.0\n",
              "mean       29.8\n",
              "std         6.6\n",
              "min        18.0\n",
              "25%        25.0\n",
              "50%        29.0\n",
              "75%        34.0\n",
              "max        50.0\n",
              "Name: ('P1', 'age'), dtype: float64"
            ]
          },
          "metadata": {
            "tags": []
          },
          "execution_count": 51
        }
      ]
    },
    {
      "cell_type": "markdown",
      "metadata": {
        "id": "tHhZEtvzVa9P"
      },
      "source": [
        "A idade média de um profissional de dados é 29 anos. Por se tratar de uma carreira nova, é natural que essa média caia com o passar do tempo."
      ]
    },
    {
      "cell_type": "markdown",
      "metadata": {
        "id": "NCnndkG5V0vG"
      },
      "source": [
        "##**Categorizando a Idade**\n",
        "\n",
        "Agrupando as idades nas faixas etárias:\n",
        "\n",
        "[18, 24] - [25, 30] - [31, 40] - [40, 50]"
      ]
    },
    {
      "cell_type": "code",
      "metadata": {
        "id": "QvRWzezqWFxJ"
      },
      "source": [
        "cortes = [0, 24, 30, 40, 100]\n",
        "nomes = ['[18, 24]', '[25, 30]', '[31, 40]', '[41, 50]']"
      ],
      "execution_count": 52,
      "outputs": []
    },
    {
      "cell_type": "markdown",
      "metadata": {
        "id": "yhtCmIKhWc6L"
      },
      "source": [
        "##**Tempo de Experiência na Área**"
      ]
    },
    {
      "cell_type": "code",
      "metadata": {
        "colab": {
          "base_uri": "https://localhost:8080/",
          "height": 282
        },
        "id": "awU4fSAlWj3Z",
        "outputId": "f867f6a8-846f-4d56-f130-2dd41b9335d4"
      },
      "source": [
        "dados[\"('P17', 'time_experience_data_science')\"].value_counts().plot(kind = 'barh')"
      ],
      "execution_count": 53,
      "outputs": [
        {
          "output_type": "execute_result",
          "data": {
            "text/plain": [
              "<matplotlib.axes._subplots.AxesSubplot at 0x7f40899ab090>"
            ]
          },
          "metadata": {
            "tags": []
          },
          "execution_count": 53
        },
        {
          "output_type": "display_data",
          "data": {
            "image/png": "[encoded data removed]",
            "text/plain": [
              "<Figure size 432x288 with 1 Axes>"
            ]
          },
          "metadata": {
            "tags": [],
            "needs_background": "light"
          }
        }
      ]
    },
    {
      "cell_type": "markdown",
      "metadata": {
        "id": "EiRPkLghW1cd"
      },
      "source": [
        "##**Categorizando o Tempo de Experiência**"
      ]
    },
    {
      "cell_type": "code",
      "metadata": {
        "id": "U7pRx61uO34E"
      },
      "source": [
        "tempo_xs_ds = {          'Menos de 1 ano': 'Até 1 ano',\n",
        " 'Não tenho experiência na área de dados': 'Até 1 ano',\n",
        "                          'de 1 a 2 anos': 'De 1 a 3 anos',\n",
        "                          'de 2 a 3 anos': 'De 1 a 3 anos',\n",
        "                          'de 4 a 5 anos': 'De 3 a 5 anos',\n",
        "                         'de 6 a 10 anos': 'Maior que 5',\n",
        "                        'Mais de 10 anos': 'Maior que 5'}"
      ],
      "execution_count": 63,
      "outputs": []
    },
    {
      "cell_type": "markdown",
      "metadata": {
        "id": "OyEL5pwKW69D"
      },
      "source": [
        "#**Classificando o Tamanho da Empresa**\n",
        "\n",
        "O tamanho da empresa foi definido de acordo com o número de colaboradores"
      ]
    },
    {
      "cell_type": "code",
      "metadata": {
        "id": "1aYJwOsyXEoi"
      },
      "source": [
        "tammap = { 'de 1 a 5 colaboradores': 'Pequena',\n",
        "                        'de 6 a 10': 'Pequena', \n",
        "                          '11 a 50': 'Pequena', \n",
        "                         '51 a 100': 'Pequena', \n",
        "                        '101 a 500': 'Média',\n",
        "                       '501 a 1000': 'Média',\n",
        "                   'de 1001 a 3000': 'Grande', \n",
        "                    'Acima de 3000': 'Grande'}"
      ],
      "execution_count": 64,
      "outputs": []
    },
    {
      "cell_type": "markdown",
      "metadata": {
        "id": "Rr905HJVXQ0T"
      },
      "source": [
        "##**Escolaridade**\n",
        "\n",
        "Por se tratar de uma carreira nova ainda são ofertados poucos cursos na área, procipalmente graduação e pós."
      ]
    },
    {
      "cell_type": "code",
      "metadata": {
        "id": "u8R1UPb9XlZ0"
      },
      "source": [
        "from pandas.api.types import CategoricalDtype"
      ],
      "execution_count": 65,
      "outputs": []
    },
    {
      "cell_type": "code",
      "metadata": {
        "id": "LQuYpjcDPzy5"
      },
      "source": [
        "esc_map = CategoricalDtype(\n",
        "    ['Prefiro não informar', 'Não tenho graduação formal', 'Estudante de Graduação',\n",
        "     'Graduação/Bacharelado', 'Pós-graduação', 'Mestrado', 'Doutorado ou Phd'], ordered = True)"
      ],
      "execution_count": 66,
      "outputs": []
    },
    {
      "cell_type": "markdown",
      "metadata": {
        "id": "ECvF51juXvkN"
      },
      "source": [
        "##**Criando um Novo Dataset com as Informações de Maior Interesse**\n",
        "\n",
        "A seleção das variáveis se deu pelo objetivo da análise que é conhecer o perfil do profissional de dados."
      ]
    },
    {
      "cell_type": "code",
      "metadata": {
        "id": "zMr9BeZMJlbA"
      },
      "source": [
        "dados['idade'] = pd.cut(dados[\"('P1', 'age')\"], bins = cortes, labels = nomes)\n",
        "\n",
        "dados['salario'] = dados[\"('P16', 'salary_range')\"].map(sala_map)\n",
        "\n",
        "dados['tamanho_da_empresa'] = dados[\"('P12', 'workers_number')\"].map(tammap)\n",
        "\n",
        "dados['gestor'] = dados[\"('P13', 'manager')\"].map({0: 'não', 1: 'sim'})\n",
        "\n",
        "dados['se_considera_ds'] = dados[\"('P19', 'is_data_science_professional')\"].map({0: 'não', 1: 'sim'})\n",
        "\n",
        "dados['sexo'] = dados[\"('P2', 'gender')\"]\n",
        "\n",
        "dados['experiencia_ds'] = dados[\"('P17', 'time_experience_data_science')\"].map(tempo_xs_ds)\n",
        "\n",
        "dados['tipo_de_trabalho'] = dados[\"('P10', 'job_situation')\"]\n",
        "\n",
        "dados['escolaridade'] = dados[\"('P8', 'degreee_level')\"].astype(esc_map)\n",
        "\n",
        "dados['area_de_formacao'] = dados[\"('D3', 'anonymized_degree_area')\"]\n",
        "\n",
        "dados['setor_de_mercado'] = dados[\"('D4', 'anonymized_market_sector')\"]\n",
        "\n",
        "dados['plataforma_favorita'] = dados[\"('P35', 'data_science_plataforms_preference')\"]"
      ],
      "execution_count": 68,
      "outputs": []
    },
    {
      "cell_type": "markdown",
      "metadata": {
        "id": "yaNdqdWwaFX0"
      },
      "source": [
        "#**Perfil do Profissional de Dados**"
      ]
    },
    {
      "cell_type": "markdown",
      "metadata": {
        "id": "EMSxAmRkaUjd"
      },
      "source": [
        "##**1) Gênero**"
      ]
    },
    {
      "cell_type": "code",
      "metadata": {
        "colab": {
          "base_uri": "https://localhost:8080/"
        },
        "id": "EVsc5L5Ua3G2",
        "outputId": "c3594ce3-3db2-480c-f086-708e4e42c30b"
      },
      "source": [
        "(dados[\"('P2', 'gender')\"].value_counts()/dados.shape[0]).round(4)"
      ],
      "execution_count": 131,
      "outputs": [
        {
          "output_type": "execute_result",
          "data": {
            "text/plain": [
              "Masculino    0.8136\n",
              "Feminino     0.1847\n",
              "Name: ('P2', 'gender'), dtype: float64"
            ]
          },
          "metadata": {
            "tags": []
          },
          "execution_count": 131
        }
      ]
    },
    {
      "cell_type": "markdown",
      "metadata": {
        "id": "gSZUbjI7b5YE"
      },
      "source": [
        "Hoje é uma carreira majoritariamente masculina (81,36%). Mas a tendência é que o número de mulheres na área aumente com o passar do tempo. "
      ]
    },
    {
      "cell_type": "markdown",
      "metadata": {
        "id": "D_N61RTzcUd2"
      },
      "source": [
        "##**2) Moradia**"
      ]
    },
    {
      "cell_type": "code",
      "metadata": {
        "colab": {
          "base_uri": "https://localhost:8080/",
          "height": 248
        },
        "id": "UzVmfl1tbsxS",
        "outputId": "98e48ad8-246b-4a4e-d8c9-d5e89886cf60"
      },
      "source": [
        "dados[\"('P3', 'living_in_brasil')\"].value_counts().plot(kind = 'pie', autopct='%1.2f%%');"
      ],
      "execution_count": 77,
      "outputs": [
        {
          "output_type": "display_data",
          "data": {
            "image/png": "[encoded data removed]",
            "text/plain": [
              "<Figure size 432x288 with 1 Axes>"
            ]
          },
          "metadata": {
            "tags": []
          }
        }
      ]
    },
    {
      "cell_type": "markdown",
      "metadata": {
        "id": "h1FxUvLVceVx"
      },
      "source": [
        "Nota-se que a maioria dos profissionais reside no Brasil."
      ]
    },
    {
      "cell_type": "markdown",
      "metadata": {
        "id": "Qd5Y0eMDsb1v"
      },
      "source": [
        "###**Região**"
      ]
    },
    {
      "cell_type": "code",
      "metadata": {
        "colab": {
          "base_uri": "https://localhost:8080/"
        },
        "id": "5uLHDu7VsYlD",
        "outputId": "c812aaba-0f87-4730-b581-ec96cba6946e"
      },
      "source": [
        "dados.filter(regex = 'D2').value_counts()"
      ],
      "execution_count": 129,
      "outputs": [
        {
          "output_type": "execute_result",
          "data": {
            "text/plain": [
              "('D2', 'origin_macroregion')\n",
              "Região Sudeste                  154\n",
              "Região Nordeste                  77\n",
              "Região Sul                       51\n",
              "Região Centro-Oeste              26\n",
              "Região Norte                     17\n",
              "dtype: int64"
            ]
          },
          "metadata": {
            "tags": []
          },
          "execution_count": 129
        }
      ]
    },
    {
      "cell_type": "markdown",
      "metadata": {
        "id": "evlx8Ewjsek6"
      },
      "source": [
        "A maior parte das vagas se concentra no eixo RJ e SP. É natural que mais da metade dos profissionais, então, concentre moradia na região Sudeste."
      ]
    },
    {
      "cell_type": "markdown",
      "metadata": {
        "id": "w_gQlDWkdJFl"
      },
      "source": [
        "##**3) Pós Graduação**"
      ]
    },
    {
      "cell_type": "code",
      "metadata": {
        "colab": {
          "base_uri": "https://localhost:8080/"
        },
        "id": "LJy8RRRAbso1",
        "outputId": "9755cc3c-7b69-47ce-f7d7-d9dba6853ec5"
      },
      "source": [
        "(dados[\"('P8', 'degreee_level')\"].value_counts()/dados.shape[0]).round(4)\n"
      ],
      "execution_count": 132,
      "outputs": [
        {
          "output_type": "execute_result",
          "data": {
            "text/plain": [
              "Graduação/Bacharelado         0.3275\n",
              "Pós-graduação                 0.2986\n",
              "Estudante de Graduação        0.2119\n",
              "Mestrado                      0.1139\n",
              "Doutorado ou Phd              0.0283\n",
              "Não tenho graduação formal    0.0193\n",
              "Prefiro não informar          0.0006\n",
              "Name: ('P8', 'degreee_level'), dtype: float64"
            ]
          },
          "metadata": {
            "tags": []
          },
          "execution_count": 132
        }
      ]
    },
    {
      "cell_type": "code",
      "metadata": {
        "colab": {
          "base_uri": "https://localhost:8080/",
          "height": 265
        },
        "id": "ns33gMwIe4Hu",
        "outputId": "b392c2a7-73bf-4b88-de97-75e1cb38ea91"
      },
      "source": [
        "dados[\"('P8', 'degreee_level')\"].value_counts().plot(kind = 'barh');"
      ],
      "execution_count": 80,
      "outputs": [
        {
          "output_type": "display_data",
          "data": {
            "image/png": "[encoded data removed]",
            "text/plain": [
              "<Figure size 432x288 with 1 Axes>"
            ]
          },
          "metadata": {
            "tags": [],
            "needs_background": "light"
          }
        }
      ]
    },
    {
      "cell_type": "markdown",
      "metadata": {
        "id": "UPsKWnTJdYpm"
      },
      "source": [
        "Nota-se que poucos profissionais tenham uma titulação superior ao mestrado. Muitos cursos de pós graduação (MBA) vêm sendo desenvolvidos, o que ajuda a explicar uma porcentagem maior de profissionais com essa titulação."
      ]
    },
    {
      "cell_type": "markdown",
      "metadata": {
        "id": "QeZXdbKAe9IR"
      },
      "source": [
        "##**4) Situação de Emprego Atual**"
      ]
    },
    {
      "cell_type": "code",
      "metadata": {
        "colab": {
          "base_uri": "https://localhost:8080/"
        },
        "id": "wabR0LtrfEG1",
        "outputId": "e859fd2d-3bdb-4291-86a3-b1443fea8b71"
      },
      "source": [
        "dados[\"('P10', 'job_situation')\"].value_counts()"
      ],
      "execution_count": 81,
      "outputs": [
        {
          "output_type": "execute_result",
          "data": {
            "text/plain": [
              "Empregado (CTL)                                  1073\n",
              "Empreendedor ou Empregado (CNPJ)                  234\n",
              "Estagiário                                        131\n",
              "Somente Estudante (graduação)                      85\n",
              "Desempregado, buscando recolocação                 69\n",
              "Servidor Público                                   60\n",
              "Trabalho na área Acadêmica/Pesquisador             45\n",
              "Somente Estudante (pós-graduação)                  36\n",
              "Freelancer                                         23\n",
              "Prefiro não dizer                                   6\n",
              "Desempregado e não estou buscando recolocação       3\n",
              "Name: ('P10', 'job_situation'), dtype: int64"
            ]
          },
          "metadata": {
            "tags": []
          },
          "execution_count": 81
        }
      ]
    },
    {
      "cell_type": "code",
      "metadata": {
        "colab": {
          "base_uri": "https://localhost:8080/",
          "height": 524
        },
        "id": "71ahIe0VfKid",
        "outputId": "e30681db-3c94-4e99-bdbc-ffa37189bdb3"
      },
      "source": [
        "dados[\"('P10', 'job_situation')\"].value_counts().plot(kind = 'bar')"
      ],
      "execution_count": 82,
      "outputs": [
        {
          "output_type": "execute_result",
          "data": {
            "text/plain": [
              "<matplotlib.axes._subplots.AxesSubplot at 0x7f40898324d0>"
            ]
          },
          "metadata": {
            "tags": []
          },
          "execution_count": 82
        },
        {
          "output_type": "display_data",
          "data": {
            "image/png": "[encoded data removed]",
            "text/plain": [
              "<Figure size 432x288 with 1 Axes>"
            ]
          },
          "metadata": {
            "tags": [],
            "needs_background": "light"
          }
        }
      ]
    },
    {
      "cell_type": "markdown",
      "metadata": {
        "id": "bn2ooTm9fszz"
      },
      "source": [
        "A maioria dos empregados são CLT. Por se tratar de um profissional cada vez mais requisitado é natural que as empresas optem por esse tipo de contratação ao invés de PJ, por exemplo."
      ]
    },
    {
      "cell_type": "markdown",
      "metadata": {
        "id": "vzZfIkg2gGGF"
      },
      "source": [
        "##**5) Salário dos Profissionais de Dados**"
      ]
    },
    {
      "cell_type": "markdown",
      "metadata": {
        "id": "r5yluLClgbRn"
      },
      "source": [
        "###**Média Salarial de um Analista de BI**"
      ]
    },
    {
      "cell_type": "code",
      "metadata": {
        "colab": {
          "base_uri": "https://localhost:8080/"
        },
        "id": "ovXO8GuvbqCL",
        "outputId": "09c3b60d-8ea8-4170-b182-6c7a95d22015"
      },
      "source": [
        "sal_abi = abi['salario'].mean()\n",
        "\n",
        "print('O salário médio de um Analista de BI é de: R$ {:.2f}'.format(sal_abi))"
      ],
      "execution_count": 92,
      "outputs": [
        {
          "output_type": "stream",
          "text": [
            "O salário médio de um Analista de BI é de: R$ 5018.63\n"
          ],
          "name": "stdout"
        }
      ]
    },
    {
      "cell_type": "markdown",
      "metadata": {
        "id": "ht21di8Ag61u"
      },
      "source": [
        "###**Média Salarial de um Analista de Dados**"
      ]
    },
    {
      "cell_type": "code",
      "metadata": {
        "colab": {
          "base_uri": "https://localhost:8080/"
        },
        "id": "IzZu5bkPhBA5",
        "outputId": "5f4c7f61-fbbb-4840-ff9b-7e98e537d9d2"
      },
      "source": [
        "sal_ads = ads['salario'].mean()\n",
        "\n",
        "print('O salário médio de um Analista de Dados é de: R$ {:.2f}'.format(sal_ads))"
      ],
      "execution_count": 93,
      "outputs": [
        {
          "output_type": "stream",
          "text": [
            "O salário médio de um Analista de Dados é de: R$ 5393.84\n"
          ],
          "name": "stdout"
        }
      ]
    },
    {
      "cell_type": "markdown",
      "metadata": {
        "id": "8tPI0j35hTrA"
      },
      "source": [
        "###**Média Salarial de um Engenheiro de Dados**"
      ]
    },
    {
      "cell_type": "code",
      "metadata": {
        "colab": {
          "base_uri": "https://localhost:8080/"
        },
        "id": "OrEW34VfhXjh",
        "outputId": "582654f5-367d-4032-97dc-f8f13247610d"
      },
      "source": [
        "sal_eds = eds['salario'].mean()\n",
        "\n",
        "print('O salário médio de um Engenheiro de Dados é de: R$ {:.2f}'.format(sal_eds))"
      ],
      "execution_count": 96,
      "outputs": [
        {
          "output_type": "stream",
          "text": [
            "O salário médio de um Engenheiro de Dados é de: R$ 8244.19\n"
          ],
          "name": "stdout"
        }
      ]
    },
    {
      "cell_type": "markdown",
      "metadata": {
        "id": "BvVS7Yughoem"
      },
      "source": [
        "###**Média Salarial de um Cientista de Dados**"
      ]
    },
    {
      "cell_type": "code",
      "metadata": {
        "colab": {
          "base_uri": "https://localhost:8080/"
        },
        "id": "1YAAggU3hr9l",
        "outputId": "7370465a-8ccf-4391-a2a0-f3937a121582"
      },
      "source": [
        "sal_cds = cds['salario'].mean()\n",
        "\n",
        "print('O salário médio de um Cientista de Dados é de: R$ {:.2f}'.format(sal_cds))"
      ],
      "execution_count": 97,
      "outputs": [
        {
          "output_type": "stream",
          "text": [
            "O salário médio de um Cientista de Dados é de: R$ 7028.57\n"
          ],
          "name": "stdout"
        }
      ]
    },
    {
      "cell_type": "markdown",
      "metadata": {
        "id": "SM_NxPtciEZ-"
      },
      "source": [
        "##**6) Média Salarial por Tempo de Experiência**"
      ]
    },
    {
      "cell_type": "markdown",
      "metadata": {
        "id": "cVkvUlCUiPOz"
      },
      "source": [
        "###**Analista de BI**"
      ]
    },
    {
      "cell_type": "code",
      "metadata": {
        "colab": {
          "base_uri": "https://localhost:8080/",
          "height": 204
        },
        "id": "jj-JDHJ9icmL",
        "outputId": "8b9117ba-e7ba-4fb1-cd0a-8afea76da7b0"
      },
      "source": [
        "abi['salario'].groupby(abi['experiencia_ds']).describe()[['count', 'mean']].round(2)"
      ],
      "execution_count": 99,
      "outputs": [
        {
          "output_type": "execute_result",
          "data": {
            "text/html": [
              "<div>\n",
              "<style scoped>\n",
              "    .dataframe tbody tr th:only-of-type {\n",
              "        vertical-align: middle;\n",
              "    }\n",
              "\n",
              "    .dataframe tbody tr th {\n",
              "        vertical-align: top;\n",
              "    }\n",
              "\n",
              "    .dataframe thead th {\n",
              "        text-align: right;\n",
              "    }\n",
              "</style>\n",
              "<table border=\"1\" class=\"dataframe\">\n",
              "  <thead>\n",
              "    <tr style=\"text-align: right;\">\n",
              "      <th></th>\n",
              "      <th>count</th>\n",
              "      <th>mean</th>\n",
              "    </tr>\n",
              "    <tr>\n",
              "      <th>experiencia_ds</th>\n",
              "      <th></th>\n",
              "      <th></th>\n",
              "    </tr>\n",
              "  </thead>\n",
              "  <tbody>\n",
              "    <tr>\n",
              "      <th>Até 1 ano</th>\n",
              "      <td>48.0</td>\n",
              "      <td>3093.75</td>\n",
              "    </tr>\n",
              "    <tr>\n",
              "      <th>De 1 a 3 anos</th>\n",
              "      <td>60.0</td>\n",
              "      <td>4308.33</td>\n",
              "    </tr>\n",
              "    <tr>\n",
              "      <th>De 3 a 5 anos</th>\n",
              "      <td>21.0</td>\n",
              "      <td>6285.71</td>\n",
              "    </tr>\n",
              "    <tr>\n",
              "      <th>Maior que 5</th>\n",
              "      <td>32.0</td>\n",
              "      <td>8406.25</td>\n",
              "    </tr>\n",
              "  </tbody>\n",
              "</table>\n",
              "</div>"
            ],
            "text/plain": [
              "                count     mean\n",
              "experiencia_ds                \n",
              "Até 1 ano        48.0  3093.75\n",
              "De 1 a 3 anos    60.0  4308.33\n",
              "De 3 a 5 anos    21.0  6285.71\n",
              "Maior que 5      32.0  8406.25"
            ]
          },
          "metadata": {
            "tags": []
          },
          "execution_count": 99
        }
      ]
    },
    {
      "cell_type": "markdown",
      "metadata": {
        "id": "1jhmPfvwiR-e"
      },
      "source": [
        "###**Analista de Dados**"
      ]
    },
    {
      "cell_type": "code",
      "metadata": {
        "colab": {
          "base_uri": "https://localhost:8080/",
          "height": 204
        },
        "id": "44kR49UrifTq",
        "outputId": "cfd2880c-be24-46cc-ad93-636f524a338c"
      },
      "source": [
        "ads['salario'].groupby(ads['experiencia_ds']).describe()[['count', 'mean']].round(2)"
      ],
      "execution_count": 100,
      "outputs": [
        {
          "output_type": "execute_result",
          "data": {
            "text/html": [
              "<div>\n",
              "<style scoped>\n",
              "    .dataframe tbody tr th:only-of-type {\n",
              "        vertical-align: middle;\n",
              "    }\n",
              "\n",
              "    .dataframe tbody tr th {\n",
              "        vertical-align: top;\n",
              "    }\n",
              "\n",
              "    .dataframe thead th {\n",
              "        text-align: right;\n",
              "    }\n",
              "</style>\n",
              "<table border=\"1\" class=\"dataframe\">\n",
              "  <thead>\n",
              "    <tr style=\"text-align: right;\">\n",
              "      <th></th>\n",
              "      <th>count</th>\n",
              "      <th>mean</th>\n",
              "    </tr>\n",
              "    <tr>\n",
              "      <th>experiencia_ds</th>\n",
              "      <th></th>\n",
              "      <th></th>\n",
              "    </tr>\n",
              "  </thead>\n",
              "  <tbody>\n",
              "    <tr>\n",
              "      <th>Até 1 ano</th>\n",
              "      <td>37.0</td>\n",
              "      <td>3608.11</td>\n",
              "    </tr>\n",
              "    <tr>\n",
              "      <th>De 1 a 3 anos</th>\n",
              "      <td>63.0</td>\n",
              "      <td>4944.44</td>\n",
              "    </tr>\n",
              "    <tr>\n",
              "      <th>De 3 a 5 anos</th>\n",
              "      <td>21.0</td>\n",
              "      <td>6690.48</td>\n",
              "    </tr>\n",
              "    <tr>\n",
              "      <th>Maior que 5</th>\n",
              "      <td>25.0</td>\n",
              "      <td>8080.00</td>\n",
              "    </tr>\n",
              "  </tbody>\n",
              "</table>\n",
              "</div>"
            ],
            "text/plain": [
              "                count     mean\n",
              "experiencia_ds                \n",
              "Até 1 ano        37.0  3608.11\n",
              "De 1 a 3 anos    63.0  4944.44\n",
              "De 3 a 5 anos    21.0  6690.48\n",
              "Maior que 5      25.0  8080.00"
            ]
          },
          "metadata": {
            "tags": []
          },
          "execution_count": 100
        }
      ]
    },
    {
      "cell_type": "markdown",
      "metadata": {
        "id": "xRIEK4LoiVBQ"
      },
      "source": [
        "###**Engenheiro de Dados**"
      ]
    },
    {
      "cell_type": "code",
      "metadata": {
        "colab": {
          "base_uri": "https://localhost:8080/",
          "height": 204
        },
        "id": "L424hdduiml1",
        "outputId": "f57670b6-17d7-47fa-c3e3-645f2f580e66"
      },
      "source": [
        "eds['salario'].groupby(eds['experiencia_ds']).describe()[['count', 'mean']].round(2)"
      ],
      "execution_count": 101,
      "outputs": [
        {
          "output_type": "execute_result",
          "data": {
            "text/html": [
              "<div>\n",
              "<style scoped>\n",
              "    .dataframe tbody tr th:only-of-type {\n",
              "        vertical-align: middle;\n",
              "    }\n",
              "\n",
              "    .dataframe tbody tr th {\n",
              "        vertical-align: top;\n",
              "    }\n",
              "\n",
              "    .dataframe thead th {\n",
              "        text-align: right;\n",
              "    }\n",
              "</style>\n",
              "<table border=\"1\" class=\"dataframe\">\n",
              "  <thead>\n",
              "    <tr style=\"text-align: right;\">\n",
              "      <th></th>\n",
              "      <th>count</th>\n",
              "      <th>mean</th>\n",
              "    </tr>\n",
              "    <tr>\n",
              "      <th>experiencia_ds</th>\n",
              "      <th></th>\n",
              "      <th></th>\n",
              "    </tr>\n",
              "  </thead>\n",
              "  <tbody>\n",
              "    <tr>\n",
              "      <th>Até 1 ano</th>\n",
              "      <td>24.0</td>\n",
              "      <td>5479.17</td>\n",
              "    </tr>\n",
              "    <tr>\n",
              "      <th>De 1 a 3 anos</th>\n",
              "      <td>51.0</td>\n",
              "      <td>6941.18</td>\n",
              "    </tr>\n",
              "    <tr>\n",
              "      <th>De 3 a 5 anos</th>\n",
              "      <td>22.0</td>\n",
              "      <td>9000.00</td>\n",
              "    </tr>\n",
              "    <tr>\n",
              "      <th>Maior que 5</th>\n",
              "      <td>32.0</td>\n",
              "      <td>11875.00</td>\n",
              "    </tr>\n",
              "  </tbody>\n",
              "</table>\n",
              "</div>"
            ],
            "text/plain": [
              "                count      mean\n",
              "experiencia_ds                 \n",
              "Até 1 ano        24.0   5479.17\n",
              "De 1 a 3 anos    51.0   6941.18\n",
              "De 3 a 5 anos    22.0   9000.00\n",
              "Maior que 5      32.0  11875.00"
            ]
          },
          "metadata": {
            "tags": []
          },
          "execution_count": 101
        }
      ]
    },
    {
      "cell_type": "markdown",
      "metadata": {
        "id": "1WQfaq3LiYtq"
      },
      "source": [
        "###**Cientista de Dados**"
      ]
    },
    {
      "cell_type": "code",
      "metadata": {
        "colab": {
          "base_uri": "https://localhost:8080/",
          "height": 204
        },
        "id": "QASTIIeNisKM",
        "outputId": "99d20423-47e8-48b1-ec66-4e533c20229c"
      },
      "source": [
        "cds['salario'].groupby(cds['experiencia_ds']).describe()[['count', 'mean']].round(2)"
      ],
      "execution_count": 102,
      "outputs": [
        {
          "output_type": "execute_result",
          "data": {
            "text/html": [
              "<div>\n",
              "<style scoped>\n",
              "    .dataframe tbody tr th:only-of-type {\n",
              "        vertical-align: middle;\n",
              "    }\n",
              "\n",
              "    .dataframe tbody tr th {\n",
              "        vertical-align: top;\n",
              "    }\n",
              "\n",
              "    .dataframe thead th {\n",
              "        text-align: right;\n",
              "    }\n",
              "</style>\n",
              "<table border=\"1\" class=\"dataframe\">\n",
              "  <thead>\n",
              "    <tr style=\"text-align: right;\">\n",
              "      <th></th>\n",
              "      <th>count</th>\n",
              "      <th>mean</th>\n",
              "    </tr>\n",
              "    <tr>\n",
              "      <th>experiencia_ds</th>\n",
              "      <th></th>\n",
              "      <th></th>\n",
              "    </tr>\n",
              "  </thead>\n",
              "  <tbody>\n",
              "    <tr>\n",
              "      <th>Até 1 ano</th>\n",
              "      <td>35.0</td>\n",
              "      <td>3900.00</td>\n",
              "    </tr>\n",
              "    <tr>\n",
              "      <th>De 1 a 3 anos</th>\n",
              "      <td>94.0</td>\n",
              "      <td>6303.19</td>\n",
              "    </tr>\n",
              "    <tr>\n",
              "      <th>De 3 a 5 anos</th>\n",
              "      <td>24.0</td>\n",
              "      <td>10104.17</td>\n",
              "    </tr>\n",
              "    <tr>\n",
              "      <th>Maior que 5</th>\n",
              "      <td>22.0</td>\n",
              "      <td>11750.00</td>\n",
              "    </tr>\n",
              "  </tbody>\n",
              "</table>\n",
              "</div>"
            ],
            "text/plain": [
              "                count      mean\n",
              "experiencia_ds                 \n",
              "Até 1 ano        35.0   3900.00\n",
              "De 1 a 3 anos    94.0   6303.19\n",
              "De 3 a 5 anos    24.0  10104.17\n",
              "Maior que 5      22.0  11750.00"
            ]
          },
          "metadata": {
            "tags": []
          },
          "execution_count": 102
        }
      ]
    },
    {
      "cell_type": "markdown",
      "metadata": {
        "id": "jnqLc9UFixF-"
      },
      "source": [
        "Quanto maior experiência na área maior é o salário. Vale ressaltar que o salário para quem tem menos de um ano de experiência, em todas as profissões destacadas, é superior aos 3.000 reais."
      ]
    },
    {
      "cell_type": "markdown",
      "metadata": {
        "id": "YJ-tiwBgjJg3"
      },
      "source": [
        "##**7) Média Salarial por Sexo**"
      ]
    },
    {
      "cell_type": "markdown",
      "metadata": {
        "id": "kvANJVBejMdQ"
      },
      "source": [
        "###**Analista de BI**"
      ]
    },
    {
      "cell_type": "code",
      "metadata": {
        "colab": {
          "base_uri": "https://localhost:8080/",
          "height": 142
        },
        "id": "2JhwQiACjMry",
        "outputId": "3c6e06a4-0a03-460f-bf1d-ca104b140eae"
      },
      "source": [
        "abi['salario'].groupby(abi['sexo']).describe()[['count', 'mean']].round(2)"
      ],
      "execution_count": 103,
      "outputs": [
        {
          "output_type": "execute_result",
          "data": {
            "text/html": [
              "<div>\n",
              "<style scoped>\n",
              "    .dataframe tbody tr th:only-of-type {\n",
              "        vertical-align: middle;\n",
              "    }\n",
              "\n",
              "    .dataframe tbody tr th {\n",
              "        vertical-align: top;\n",
              "    }\n",
              "\n",
              "    .dataframe thead th {\n",
              "        text-align: right;\n",
              "    }\n",
              "</style>\n",
              "<table border=\"1\" class=\"dataframe\">\n",
              "  <thead>\n",
              "    <tr style=\"text-align: right;\">\n",
              "      <th></th>\n",
              "      <th>count</th>\n",
              "      <th>mean</th>\n",
              "    </tr>\n",
              "    <tr>\n",
              "      <th>sexo</th>\n",
              "      <th></th>\n",
              "      <th></th>\n",
              "    </tr>\n",
              "  </thead>\n",
              "  <tbody>\n",
              "    <tr>\n",
              "      <th>Feminino</th>\n",
              "      <td>26.0</td>\n",
              "      <td>5057.69</td>\n",
              "    </tr>\n",
              "    <tr>\n",
              "      <th>Masculino</th>\n",
              "      <td>135.0</td>\n",
              "      <td>5011.11</td>\n",
              "    </tr>\n",
              "  </tbody>\n",
              "</table>\n",
              "</div>"
            ],
            "text/plain": [
              "           count     mean\n",
              "sexo                     \n",
              "Feminino    26.0  5057.69\n",
              "Masculino  135.0  5011.11"
            ]
          },
          "metadata": {
            "tags": []
          },
          "execution_count": 103
        }
      ]
    },
    {
      "cell_type": "markdown",
      "metadata": {
        "id": "xytUx6MnjXrm"
      },
      "source": [
        "###**Analista de Dados**"
      ]
    },
    {
      "cell_type": "code",
      "metadata": {
        "colab": {
          "base_uri": "https://localhost:8080/",
          "height": 142
        },
        "id": "2-PS99jwja_y",
        "outputId": "d0199381-a722-4fb3-c53c-5647730bc60b"
      },
      "source": [
        "ads['salario'].groupby(ads['sexo']).describe()[['count', 'mean']].round(2)"
      ],
      "execution_count": 104,
      "outputs": [
        {
          "output_type": "execute_result",
          "data": {
            "text/html": [
              "<div>\n",
              "<style scoped>\n",
              "    .dataframe tbody tr th:only-of-type {\n",
              "        vertical-align: middle;\n",
              "    }\n",
              "\n",
              "    .dataframe tbody tr th {\n",
              "        vertical-align: top;\n",
              "    }\n",
              "\n",
              "    .dataframe thead th {\n",
              "        text-align: right;\n",
              "    }\n",
              "</style>\n",
              "<table border=\"1\" class=\"dataframe\">\n",
              "  <thead>\n",
              "    <tr style=\"text-align: right;\">\n",
              "      <th></th>\n",
              "      <th>count</th>\n",
              "      <th>mean</th>\n",
              "    </tr>\n",
              "    <tr>\n",
              "      <th>sexo</th>\n",
              "      <th></th>\n",
              "      <th></th>\n",
              "    </tr>\n",
              "  </thead>\n",
              "  <tbody>\n",
              "    <tr>\n",
              "      <th>Feminino</th>\n",
              "      <td>33.0</td>\n",
              "      <td>5363.64</td>\n",
              "    </tr>\n",
              "    <tr>\n",
              "      <th>Masculino</th>\n",
              "      <td>113.0</td>\n",
              "      <td>5402.65</td>\n",
              "    </tr>\n",
              "  </tbody>\n",
              "</table>\n",
              "</div>"
            ],
            "text/plain": [
              "           count     mean\n",
              "sexo                     \n",
              "Feminino    33.0  5363.64\n",
              "Masculino  113.0  5402.65"
            ]
          },
          "metadata": {
            "tags": []
          },
          "execution_count": 104
        }
      ]
    },
    {
      "cell_type": "markdown",
      "metadata": {
        "id": "cc028vDYjbUh"
      },
      "source": [
        "###**Engenheiro de Dados**"
      ]
    },
    {
      "cell_type": "code",
      "metadata": {
        "colab": {
          "base_uri": "https://localhost:8080/",
          "height": 142
        },
        "id": "tNtRgcBEjfLU",
        "outputId": "4a80c184-5eb3-4de9-8b8f-871121c3c532"
      },
      "source": [
        "eds['salario'].groupby(eds['sexo']).describe()[['count', 'mean']].round(2)"
      ],
      "execution_count": 105,
      "outputs": [
        {
          "output_type": "execute_result",
          "data": {
            "text/html": [
              "<div>\n",
              "<style scoped>\n",
              "    .dataframe tbody tr th:only-of-type {\n",
              "        vertical-align: middle;\n",
              "    }\n",
              "\n",
              "    .dataframe tbody tr th {\n",
              "        vertical-align: top;\n",
              "    }\n",
              "\n",
              "    .dataframe thead th {\n",
              "        text-align: right;\n",
              "    }\n",
              "</style>\n",
              "<table border=\"1\" class=\"dataframe\">\n",
              "  <thead>\n",
              "    <tr style=\"text-align: right;\">\n",
              "      <th></th>\n",
              "      <th>count</th>\n",
              "      <th>mean</th>\n",
              "    </tr>\n",
              "    <tr>\n",
              "      <th>sexo</th>\n",
              "      <th></th>\n",
              "      <th></th>\n",
              "    </tr>\n",
              "  </thead>\n",
              "  <tbody>\n",
              "    <tr>\n",
              "      <th>Feminino</th>\n",
              "      <td>18.0</td>\n",
              "      <td>6888.89</td>\n",
              "    </tr>\n",
              "    <tr>\n",
              "      <th>Masculino</th>\n",
              "      <td>111.0</td>\n",
              "      <td>8463.96</td>\n",
              "    </tr>\n",
              "  </tbody>\n",
              "</table>\n",
              "</div>"
            ],
            "text/plain": [
              "           count     mean\n",
              "sexo                     \n",
              "Feminino    18.0  6888.89\n",
              "Masculino  111.0  8463.96"
            ]
          },
          "metadata": {
            "tags": []
          },
          "execution_count": 105
        }
      ]
    },
    {
      "cell_type": "markdown",
      "metadata": {
        "id": "PJihuWGFjff9"
      },
      "source": [
        "###**Cientista de Dados**"
      ]
    },
    {
      "cell_type": "code",
      "metadata": {
        "colab": {
          "base_uri": "https://localhost:8080/",
          "height": 142
        },
        "id": "ja2wgKdnjlR6",
        "outputId": "5f691528-4bb2-4166-97c5-647128a7f726"
      },
      "source": [
        "cds['salario'].groupby(cds['sexo']).describe()[['count', 'mean']].round(2)"
      ],
      "execution_count": 106,
      "outputs": [
        {
          "output_type": "execute_result",
          "data": {
            "text/html": [
              "<div>\n",
              "<style scoped>\n",
              "    .dataframe tbody tr th:only-of-type {\n",
              "        vertical-align: middle;\n",
              "    }\n",
              "\n",
              "    .dataframe tbody tr th {\n",
              "        vertical-align: top;\n",
              "    }\n",
              "\n",
              "    .dataframe thead th {\n",
              "        text-align: right;\n",
              "    }\n",
              "</style>\n",
              "<table border=\"1\" class=\"dataframe\">\n",
              "  <thead>\n",
              "    <tr style=\"text-align: right;\">\n",
              "      <th></th>\n",
              "      <th>count</th>\n",
              "      <th>mean</th>\n",
              "    </tr>\n",
              "    <tr>\n",
              "      <th>sexo</th>\n",
              "      <th></th>\n",
              "      <th></th>\n",
              "    </tr>\n",
              "  </thead>\n",
              "  <tbody>\n",
              "    <tr>\n",
              "      <th>Feminino</th>\n",
              "      <td>28.0</td>\n",
              "      <td>6160.71</td>\n",
              "    </tr>\n",
              "    <tr>\n",
              "      <th>Masculino</th>\n",
              "      <td>146.0</td>\n",
              "      <td>7236.30</td>\n",
              "    </tr>\n",
              "  </tbody>\n",
              "</table>\n",
              "</div>"
            ],
            "text/plain": [
              "           count     mean\n",
              "sexo                     \n",
              "Feminino    28.0  6160.71\n",
              "Masculino  146.0  7236.30"
            ]
          },
          "metadata": {
            "tags": []
          },
          "execution_count": 106
        }
      ]
    },
    {
      "cell_type": "markdown",
      "metadata": {
        "id": "WduHSp3Hj4QE"
      },
      "source": [
        "À exceção de Analista de BI, nas outras três profissões o salário masculino é maior que o feminino. Chama a atenção para a discrepância dos salários nas funções de Engenheiro e Cientista de Dados, onde o salário referente ao sexo masculino é 17% e 22% maior, respectivamente, ao feminino.\n",
        "\n",
        "É algo que espera-se diminuir ao longo do tempo, pois não há o que justifique tamanha diferença."
      ]
    },
    {
      "cell_type": "markdown",
      "metadata": {
        "id": "LMXrpeoZk_-q"
      },
      "source": [
        "##**9) Linguagem de Programação**"
      ]
    },
    {
      "cell_type": "markdown",
      "metadata": {
        "id": "YHlz9j4HmBgh"
      },
      "source": [
        "###**Analista de BI**"
      ]
    },
    {
      "cell_type": "code",
      "metadata": {
        "colab": {
          "base_uri": "https://localhost:8080/"
        },
        "id": "wF6Iy-5ZmE_A",
        "outputId": "d175e71f-8145-4eca-c2f7-94d6636267e9"
      },
      "source": [
        "abi.filter(regex = 'P21').sum().sort_values(ascending = False)/abi.shape[0]"
      ],
      "execution_count": 113,
      "outputs": [
        {
          "output_type": "execute_result",
          "data": {
            "text/plain": [
              "('P21', 'sql_')                   0.424581\n",
              "('P21', 'python')                 0.324022\n",
              "('P21', 'r')                      0.145251\n",
              "('P21', 'visual_basic_vba')       0.061453\n",
              "('P21', 'sas_stata')              0.044693\n",
              "('P21', 'java')                   0.022346\n",
              "('P21', 'no_listed_languages')    0.016760\n",
              "('P21', 'dotnet')                 0.016760\n",
              "('P21', 'c_c++_c#')               0.016760\n",
              "('P21', 'php')                    0.011173\n",
              "('P21', 'matlab')                 0.011173\n",
              "('P21', 'scala')                  0.005587\n",
              "('P21', 'julia')                  0.005587\n",
              "dtype: float64"
            ]
          },
          "metadata": {
            "tags": []
          },
          "execution_count": 113
        }
      ]
    },
    {
      "cell_type": "markdown",
      "metadata": {
        "id": "YCBgqM49meIO"
      },
      "source": [
        "###**Analista de Dados**"
      ]
    },
    {
      "cell_type": "code",
      "metadata": {
        "colab": {
          "base_uri": "https://localhost:8080/"
        },
        "id": "fjjVX0Ommg6B",
        "outputId": "5c625d4a-b02b-46d2-eea5-7ab1414b101f"
      },
      "source": [
        "ads.filter(regex = 'P21').sum().sort_values(ascending = False)/ads.shape[0]"
      ],
      "execution_count": 114,
      "outputs": [
        {
          "output_type": "execute_result",
          "data": {
            "text/plain": [
              "('P21', 'sql_')                   0.723926\n",
              "('P21', 'python')                 0.662577\n",
              "('P21', 'r')                      0.233129\n",
              "('P21', 'visual_basic_vba')       0.092025\n",
              "('P21', 'sas_stata')              0.073620\n",
              "('P21', 'php')                    0.061350\n",
              "('P21', 'c_c++_c#')               0.055215\n",
              "('P21', 'java')                   0.049080\n",
              "('P21', 'matlab')                 0.030675\n",
              "('P21', 'scala')                  0.030675\n",
              "('P21', 'dotnet')                 0.012270\n",
              "('P21', 'julia')                  0.006135\n",
              "('P21', 'no_listed_languages')    0.000000\n",
              "dtype: float64"
            ]
          },
          "metadata": {
            "tags": []
          },
          "execution_count": 114
        }
      ]
    },
    {
      "cell_type": "markdown",
      "metadata": {
        "id": "xQEVcb_Ymqcb"
      },
      "source": [
        "###**Engenheiro de Dados**"
      ]
    },
    {
      "cell_type": "code",
      "metadata": {
        "colab": {
          "base_uri": "https://localhost:8080/"
        },
        "id": "M-rRSdfXmtZY",
        "outputId": "bada1a61-91cc-44f7-daa8-76e0c4867157"
      },
      "source": [
        "eds.filter(regex = 'P21').sum().sort_values(ascending = False)/eds.shape[0]"
      ],
      "execution_count": 115,
      "outputs": [
        {
          "output_type": "execute_result",
          "data": {
            "text/plain": [
              "('P21', 'python')                 0.652778\n",
              "('P21', 'sql_')                   0.604167\n",
              "('P21', 'scala')                  0.138889\n",
              "('P21', 'java')                   0.111111\n",
              "('P21', 'r')                      0.111111\n",
              "('P21', 'c_c++_c#')               0.048611\n",
              "('P21', 'php')                    0.027778\n",
              "('P21', 'sas_stata')              0.020833\n",
              "('P21', 'dotnet')                 0.020833\n",
              "('P21', 'visual_basic_vba')       0.013889\n",
              "('P21', 'no_listed_languages')    0.000000\n",
              "('P21', 'matlab')                 0.000000\n",
              "('P21', 'julia')                  0.000000\n",
              "dtype: float64"
            ]
          },
          "metadata": {
            "tags": []
          },
          "execution_count": 115
        }
      ]
    },
    {
      "cell_type": "markdown",
      "metadata": {
        "id": "Di9B0l5vmyBs"
      },
      "source": [
        "###**Cientista de Dados**"
      ]
    },
    {
      "cell_type": "code",
      "metadata": {
        "colab": {
          "base_uri": "https://localhost:8080/"
        },
        "id": "Xb91ENsNm0Xg",
        "outputId": "66ae797a-479a-48fd-bff8-6134f9af766f"
      },
      "source": [
        "cds.filter(regex = 'P21').sum().sort_values(ascending = False)/cds.shape[0]"
      ],
      "execution_count": 116,
      "outputs": [
        {
          "output_type": "execute_result",
          "data": {
            "text/plain": [
              "('P21', 'python')                 0.896373\n",
              "('P21', 'sql_')                   0.730570\n",
              "('P21', 'r')                      0.383420\n",
              "('P21', 'sas_stata')              0.088083\n",
              "('P21', 'scala')                  0.082902\n",
              "('P21', 'visual_basic_vba')       0.051813\n",
              "('P21', 'java')                   0.041451\n",
              "('P21', 'c_c++_c#')               0.031088\n",
              "('P21', 'matlab')                 0.025907\n",
              "('P21', 'julia')                  0.010363\n",
              "('P21', 'dotnet')                 0.010363\n",
              "('P21', 'php')                    0.005181\n",
              "('P21', 'no_listed_languages')    0.000000\n",
              "dtype: float64"
            ]
          },
          "metadata": {
            "tags": []
          },
          "execution_count": 116
        }
      ]
    },
    {
      "cell_type": "markdown",
      "metadata": {
        "id": "WH7bCl4bm4KA"
      },
      "source": [
        "Nota-se que as linguagens Python, R e SQL são as que predominam entre os profissionais de dados. Possuem porcentagens bem altas.\n",
        "\n",
        "Chama a atenção também a quantidade de outras linguagens utilizadas. Trabalhar com dados é complexo e exige um roll maior de conhecimento."
      ]
    },
    {
      "cell_type": "markdown",
      "metadata": {
        "id": "bg1UJ3Ypnno0"
      },
      "source": [
        "##**10) Modelos Mais Utilizados**"
      ]
    },
    {
      "cell_type": "markdown",
      "metadata": {
        "id": "B_nYNl7nn47n"
      },
      "source": [
        "###**Analista de BI**"
      ]
    },
    {
      "cell_type": "code",
      "metadata": {
        "colab": {
          "base_uri": "https://localhost:8080/"
        },
        "id": "JjyN4yqCn7un",
        "outputId": "6aecd0d4-7948-4767-ffeb-776984307b72"
      },
      "source": [
        "abi.filter(regex = 'P20').sum().sort_values(ascending = False)/abi.shape[0]"
      ],
      "execution_count": 117,
      "outputs": [
        {
          "output_type": "execute_result",
          "data": {
            "text/plain": [
              "('P20', 'no_listed_methods')             0.229050\n",
              "('P20', 'linear_regression')             0.201117\n",
              "('P20', 'decision_tree')                 0.128492\n",
              "('P20', 'cluster_analysis')              0.111732\n",
              "('P20', 'logistic_regression')           0.106145\n",
              "('P20', 'nlp')                           0.078212\n",
              "('P20', 'bayesian_inference')            0.072626\n",
              "('P20', 'neural_networks')               0.067039\n",
              "('P20', 'random_forest')                 0.050279\n",
              "('P20', 'svms')                          0.033520\n",
              "('P20', 'markov_chains')                 0.027933\n",
              "('P20', 'joint analysis')                0.027933\n",
              "('P20', 'cnns')                          0.022346\n",
              "('P20', 'gradient_boosted_machines')     0.022346\n",
              "('P20', 'glms')                          0.022346\n",
              "('P20', 'survival_analysis')             0.016760\n",
              "('P20', 'longitudinal_data_analysis')    0.011173\n",
              "('P20', 'ensemble')                      0.005587\n",
              "('P20', 'rnns')                          0.005587\n",
              "('P20', 'hmms')                          0.000000\n",
              "('P20', 'gans')                          0.000000\n",
              "dtype: float64"
            ]
          },
          "metadata": {
            "tags": []
          },
          "execution_count": 117
        }
      ]
    },
    {
      "cell_type": "markdown",
      "metadata": {
        "id": "ljR1UGWko8W0"
      },
      "source": [
        "O método mais utilizado pelo Analista de BI é o Power BI, que não estava listado no questionário."
      ]
    },
    {
      "cell_type": "markdown",
      "metadata": {
        "id": "yF6zgRVRn8FQ"
      },
      "source": [
        "###**Analista de Dados**"
      ]
    },
    {
      "cell_type": "code",
      "metadata": {
        "colab": {
          "base_uri": "https://localhost:8080/"
        },
        "id": "ZYAY7vrxn-K_",
        "outputId": "21300ccc-bf1f-47d1-e5c5-345f57dbe863"
      },
      "source": [
        "ads.filter(regex = 'P20').sum().sort_values(ascending = False)/ads.shape[0]"
      ],
      "execution_count": 118,
      "outputs": [
        {
          "output_type": "execute_result",
          "data": {
            "text/plain": [
              "('P20', 'linear_regression')             0.361963\n",
              "('P20', 'logistic_regression')           0.300613\n",
              "('P20', 'decision_tree')                 0.276074\n",
              "('P20', 'cluster_analysis')              0.251534\n",
              "('P20', 'no_listed_methods')             0.251534\n",
              "('P20', 'random_forest')                 0.214724\n",
              "('P20', 'bayesian_inference')            0.159509\n",
              "('P20', 'nlp')                           0.141104\n",
              "('P20', 'joint analysis')                0.067485\n",
              "('P20', 'svms')                          0.067485\n",
              "('P20', 'neural_networks')               0.067485\n",
              "('P20', 'gradient_boosted_machines')     0.055215\n",
              "('P20', 'glms')                          0.055215\n",
              "('P20', 'ensemble')                      0.042945\n",
              "('P20', 'survival_analysis')             0.042945\n",
              "('P20', 'longitudinal_data_analysis')    0.036810\n",
              "('P20', 'markov_chains')                 0.030675\n",
              "('P20', 'cnns')                          0.024540\n",
              "('P20', 'rnns')                          0.012270\n",
              "('P20', 'gans')                          0.000000\n",
              "('P20', 'hmms')                          0.000000\n",
              "dtype: float64"
            ]
          },
          "metadata": {
            "tags": []
          },
          "execution_count": 118
        }
      ]
    },
    {
      "cell_type": "markdown",
      "metadata": {
        "id": "N_4JwsaGn-pB"
      },
      "source": [
        "###**Engenheiro de Dados**"
      ]
    },
    {
      "cell_type": "code",
      "metadata": {
        "colab": {
          "base_uri": "https://localhost:8080/"
        },
        "id": "c5EPpkXNoCI1",
        "outputId": "bf86479c-d590-4de2-82f5-fef73a3d9a04"
      },
      "source": [
        "eds.filter(regex = 'P20').sum().sort_values(ascending = False)/eds.shape[0]"
      ],
      "execution_count": 119,
      "outputs": [
        {
          "output_type": "execute_result",
          "data": {
            "text/plain": [
              "('P20', 'no_listed_methods')             0.291667\n",
              "('P20', 'linear_regression')             0.270833\n",
              "('P20', 'decision_tree')                 0.180556\n",
              "('P20', 'nlp')                           0.159722\n",
              "('P20', 'random_forest')                 0.159722\n",
              "('P20', 'cluster_analysis')              0.145833\n",
              "('P20', 'logistic_regression')           0.145833\n",
              "('P20', 'neural_networks')               0.125000\n",
              "('P20', 'bayesian_inference')            0.104167\n",
              "('P20', 'ensemble')                      0.055556\n",
              "('P20', 'gradient_boosted_machines')     0.055556\n",
              "('P20', 'svms')                          0.055556\n",
              "('P20', 'cnns')                          0.048611\n",
              "('P20', 'rnns')                          0.041667\n",
              "('P20', 'joint analysis')                0.041667\n",
              "('P20', 'survival_analysis')             0.013889\n",
              "('P20', 'hmms')                          0.013889\n",
              "('P20', 'glms')                          0.013889\n",
              "('P20', 'markov_chains')                 0.013889\n",
              "('P20', 'longitudinal_data_analysis')    0.013889\n",
              "('P20', 'gans')                          0.000000\n",
              "dtype: float64"
            ]
          },
          "metadata": {
            "tags": []
          },
          "execution_count": 119
        }
      ]
    },
    {
      "cell_type": "markdown",
      "metadata": {
        "id": "y77gNUJopJok"
      },
      "source": [
        "O Engenheiro de Dados está mais voltado para desenvolver, construir, testar e manter banco de dados e sistemas de processamento. Assim, utiliza mais o SQL ou outro servidor para Banco de Dados."
      ]
    },
    {
      "cell_type": "markdown",
      "metadata": {
        "id": "VWNWfHTnoCfV"
      },
      "source": [
        "###**Cientista de Dados**"
      ]
    },
    {
      "cell_type": "code",
      "metadata": {
        "colab": {
          "base_uri": "https://localhost:8080/"
        },
        "id": "jfVZDXWNoEsk",
        "outputId": "32951e61-d8a8-4576-b7bb-957b61e5f36f"
      },
      "source": [
        "cds.filter(regex = 'P20').sum().sort_values(ascending = False)/cds.shape[0]"
      ],
      "execution_count": 120,
      "outputs": [
        {
          "output_type": "execute_result",
          "data": {
            "text/plain": [
              "('P20', 'linear_regression')             0.740933\n",
              "('P20', 'logistic_regression')           0.673575\n",
              "('P20', 'decision_tree')                 0.652850\n",
              "('P20', 'random_forest')                 0.647668\n",
              "('P20', 'cluster_analysis')              0.601036\n",
              "('P20', 'neural_networks')               0.461140\n",
              "('P20', 'gradient_boosted_machines')     0.445596\n",
              "('P20', 'ensemble')                      0.398964\n",
              "('P20', 'nlp')                           0.352332\n",
              "('P20', 'bayesian_inference')            0.321244\n",
              "('P20', 'svms')                          0.305699\n",
              "('P20', 'glms')                          0.290155\n",
              "('P20', 'rnns')                          0.181347\n",
              "('P20', 'longitudinal_data_analysis')    0.176166\n",
              "('P20', 'cnns')                          0.165803\n",
              "('P20', 'markov_chains')                 0.134715\n",
              "('P20', 'survival_analysis')             0.134715\n",
              "('P20', 'joint analysis')                0.067358\n",
              "('P20', 'gans')                          0.046632\n",
              "('P20', 'hmms')                          0.041451\n",
              "('P20', 'no_listed_methods')             0.036269\n",
              "dtype: float64"
            ]
          },
          "metadata": {
            "tags": []
          },
          "execution_count": 120
        }
      ]
    },
    {
      "cell_type": "markdown",
      "metadata": {
        "id": "CpKjV5s3p9nM"
      },
      "source": [
        "Tanto para Analista e Cientista de Dados, os três modelos mais utilizados são: **Regressão Linear, Regressão Logística e Árvore de Decisão**."
      ]
    },
    {
      "cell_type": "markdown",
      "metadata": {
        "id": "hzg5skCjq5wZ"
      },
      "source": [
        "##**Cursos Extras**\n",
        "\n",
        "O profissional de dados precisa se atualizar constantemente. Vamos ver as plataformas mais acessadas por esses profissionais na busca por complementar o currículo."
      ]
    },
    {
      "cell_type": "markdown",
      "metadata": {
        "id": "hYZAMXEnrRpN"
      },
      "source": [
        "###**Analista de BI**"
      ]
    },
    {
      "cell_type": "code",
      "metadata": {
        "colab": {
          "base_uri": "https://localhost:8080/"
        },
        "id": "TRpV5RILrSLC",
        "outputId": "77840d94-3c24-45bf-c184-cf2bdb86a917"
      },
      "source": [
        "abi.filter(regex = 'P34').sum().sort_values(ascending = False)/abi.shape[0]"
      ],
      "execution_count": 125,
      "outputs": [
        {
          "output_type": "execute_result",
          "data": {
            "text/plain": [
              "('P34', 'udemy')             0.709497\n",
              "('P34', 'udacity')           0.268156\n",
              "('P34', 'coursera')          0.245810\n",
              "('P34', 'other')             0.201117\n",
              "('P34', 'kaggle_learn')      0.195531\n",
              "('P34', 'height')            0.173184\n",
              "('P34', 'data_camp')         0.162011\n",
              "('P34', 'edx')               0.117318\n",
              "('P34', 'online_courses')    0.078212\n",
              "('P34', 'data_quest')        0.033520\n",
              "dtype: float64"
            ]
          },
          "metadata": {
            "tags": []
          },
          "execution_count": 125
        }
      ]
    },
    {
      "cell_type": "markdown",
      "metadata": {
        "id": "_JPCaTPkrSgb"
      },
      "source": [
        "###**Analista de Dados**"
      ]
    },
    {
      "cell_type": "code",
      "metadata": {
        "colab": {
          "base_uri": "https://localhost:8080/"
        },
        "id": "WimiQvHorSyP",
        "outputId": "9521a7c0-05e6-4823-c288-8179fd8dc73c"
      },
      "source": [
        "ads.filter(regex = 'P34').sum().sort_values(ascending = False)/ads.shape[0]"
      ],
      "execution_count": 126,
      "outputs": [
        {
          "output_type": "execute_result",
          "data": {
            "text/plain": [
              "('P34', 'udemy')             0.742331\n",
              "('P34', 'coursera')          0.435583\n",
              "('P34', 'udacity')           0.331288\n",
              "('P34', 'data_camp')         0.220859\n",
              "('P34', 'kaggle_learn')      0.208589\n",
              "('P34', 'other')             0.177914\n",
              "('P34', 'height')            0.171779\n",
              "('P34', 'edx')               0.134969\n",
              "('P34', 'online_courses')    0.061350\n",
              "('P34', 'data_quest')        0.036810\n",
              "dtype: float64"
            ]
          },
          "metadata": {
            "tags": []
          },
          "execution_count": 126
        }
      ]
    },
    {
      "cell_type": "markdown",
      "metadata": {
        "id": "99hNAmTQrS_s"
      },
      "source": [
        "###**Engenheiro de Dados**"
      ]
    },
    {
      "cell_type": "code",
      "metadata": {
        "colab": {
          "base_uri": "https://localhost:8080/"
        },
        "id": "-jgwn1qsrTbd",
        "outputId": "fef9707b-8fbf-4111-81f9-4d64da4bae7e"
      },
      "source": [
        "eds.filter(regex = 'P34').sum().sort_values(ascending = False)/eds.shape[0]"
      ],
      "execution_count": 127,
      "outputs": [
        {
          "output_type": "execute_result",
          "data": {
            "text/plain": [
              "('P34', 'udemy')             0.673611\n",
              "('P34', 'coursera')          0.388889\n",
              "('P34', 'udacity')           0.319444\n",
              "('P34', 'height')            0.256944\n",
              "('P34', 'data_camp')         0.180556\n",
              "('P34', 'edx')               0.104167\n",
              "('P34', 'online_courses')    0.097222\n",
              "('P34', 'kaggle_learn')      0.090278\n",
              "('P34', 'other')             0.083333\n",
              "('P34', 'data_quest')        0.034722\n",
              "dtype: float64"
            ]
          },
          "metadata": {
            "tags": []
          },
          "execution_count": 127
        }
      ]
    },
    {
      "cell_type": "markdown",
      "metadata": {
        "id": "OFWJCLtmrTz7"
      },
      "source": [
        "###**Cientista de Dados**"
      ]
    },
    {
      "cell_type": "code",
      "metadata": {
        "colab": {
          "base_uri": "https://localhost:8080/"
        },
        "id": "iT-c0q_nrUQJ",
        "outputId": "992118eb-32ab-43d6-a822-0a7ca6bde2ce"
      },
      "source": [
        "cds.filter(regex = 'P34').sum().sort_values(ascending = False)/cds.shape[0]"
      ],
      "execution_count": 128,
      "outputs": [
        {
          "output_type": "execute_result",
          "data": {
            "text/plain": [
              "('P34', 'udemy')             0.663212\n",
              "('P34', 'coursera')          0.632124\n",
              "('P34', 'udacity')           0.487047\n",
              "('P34', 'data_camp')         0.393782\n",
              "('P34', 'edx')               0.300518\n",
              "('P34', 'kaggle_learn')      0.295337\n",
              "('P34', 'height')            0.129534\n",
              "('P34', 'online_courses')    0.056995\n",
              "('P34', 'other')             0.046632\n",
              "('P34', 'data_quest')        0.046632\n",
              "dtype: float64"
            ]
          },
          "metadata": {
            "tags": []
          },
          "execution_count": 128
        }
      ]
    },
    {
      "cell_type": "markdown",
      "metadata": {
        "id": "ZQynzZzur-XO"
      },
      "source": [
        "Pela variedade e também pelo custo, as plataformas mais utilizadas pelos profissionais de dados na busca em complementar a formação são **Udemy e Coursera.**"
      ]
    },
    {
      "cell_type": "markdown",
      "metadata": {
        "id": "4BIh_4juvXCz"
      },
      "source": [
        "#**Considerações Finais**\n",
        "\n",
        "A carreira de dados está no seu início e vem sendo muito reconhecida. Hoje não se toma decisões sem dados. As empresas precisam otimizar processos e entender melhor o perfil da sua base de clientes para ofertar a eles produtos e melhores experiências.\n",
        "\n",
        "É uma carreira que envolve bastante estudo e atualização constantes. Agora que começam a surgir cursos de graduação voltados para a área. Acredito que o boom esteja na iminência. \n",
        "\n",
        "Mesmo assim os salário ofertados são satisfatórios ainda que consideremos o nível de experiência. Infelizmente ainda há uma discrepância de salários em relação ao gênero e espera-se que isso se nivele num futuro próximo.\n",
        "\n"
      ]
    }
  ]
}