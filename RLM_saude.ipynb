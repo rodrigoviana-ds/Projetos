{
  "nbformat": 4,
  "nbformat_minor": 0,
  "metadata": {
    "colab": {
      "name": "RLM_saude.ipynb",
      "provenance": [],
      "toc_visible": true,
      "authorship_tag": "ABX9TyPe4f/VFelDwsB28Dg9pdw2",
      "include_colab_link": true
    },
    "kernelspec": {
      "name": "python3",
      "display_name": "Python 3"
    },
    "widgets": {
      "application/vnd.jupyter.widget-state+json": {
        "b546ead82b8e49c8bce0e90c8757401a": {
          "model_module": "@jupyter-widgets/controls",
          "model_name": "HBoxModel",
          "state": {
            "_view_name": "HBoxView",
            "_dom_classes": [],
            "_model_name": "HBoxModel",
            "_view_module": "@jupyter-widgets/controls",
            "_model_module_version": "1.5.0",
            "_view_count": null,
            "_view_module_version": "1.5.0",
            "box_style": "",
            "layout": "IPY_MODEL_f605f16da21f405592820cb64ff48cfd",
            "_model_module": "@jupyter-widgets/controls",
            "children": [
              "IPY_MODEL_4450b86e51574899a77cd2aa68679b52",
              "IPY_MODEL_84e8716d1efb4e2bab590772aec913ee",
              "IPY_MODEL_14eaa3155cf5445fabdd3e4350562b2e"
            ]
          }
        },
        "f605f16da21f405592820cb64ff48cfd": {
          "model_module": "@jupyter-widgets/base",
          "model_name": "LayoutModel",
          "state": {
            "_view_name": "LayoutView",
            "grid_template_rows": null,
            "right": null,
            "justify_content": null,
            "_view_module": "@jupyter-widgets/base",
            "overflow": null,
            "_model_module_version": "1.2.0",
            "_view_count": null,
            "flex_flow": "row wrap",
            "width": "100%",
            "min_width": null,
            "border": null,
            "align_items": null,
            "bottom": null,
            "_model_module": "@jupyter-widgets/base",
            "top": null,
            "grid_column": null,
            "overflow_y": null,
            "overflow_x": null,
            "grid_auto_flow": null,
            "grid_area": null,
            "grid_template_columns": null,
            "flex": null,
            "_model_name": "LayoutModel",
            "justify_items": null,
            "grid_row": null,
            "max_height": null,
            "align_content": null,
            "visibility": null,
            "align_self": null,
            "height": null,
            "min_height": null,
            "padding": null,
            "grid_auto_rows": null,
            "grid_gap": null,
            "max_width": null,
            "order": null,
            "_view_module_version": "1.2.0",
            "grid_template_areas": null,
            "object_position": null,
            "object_fit": null,
            "grid_auto_columns": null,
            "margin": null,
            "display": "inline-flex",
            "left": null
          }
        },
        "4450b86e51574899a77cd2aa68679b52": {
          "model_module": "@jupyter-widgets/controls",
          "model_name": "HTMLModel",
          "state": {
            "_view_name": "HTMLView",
            "style": "IPY_MODEL_c6536c2286754c5bbc42646eae6719b7",
            "_dom_classes": [],
            "description": "",
            "_model_name": "HTMLModel",
            "placeholder": "​",
            "_view_module": "@jupyter-widgets/controls",
            "_model_module_version": "1.5.0",
            "value": "Done! Use &#x27;show&#x27; commands to display/save.   ",
            "_view_count": null,
            "_view_module_version": "1.5.0",
            "description_tooltip": null,
            "_model_module": "@jupyter-widgets/controls",
            "layout": "IPY_MODEL_bb79444c9c1342249ffac5a0019b3d42"
          }
        },
        "84e8716d1efb4e2bab590772aec913ee": {
          "model_module": "@jupyter-widgets/controls",
          "model_name": "FloatProgressModel",
          "state": {
            "_view_name": "ProgressView",
            "style": "IPY_MODEL_13770226597a4299af70ede71d9b06da",
            "_dom_classes": [],
            "description": "",
            "_model_name": "FloatProgressModel",
            "bar_style": "success",
            "max": 1,
            "_view_module": "@jupyter-widgets/controls",
            "_model_module_version": "1.5.0",
            "value": 1,
            "_view_count": null,
            "_view_module_version": "1.5.0",
            "orientation": "horizontal",
            "min": 0,
            "description_tooltip": null,
            "_model_module": "@jupyter-widgets/controls",
            "layout": "IPY_MODEL_ca11ac47300b44608f9e7a4c874698a3"
          }
        },
        "14eaa3155cf5445fabdd3e4350562b2e": {
          "model_module": "@jupyter-widgets/controls",
          "model_name": "HTMLModel",
          "state": {
            "_view_name": "HTMLView",
            "style": "IPY_MODEL_cc549c0dd7eb46c2997c8f46370f0029",
            "_dom_classes": [],
            "description": "",
            "_model_name": "HTMLModel",
            "placeholder": "​",
            "_view_module": "@jupyter-widgets/controls",
            "_model_module_version": "1.5.0",
            "value": " [100%]   00:00 -&gt; (00:00 left)",
            "_view_count": null,
            "_view_module_version": "1.5.0",
            "description_tooltip": null,
            "_model_module": "@jupyter-widgets/controls",
            "layout": "IPY_MODEL_cb0e5872a95e423588a08d7f7a6e21ce"
          }
        },
        "c6536c2286754c5bbc42646eae6719b7": {
          "model_module": "@jupyter-widgets/controls",
          "model_name": "DescriptionStyleModel",
          "state": {
            "_view_name": "StyleView",
            "_model_name": "DescriptionStyleModel",
            "description_width": "",
            "_view_module": "@jupyter-widgets/base",
            "_model_module_version": "1.5.0",
            "_view_count": null,
            "_view_module_version": "1.2.0",
            "_model_module": "@jupyter-widgets/controls"
          }
        },
        "bb79444c9c1342249ffac5a0019b3d42": {
          "model_module": "@jupyter-widgets/base",
          "model_name": "LayoutModel",
          "state": {
            "_view_name": "LayoutView",
            "grid_template_rows": null,
            "right": null,
            "justify_content": null,
            "_view_module": "@jupyter-widgets/base",
            "overflow": null,
            "_model_module_version": "1.2.0",
            "_view_count": null,
            "flex_flow": null,
            "width": null,
            "min_width": null,
            "border": null,
            "align_items": null,
            "bottom": null,
            "_model_module": "@jupyter-widgets/base",
            "top": null,
            "grid_column": null,
            "overflow_y": null,
            "overflow_x": null,
            "grid_auto_flow": null,
            "grid_area": null,
            "grid_template_columns": null,
            "flex": null,
            "_model_name": "LayoutModel",
            "justify_items": null,
            "grid_row": null,
            "max_height": null,
            "align_content": null,
            "visibility": null,
            "align_self": null,
            "height": null,
            "min_height": null,
            "padding": null,
            "grid_auto_rows": null,
            "grid_gap": null,
            "max_width": null,
            "order": null,
            "_view_module_version": "1.2.0",
            "grid_template_areas": null,
            "object_position": null,
            "object_fit": null,
            "grid_auto_columns": null,
            "margin": null,
            "display": null,
            "left": null
          }
        },
        "13770226597a4299af70ede71d9b06da": {
          "model_module": "@jupyter-widgets/controls",
          "model_name": "ProgressStyleModel",
          "state": {
            "_view_name": "StyleView",
            "_model_name": "ProgressStyleModel",
            "description_width": "",
            "_view_module": "@jupyter-widgets/base",
            "_model_module_version": "1.5.0",
            "_view_count": null,
            "_view_module_version": "1.2.0",
            "bar_color": null,
            "_model_module": "@jupyter-widgets/controls"
          }
        },
        "ca11ac47300b44608f9e7a4c874698a3": {
          "model_module": "@jupyter-widgets/base",
          "model_name": "LayoutModel",
          "state": {
            "_view_name": "LayoutView",
            "grid_template_rows": null,
            "right": null,
            "justify_content": null,
            "_view_module": "@jupyter-widgets/base",
            "overflow": null,
            "_model_module_version": "1.2.0",
            "_view_count": null,
            "flex_flow": null,
            "width": null,
            "min_width": null,
            "border": null,
            "align_items": null,
            "bottom": null,
            "_model_module": "@jupyter-widgets/base",
            "top": null,
            "grid_column": null,
            "overflow_y": null,
            "overflow_x": null,
            "grid_auto_flow": null,
            "grid_area": null,
            "grid_template_columns": null,
            "flex": "2",
            "_model_name": "LayoutModel",
            "justify_items": null,
            "grid_row": null,
            "max_height": null,
            "align_content": null,
            "visibility": null,
            "align_self": null,
            "height": null,
            "min_height": null,
            "padding": null,
            "grid_auto_rows": null,
            "grid_gap": null,
            "max_width": null,
            "order": null,
            "_view_module_version": "1.2.0",
            "grid_template_areas": null,
            "object_position": null,
            "object_fit": null,
            "grid_auto_columns": null,
            "margin": null,
            "display": null,
            "left": null
          }
        },
        "cc549c0dd7eb46c2997c8f46370f0029": {
          "model_module": "@jupyter-widgets/controls",
          "model_name": "DescriptionStyleModel",
          "state": {
            "_view_name": "StyleView",
            "_model_name": "DescriptionStyleModel",
            "description_width": "",
            "_view_module": "@jupyter-widgets/base",
            "_model_module_version": "1.5.0",
            "_view_count": null,
            "_view_module_version": "1.2.0",
            "_model_module": "@jupyter-widgets/controls"
          }
        },
        "cb0e5872a95e423588a08d7f7a6e21ce": {
          "model_module": "@jupyter-widgets/base",
          "model_name": "LayoutModel",
          "state": {
            "_view_name": "LayoutView",
            "grid_template_rows": null,
            "right": null,
            "justify_content": null,
            "_view_module": "@jupyter-widgets/base",
            "overflow": null,
            "_model_module_version": "1.2.0",
            "_view_count": null,
            "flex_flow": null,
            "width": null,
            "min_width": null,
            "border": null,
            "align_items": null,
            "bottom": null,
            "_model_module": "@jupyter-widgets/base",
            "top": null,
            "grid_column": null,
            "overflow_y": null,
            "overflow_x": null,
            "grid_auto_flow": null,
            "grid_area": null,
            "grid_template_columns": null,
            "flex": null,
            "_model_name": "LayoutModel",
            "justify_items": null,
            "grid_row": null,
            "max_height": null,
            "align_content": null,
            "visibility": null,
            "align_self": null,
            "height": null,
            "min_height": null,
            "padding": null,
            "grid_auto_rows": null,
            "grid_gap": null,
            "max_width": null,
            "order": null,
            "_view_module_version": "1.2.0",
            "grid_template_areas": null,
            "object_position": null,
            "object_fit": null,
            "grid_auto_columns": null,
            "margin": null,
            "display": null,
            "left": null
          }
        }
      }
    }
  },
  "cells": [
    {
      "cell_type": "markdown",
      "metadata": {
        "id": "view-in-github",
        "colab_type": "text"
      },
      "source": [
        "<a href=\"https://colab.research.google.com/github/rodrigoviana-ds/Projetos/blob/main/RLM_saude.ipynb\" target=\"_parent\"><img src=\"https://colab.research.google.com/assets/colab-badge.svg\" alt=\"Open In Colab\"/></a>"
      ]
    },
    {
      "cell_type": "markdown",
      "metadata": {
        "id": "TtCXIfCwvO8A"
      },
      "source": [
        "#**Previsão do Custo de Plano de Saúde por Pessoa**\n",
        "#**Medical Cost Data**\n",
        "\n"
      ]
    },
    {
      "cell_type": "markdown",
      "metadata": {
        "id": "c1yh9ljQz6_9"
      },
      "source": [
        "#Importação dos Dados"
      ]
    },
    {
      "cell_type": "code",
      "metadata": {
        "id": "g5NSsasLzNEY"
      },
      "source": [
        "import pandas as pd"
      ],
      "execution_count": 144,
      "outputs": []
    },
    {
      "cell_type": "code",
      "metadata": {
        "id": "99o5VLAzzYzQ"
      },
      "source": [
        "caminho = '/content/insurance.csv'\n",
        "dados = pd.read_csv(caminho)"
      ],
      "execution_count": 87,
      "outputs": []
    },
    {
      "cell_type": "code",
      "metadata": {
        "colab": {
          "base_uri": "https://localhost:8080/",
          "height": 204
        },
        "id": "19Aj8c57z2-B",
        "outputId": "5dc99b14-6314-4f2e-a481-97123538df00"
      },
      "source": [
        "dados.head()"
      ],
      "execution_count": 6,
      "outputs": [
        {
          "output_type": "execute_result",
          "data": {
            "text/html": [
              "<div>\n",
              "<style scoped>\n",
              "    .dataframe tbody tr th:only-of-type {\n",
              "        vertical-align: middle;\n",
              "    }\n",
              "\n",
              "    .dataframe tbody tr th {\n",
              "        vertical-align: top;\n",
              "    }\n",
              "\n",
              "    .dataframe thead th {\n",
              "        text-align: right;\n",
              "    }\n",
              "</style>\n",
              "<table border=\"1\" class=\"dataframe\">\n",
              "  <thead>\n",
              "    <tr style=\"text-align: right;\">\n",
              "      <th></th>\n",
              "      <th>age</th>\n",
              "      <th>sex</th>\n",
              "      <th>bmi</th>\n",
              "      <th>children</th>\n",
              "      <th>smoker</th>\n",
              "      <th>region</th>\n",
              "      <th>charges</th>\n",
              "    </tr>\n",
              "  </thead>\n",
              "  <tbody>\n",
              "    <tr>\n",
              "      <th>0</th>\n",
              "      <td>19</td>\n",
              "      <td>female</td>\n",
              "      <td>27.900</td>\n",
              "      <td>0</td>\n",
              "      <td>yes</td>\n",
              "      <td>southwest</td>\n",
              "      <td>16884.92400</td>\n",
              "    </tr>\n",
              "    <tr>\n",
              "      <th>1</th>\n",
              "      <td>18</td>\n",
              "      <td>male</td>\n",
              "      <td>33.770</td>\n",
              "      <td>1</td>\n",
              "      <td>no</td>\n",
              "      <td>southeast</td>\n",
              "      <td>1725.55230</td>\n",
              "    </tr>\n",
              "    <tr>\n",
              "      <th>2</th>\n",
              "      <td>28</td>\n",
              "      <td>male</td>\n",
              "      <td>33.000</td>\n",
              "      <td>3</td>\n",
              "      <td>no</td>\n",
              "      <td>southeast</td>\n",
              "      <td>4449.46200</td>\n",
              "    </tr>\n",
              "    <tr>\n",
              "      <th>3</th>\n",
              "      <td>33</td>\n",
              "      <td>male</td>\n",
              "      <td>22.705</td>\n",
              "      <td>0</td>\n",
              "      <td>no</td>\n",
              "      <td>northwest</td>\n",
              "      <td>21984.47061</td>\n",
              "    </tr>\n",
              "    <tr>\n",
              "      <th>4</th>\n",
              "      <td>32</td>\n",
              "      <td>male</td>\n",
              "      <td>28.880</td>\n",
              "      <td>0</td>\n",
              "      <td>no</td>\n",
              "      <td>northwest</td>\n",
              "      <td>3866.85520</td>\n",
              "    </tr>\n",
              "  </tbody>\n",
              "</table>\n",
              "</div>"
            ],
            "text/plain": [
              "   age     sex     bmi  children smoker     region      charges\n",
              "0   19  female  27.900         0    yes  southwest  16884.92400\n",
              "1   18    male  33.770         1     no  southeast   1725.55230\n",
              "2   28    male  33.000         3     no  southeast   4449.46200\n",
              "3   33    male  22.705         0     no  northwest  21984.47061\n",
              "4   32    male  28.880         0     no  northwest   3866.85520"
            ]
          },
          "metadata": {
            "tags": []
          },
          "execution_count": 6
        }
      ]
    },
    {
      "cell_type": "code",
      "metadata": {
        "colab": {
          "base_uri": "https://localhost:8080/",
          "height": 297
        },
        "id": "1GHklYqkz_nu",
        "outputId": "d78dcc2d-593c-4d1d-d49a-c04178ad10a7"
      },
      "source": [
        "dados.describe().round(2)"
      ],
      "execution_count": 7,
      "outputs": [
        {
          "output_type": "execute_result",
          "data": {
            "text/html": [
              "<div>\n",
              "<style scoped>\n",
              "    .dataframe tbody tr th:only-of-type {\n",
              "        vertical-align: middle;\n",
              "    }\n",
              "\n",
              "    .dataframe tbody tr th {\n",
              "        vertical-align: top;\n",
              "    }\n",
              "\n",
              "    .dataframe thead th {\n",
              "        text-align: right;\n",
              "    }\n",
              "</style>\n",
              "<table border=\"1\" class=\"dataframe\">\n",
              "  <thead>\n",
              "    <tr style=\"text-align: right;\">\n",
              "      <th></th>\n",
              "      <th>age</th>\n",
              "      <th>bmi</th>\n",
              "      <th>children</th>\n",
              "      <th>charges</th>\n",
              "    </tr>\n",
              "  </thead>\n",
              "  <tbody>\n",
              "    <tr>\n",
              "      <th>count</th>\n",
              "      <td>1338.00</td>\n",
              "      <td>1338.00</td>\n",
              "      <td>1338.00</td>\n",
              "      <td>1338.00</td>\n",
              "    </tr>\n",
              "    <tr>\n",
              "      <th>mean</th>\n",
              "      <td>39.21</td>\n",
              "      <td>30.66</td>\n",
              "      <td>1.09</td>\n",
              "      <td>13270.42</td>\n",
              "    </tr>\n",
              "    <tr>\n",
              "      <th>std</th>\n",
              "      <td>14.05</td>\n",
              "      <td>6.10</td>\n",
              "      <td>1.21</td>\n",
              "      <td>12110.01</td>\n",
              "    </tr>\n",
              "    <tr>\n",
              "      <th>min</th>\n",
              "      <td>18.00</td>\n",
              "      <td>15.96</td>\n",
              "      <td>0.00</td>\n",
              "      <td>1121.87</td>\n",
              "    </tr>\n",
              "    <tr>\n",
              "      <th>25%</th>\n",
              "      <td>27.00</td>\n",
              "      <td>26.30</td>\n",
              "      <td>0.00</td>\n",
              "      <td>4740.29</td>\n",
              "    </tr>\n",
              "    <tr>\n",
              "      <th>50%</th>\n",
              "      <td>39.00</td>\n",
              "      <td>30.40</td>\n",
              "      <td>1.00</td>\n",
              "      <td>9382.03</td>\n",
              "    </tr>\n",
              "    <tr>\n",
              "      <th>75%</th>\n",
              "      <td>51.00</td>\n",
              "      <td>34.69</td>\n",
              "      <td>2.00</td>\n",
              "      <td>16639.91</td>\n",
              "    </tr>\n",
              "    <tr>\n",
              "      <th>max</th>\n",
              "      <td>64.00</td>\n",
              "      <td>53.13</td>\n",
              "      <td>5.00</td>\n",
              "      <td>63770.43</td>\n",
              "    </tr>\n",
              "  </tbody>\n",
              "</table>\n",
              "</div>"
            ],
            "text/plain": [
              "           age      bmi  children   charges\n",
              "count  1338.00  1338.00   1338.00   1338.00\n",
              "mean     39.21    30.66      1.09  13270.42\n",
              "std      14.05     6.10      1.21  12110.01\n",
              "min      18.00    15.96      0.00   1121.87\n",
              "25%      27.00    26.30      0.00   4740.29\n",
              "50%      39.00    30.40      1.00   9382.03\n",
              "75%      51.00    34.69      2.00  16639.91\n",
              "max      64.00    53.13      5.00  63770.43"
            ]
          },
          "metadata": {
            "tags": []
          },
          "execution_count": 7
        }
      ]
    },
    {
      "cell_type": "code",
      "metadata": {
        "colab": {
          "base_uri": "https://localhost:8080/"
        },
        "id": "z-zqD_GkIVMp",
        "outputId": "51a65d92-3123-48d0-d920-8730aade7877"
      },
      "source": [
        "dados.shape"
      ],
      "execution_count": 88,
      "outputs": [
        {
          "output_type": "execute_result",
          "data": {
            "text/plain": [
              "(1338, 7)"
            ]
          },
          "metadata": {
            "tags": []
          },
          "execution_count": 88
        }
      ]
    },
    {
      "cell_type": "code",
      "metadata": {
        "id": "FvuEAyfM0Yh2",
        "colab": {
          "base_uri": "https://localhost:8080/"
        },
        "outputId": "79d5a646-cd41-4f6a-9801-21725c964c4c"
      },
      "source": [
        "#Instalando biblioteca de visualização\n",
        "!pip install sweetviz"
      ],
      "execution_count": 89,
      "outputs": [
        {
          "output_type": "stream",
          "text": [
            "Requirement already satisfied: sweetviz in /usr/local/lib/python3.7/dist-packages (2.0.9)\n",
            "Requirement already satisfied: scipy>=1.3.2 in /usr/local/lib/python3.7/dist-packages (from sweetviz) (1.4.1)\n",
            "Requirement already satisfied: jinja2>=2.11.1 in /usr/local/lib/python3.7/dist-packages (from sweetviz) (2.11.3)\n",
            "Requirement already satisfied: importlib-resources>=1.2.0 in /usr/local/lib/python3.7/dist-packages (from sweetviz) (5.1.2)\n",
            "Requirement already satisfied: matplotlib>=3.1.3 in /usr/local/lib/python3.7/dist-packages (from sweetviz) (3.2.2)\n",
            "Requirement already satisfied: pandas!=1.0.0,!=1.0.1,!=1.0.2,>=0.25.3 in /usr/local/lib/python3.7/dist-packages (from sweetviz) (1.1.5)\n",
            "Requirement already satisfied: tqdm>=4.43.0 in /usr/local/lib/python3.7/dist-packages (from sweetviz) (4.59.0)\n",
            "Requirement already satisfied: numpy>=1.16.0 in /usr/local/lib/python3.7/dist-packages (from sweetviz) (1.19.5)\n",
            "Requirement already satisfied: MarkupSafe>=0.23 in /usr/local/lib/python3.7/dist-packages (from jinja2>=2.11.1->sweetviz) (1.1.1)\n",
            "Requirement already satisfied: zipp>=0.4; python_version < \"3.8\" in /usr/local/lib/python3.7/dist-packages (from importlib-resources>=1.2.0->sweetviz) (3.4.1)\n",
            "Requirement already satisfied: cycler>=0.10 in /usr/local/lib/python3.7/dist-packages (from matplotlib>=3.1.3->sweetviz) (0.10.0)\n",
            "Requirement already satisfied: kiwisolver>=1.0.1 in /usr/local/lib/python3.7/dist-packages (from matplotlib>=3.1.3->sweetviz) (1.3.1)\n",
            "Requirement already satisfied: python-dateutil>=2.1 in /usr/local/lib/python3.7/dist-packages (from matplotlib>=3.1.3->sweetviz) (2.8.1)\n",
            "Requirement already satisfied: pyparsing!=2.0.4,!=2.1.2,!=2.1.6,>=2.0.1 in /usr/local/lib/python3.7/dist-packages (from matplotlib>=3.1.3->sweetviz) (2.4.7)\n",
            "Requirement already satisfied: pytz>=2017.2 in /usr/local/lib/python3.7/dist-packages (from pandas!=1.0.0,!=1.0.1,!=1.0.2,>=0.25.3->sweetviz) (2018.9)\n",
            "Requirement already satisfied: six in /usr/local/lib/python3.7/dist-packages (from cycler>=0.10->matplotlib>=3.1.3->sweetviz) (1.15.0)\n"
          ],
          "name": "stdout"
        }
      ]
    },
    {
      "cell_type": "code",
      "metadata": {
        "id": "7TLIIGRS0uKR"
      },
      "source": [
        "#Importando biblioteca\n",
        "\n",
        "import sweetviz"
      ],
      "execution_count": 90,
      "outputs": []
    },
    {
      "cell_type": "code",
      "metadata": {
        "colab": {
          "base_uri": "https://localhost:8080/",
          "height": 86,
          "referenced_widgets": [
            "b546ead82b8e49c8bce0e90c8757401a",
            "f605f16da21f405592820cb64ff48cfd",
            "4450b86e51574899a77cd2aa68679b52",
            "84e8716d1efb4e2bab590772aec913ee",
            "14eaa3155cf5445fabdd3e4350562b2e",
            "c6536c2286754c5bbc42646eae6719b7",
            "bb79444c9c1342249ffac5a0019b3d42",
            "13770226597a4299af70ede71d9b06da",
            "ca11ac47300b44608f9e7a4c874698a3",
            "cc549c0dd7eb46c2997c8f46370f0029",
            "cb0e5872a95e423588a08d7f7a6e21ce"
          ]
        },
        "id": "7D9ag8k00_TO",
        "outputId": "607b67f9-ddf7-420f-ae6c-89af4b255a0f"
      },
      "source": [
        "#Criando um arquivo html com Análise de Dados\n",
        "\n",
        "eda = sweetviz.analyze([dados, \"Seguro Saúde\"], target_feat = \"charges\")\n",
        "eda.show_html()"
      ],
      "execution_count": 91,
      "outputs": [
        {
          "output_type": "display_data",
          "data": {
            "application/vnd.jupyter.widget-view+json": {
              "model_id": "b546ead82b8e49c8bce0e90c8757401a",
              "version_minor": 0,
              "version_major": 2
            },
            "text/plain": [
              "                                             |          | [  0%]   00:00 -> (? left)"
            ]
          },
          "metadata": {
            "tags": []
          }
        },
        {
          "output_type": "stream",
          "text": [
            "Report SWEETVIZ_REPORT.html was generated! NOTEBOOK/COLAB USERS: the web browser MAY not pop up, regardless, the report IS saved in your notebook/colab files.\n"
          ],
          "name": "stdout"
        }
      ]
    },
    {
      "cell_type": "markdown",
      "metadata": {
        "id": "U0xEGrlXwR1Q"
      },
      "source": [
        "#**Pré Processamento dos Dados**\n",
        "\n",
        "\n",
        "*   Variável smoker (fumente): 0 (não) e 1 (sim)\n",
        "*   Variável resposta na escala para cada mil dólares\n",
        "\n"
      ]
    },
    {
      "cell_type": "code",
      "metadata": {
        "id": "Tx2ahteQ1lDV"
      },
      "source": [
        "dados['smoker'] = dados['smoker'].map({'yes': 1, 'no': 0})\n",
        "dados['charges'] = dados['charges']/1000"
      ],
      "execution_count": 92,
      "outputs": []
    },
    {
      "cell_type": "markdown",
      "metadata": {
        "id": "O0cIvjUiw6fv"
      },
      "source": [
        "#**Variáveis Consideradas no Modelo**\n",
        "\n",
        "\n",
        "*   BMI: Índice de Massa Corporal\n",
        "*   Smoker: fumante ou não\n",
        "*   Charges: custos\n",
        "\n",
        "\n"
      ]
    },
    {
      "cell_type": "code",
      "metadata": {
        "colab": {
          "base_uri": "https://localhost:8080/",
          "height": 204
        },
        "id": "-rrqng5f1Xhr",
        "outputId": "37446221-caed-45aa-f69f-2206966f257f"
      },
      "source": [
        "dados = dados[['bmi', 'smoker', 'charges']]\n",
        "dados.head().round(2)"
      ],
      "execution_count": 93,
      "outputs": [
        {
          "output_type": "execute_result",
          "data": {
            "text/html": [
              "<div>\n",
              "<style scoped>\n",
              "    .dataframe tbody tr th:only-of-type {\n",
              "        vertical-align: middle;\n",
              "    }\n",
              "\n",
              "    .dataframe tbody tr th {\n",
              "        vertical-align: top;\n",
              "    }\n",
              "\n",
              "    .dataframe thead th {\n",
              "        text-align: right;\n",
              "    }\n",
              "</style>\n",
              "<table border=\"1\" class=\"dataframe\">\n",
              "  <thead>\n",
              "    <tr style=\"text-align: right;\">\n",
              "      <th></th>\n",
              "      <th>bmi</th>\n",
              "      <th>smoker</th>\n",
              "      <th>charges</th>\n",
              "    </tr>\n",
              "  </thead>\n",
              "  <tbody>\n",
              "    <tr>\n",
              "      <th>0</th>\n",
              "      <td>27.90</td>\n",
              "      <td>1</td>\n",
              "      <td>16.88</td>\n",
              "    </tr>\n",
              "    <tr>\n",
              "      <th>1</th>\n",
              "      <td>33.77</td>\n",
              "      <td>0</td>\n",
              "      <td>1.73</td>\n",
              "    </tr>\n",
              "    <tr>\n",
              "      <th>2</th>\n",
              "      <td>33.00</td>\n",
              "      <td>0</td>\n",
              "      <td>4.45</td>\n",
              "    </tr>\n",
              "    <tr>\n",
              "      <th>3</th>\n",
              "      <td>22.70</td>\n",
              "      <td>0</td>\n",
              "      <td>21.98</td>\n",
              "    </tr>\n",
              "    <tr>\n",
              "      <th>4</th>\n",
              "      <td>28.88</td>\n",
              "      <td>0</td>\n",
              "      <td>3.87</td>\n",
              "    </tr>\n",
              "  </tbody>\n",
              "</table>\n",
              "</div>"
            ],
            "text/plain": [
              "     bmi  smoker  charges\n",
              "0  27.90       1    16.88\n",
              "1  33.77       0     1.73\n",
              "2  33.00       0     4.45\n",
              "3  22.70       0    21.98\n",
              "4  28.88       0     3.87"
            ]
          },
          "metadata": {
            "tags": []
          },
          "execution_count": 93
        }
      ]
    },
    {
      "cell_type": "markdown",
      "metadata": {
        "id": "tOcJcibBvqXC"
      },
      "source": [
        "#**Gráficos Pertinentes**"
      ]
    },
    {
      "cell_type": "markdown",
      "metadata": {
        "id": "KStxnW_myRz-"
      },
      "source": [
        "##**Dispersão Entre Fumantes e BMI**"
      ]
    },
    {
      "cell_type": "code",
      "metadata": {
        "id": "YYiSfDnX5PY-"
      },
      "source": [
        "import seaborn as sns"
      ],
      "execution_count": 94,
      "outputs": []
    },
    {
      "cell_type": "code",
      "metadata": {
        "colab": {
          "base_uri": "https://localhost:8080/",
          "height": 378
        },
        "id": "1pA8UB5W5Szz",
        "outputId": "e904b6ff-4aff-473b-f574-d09b63ba543c"
      },
      "source": [
        "sns.scatterplot(x = 'bmi', y = 'charges', data = dados);\n",
        "\n",
        "#A dispersão não sugere relação linear entre as variáveis"
      ],
      "execution_count": 95,
      "outputs": [
        {
          "output_type": "display_data",
          "data": {
            "image/png": "[encoded data removed]",
            "text/plain": [
              "<Figure size 600x400 with 1 Axes>"
            ]
          },
          "metadata": {
            "tags": []
          }
        }
      ]
    },
    {
      "cell_type": "markdown",
      "metadata": {
        "id": "MgGicXPWyceN"
      },
      "source": [
        "#**Categorizando Fumantes na Dispersão**"
      ]
    },
    {
      "cell_type": "code",
      "metadata": {
        "colab": {
          "base_uri": "https://localhost:8080/",
          "height": 378
        },
        "id": "h1GN7hji51xe",
        "outputId": "34fb29f1-0c15-4e81-9523-9f6afe0c834b"
      },
      "source": [
        "sns.scatterplot(x = 'bmi', y = 'charges', hue = 'smoker', data = dados);\n"
      ],
      "execution_count": 96,
      "outputs": [
        {
          "output_type": "display_data",
          "data": {
            "image/png": "[encoded data removed]",
            "text/plain": [
              "<Figure size 600x400 with 1 Axes>"
            ]
          },
          "metadata": {
            "tags": []
          }
        }
      ]
    },
    {
      "cell_type": "markdown",
      "metadata": {
        "id": "U7Q0CoLmzUXU"
      },
      "source": [
        "#**Separando a Variável Dependente da Independente**"
      ]
    },
    {
      "cell_type": "code",
      "metadata": {
        "id": "ddzYEz0LzlNY"
      },
      "source": [
        "x = dados[['bmi', 'smoker']]\n",
        "y = dados['charges']"
      ],
      "execution_count": 97,
      "outputs": []
    },
    {
      "cell_type": "markdown",
      "metadata": {
        "id": "xjpVtVcNz4tF"
      },
      "source": [
        "#**Método de Validação: Holdout**\n",
        "\n",
        "*   25% dos dados para teste\n",
        "*   75% dos dados para treinamento\n",
        "\n"
      ]
    },
    {
      "cell_type": "code",
      "metadata": {
        "id": "xfuSTrtj9wUG"
      },
      "source": [
        "import pandas as pd"
      ],
      "execution_count": 98,
      "outputs": []
    },
    {
      "cell_type": "code",
      "metadata": {
        "id": "CNWTZmSDHB_d"
      },
      "source": [
        "from sklearn.model_selection import train_test_split\n",
        "\n",
        "Xtreino, Xteste, ytreino, yteste = train_test_split(x, y, test_size = 0.25)"
      ],
      "execution_count": 99,
      "outputs": []
    },
    {
      "cell_type": "code",
      "metadata": {
        "colab": {
          "base_uri": "https://localhost:8080/"
        },
        "id": "xJCbJXvf0ON6",
        "outputId": "6a8921b8-970f-4cf1-961f-a5d6fbd016a0"
      },
      "source": [
        "Xteste.shape\n",
        "Xtreino.shape\n",
        "\n",
        "print(Xtreino.shape)\n",
        "print(Xteste.shape)"
      ],
      "execution_count": 100,
      "outputs": [
        {
          "output_type": "stream",
          "text": [
            "(1003, 2)\n",
            "(335, 2)\n"
          ],
          "name": "stdout"
        }
      ]
    },
    {
      "cell_type": "code",
      "metadata": {
        "colab": {
          "base_uri": "https://localhost:8080/",
          "height": 204
        },
        "id": "J0alFWWF0syA",
        "outputId": "4a5ba243-670d-4efb-c471-afabb4c4a77c"
      },
      "source": [
        "Xtreino.head()"
      ],
      "execution_count": 101,
      "outputs": [
        {
          "output_type": "execute_result",
          "data": {
            "text/html": [
              "<div>\n",
              "<style scoped>\n",
              "    .dataframe tbody tr th:only-of-type {\n",
              "        vertical-align: middle;\n",
              "    }\n",
              "\n",
              "    .dataframe tbody tr th {\n",
              "        vertical-align: top;\n",
              "    }\n",
              "\n",
              "    .dataframe thead th {\n",
              "        text-align: right;\n",
              "    }\n",
              "</style>\n",
              "<table border=\"1\" class=\"dataframe\">\n",
              "  <thead>\n",
              "    <tr style=\"text-align: right;\">\n",
              "      <th></th>\n",
              "      <th>bmi</th>\n",
              "      <th>smoker</th>\n",
              "    </tr>\n",
              "  </thead>\n",
              "  <tbody>\n",
              "    <tr>\n",
              "      <th>98</th>\n",
              "      <td>19.950</td>\n",
              "      <td>1</td>\n",
              "    </tr>\n",
              "    <tr>\n",
              "      <th>762</th>\n",
              "      <td>27.100</td>\n",
              "      <td>1</td>\n",
              "    </tr>\n",
              "    <tr>\n",
              "      <th>1230</th>\n",
              "      <td>34.485</td>\n",
              "      <td>1</td>\n",
              "    </tr>\n",
              "    <tr>\n",
              "      <th>1220</th>\n",
              "      <td>21.945</td>\n",
              "      <td>0</td>\n",
              "    </tr>\n",
              "    <tr>\n",
              "      <th>1056</th>\n",
              "      <td>28.900</td>\n",
              "      <td>0</td>\n",
              "    </tr>\n",
              "  </tbody>\n",
              "</table>\n",
              "</div>"
            ],
            "text/plain": [
              "         bmi  smoker\n",
              "98    19.950       1\n",
              "762   27.100       1\n",
              "1230  34.485       1\n",
              "1220  21.945       0\n",
              "1056  28.900       0"
            ]
          },
          "metadata": {
            "tags": []
          },
          "execution_count": 101
        }
      ]
    },
    {
      "cell_type": "markdown",
      "metadata": {
        "id": "Oaq8lNJ-3Jgj"
      },
      "source": [
        "#**Ajustando o Modelo de Regressão Linear**"
      ]
    },
    {
      "cell_type": "code",
      "metadata": {
        "colab": {
          "base_uri": "https://localhost:8080/"
        },
        "id": "5qn9p3CmGyuW",
        "outputId": "ad04c989-4c17-49b2-d2c9-db63ce0ef2dd"
      },
      "source": [
        "!pip install sklearn"
      ],
      "execution_count": 125,
      "outputs": [
        {
          "output_type": "stream",
          "text": [
            "Requirement already satisfied: sklearn in /usr/local/lib/python3.7/dist-packages (0.0)\n",
            "Requirement already satisfied: scikit-learn in /usr/local/lib/python3.7/dist-packages (from sklearn) (0.22.2.post1)\n",
            "Requirement already satisfied: numpy>=1.11.0 in /usr/local/lib/python3.7/dist-packages (from scikit-learn->sklearn) (1.19.5)\n",
            "Requirement already satisfied: scipy>=0.17.0 in /usr/local/lib/python3.7/dist-packages (from scikit-learn->sklearn) (1.4.1)\n",
            "Requirement already satisfied: joblib>=0.11 in /usr/local/lib/python3.7/dist-packages (from scikit-learn->sklearn) (1.0.1)\n"
          ],
          "name": "stdout"
        }
      ]
    },
    {
      "cell_type": "code",
      "metadata": {
        "id": "7pRs8MLWHCuT"
      },
      "source": [
        "import sklearn"
      ],
      "execution_count": 126,
      "outputs": []
    },
    {
      "cell_type": "code",
      "metadata": {
        "id": "IuQw04t7AhEI"
      },
      "source": [
        "from sklearn.linear_model import LinearRegression\n",
        "\n",
        "#Ajuste na Amostra Treino\n",
        "\n",
        "reg = LinearRegression()\n",
        "reg.fit(Xtreino, ytreino)\n",
        "\n",
        "#Predição da Amostra Teste\n",
        "\n",
        "preditos = reg.predict(Xteste)"
      ],
      "execution_count": 127,
      "outputs": []
    },
    {
      "cell_type": "markdown",
      "metadata": {
        "id": "uJL2Ilgs3yiI"
      },
      "source": [
        "#**Predição da Amostra Teste**"
      ]
    },
    {
      "cell_type": "code",
      "metadata": {
        "id": "skXsh2XGBS51",
        "colab": {
          "base_uri": "https://localhost:8080/"
        },
        "outputId": "995ae031-39bd-4c70-bc09-694104121550"
      },
      "source": [
        "preditos = reg.predict(Xteste)\n",
        "preditos"
      ],
      "execution_count": 128,
      "outputs": [
        {
          "output_type": "execute_result",
          "data": {
            "text/plain": [
              "array([30.91383355,  5.58617779,  5.73131626, 29.87303789, 10.90282939,\n",
              "        8.30752424,  8.16047605,  8.49658621,  8.49658621,  6.5868694 ,\n",
              "        3.7356622 ,  4.60076391, 29.79664922,  7.99242097,  8.34380886,\n",
              "       29.60567754, 11.26949501,  9.63095799,  5.40475469,  9.43234744,\n",
              "        6.34815479,  9.46290291, 10.97539862,  8.95873767,  8.45457244,\n",
              "        4.8604854 ,  9.88304061,  5.58617779, 30.18814117, 33.0546261 ,\n",
              "        7.14641642,  7.90839343, 29.24474106,  6.22784264,  8.26742019,\n",
              "       10.47123339,  9.71498553,  7.65631081, 12.57192188,  6.96881276,\n",
              "        7.32020065,  3.15510829,  8.00005983,  7.79953957,  7.08339577,\n",
              "        7.9504072 ,  8.05353191, 13.49622481,  4.40979223,  8.88807815,\n",
              "        7.18270104, 31.02268741, 11.66671611,  5.51742798,  7.2915549 ,\n",
              "       14.04240382,  4.35250073,  9.29866727,  6.78357023,  7.40040876,\n",
              "       29.53692773, 31.34351984, 11.24657841, 28.99074873,  7.90839343,\n",
              "        8.4163781 ,  8.62262751, 10.15803983, 10.177137  , 32.2028924 ,\n",
              "        9.79901307,  8.62262751, 11.31150878, 34.14316468, 31.74456037,\n",
              "       10.30317831,  8.38009348,  6.73200787,  9.41325027,  5.93756568,\n",
              "        9.46290291,  8.4163781 , 34.74663519, 10.97539862, 10.01290135,\n",
              "        7.69450515,  6.28131471,  6.90006295,  7.23617311,  3.7356622 ,\n",
              "        7.65440109,  7.25527028, 13.82278639,  8.87471013,  6.01777379,\n",
              "        9.83338797,  3.88080068, 36.59524106, 13.62226612,  8.234955  ,\n",
              "        7.19797877, 32.30983654,  8.38009348, 31.63761622,  9.7569993 ,\n",
              "       10.6660245 ,  6.93061842,  9.17835511,  9.10578587,  7.92367116,\n",
              "        9.58894422, 30.29699502,  9.79901307,  7.40422819, 33.94837356,\n",
              "        5.07819312,  8.08981652,  6.71100099,  7.50353346,  9.03130691,\n",
              "        8.11464284,  8.85179353,  4.57020844,  6.20301632, 10.77487836,\n",
              "       10.51324716,  6.96499332,  8.26742019, 31.76365753, 29.1358872 ,\n",
              "        9.06950125,  7.472978  , 12.48025547,  7.1101318 , 10.77487836,\n",
              "        8.80214089, 12.55282471,  8.20248982,  6.02159322,  9.10769558,\n",
              "       29.42616416,  9.37887537, 32.01192072, 10.99258608,  6.5868694 ,\n",
              "       13.13337862, 36.34315844, 11.26949501, 35.62892436,  9.37887537,\n",
              "        6.34815479, 10.93338485, 11.9837291 , 34.60913558,  7.18270104,\n",
              "        7.19797877, 10.41203217, 30.40584888,  8.70665505, 30.29317559,\n",
              "        9.57748592,  5.25006763,  9.43234744,  6.1667317 ,  8.52523196,\n",
              "        4.17107763, 33.15011194,  9.48963895,  5.82298267, 10.47123339,\n",
              "       29.07477627, 31.63952594, 12.10977041,  8.11846228, 32.96677912,\n",
              "        8.4163781 ,  8.16047605,  9.21082029, 10.97539862,  7.23617311,\n",
              "        7.31256178,  8.92436277, 29.86157959, 13.02452476,  5.63964986,\n",
              "       31.01886798,  5.76760088,  9.7569993 ,  6.67471637,  9.26047293,\n",
              "        8.67037043,  5.94902398, 34.32458778,  6.45700865,  9.88304061,\n",
              "        4.35250073,  8.30561452,  8.20248982,  9.50491668,  6.74728561,\n",
              "        9.97661673,  5.55562232,  8.99693201,  9.68633978,  6.28131471,\n",
              "        9.46290291,  5.58617779,  6.42072403,  6.39589771,  9.21463973,\n",
              "       33.23604919,  9.68633978,  7.61811647, 12.31983926, 31.96608752,\n",
              "       32.40150295, 11.13772455,  4.31621611,  7.69450515, 33.76886018,\n",
              "        4.67715259, 37.60357154,  7.78235212,  7.74033835, 33.90635979,\n",
              "        8.30561452,  5.69503165,  7.87210881,  9.39606282,  8.52523196,\n",
              "        7.77089382, 34.28448372, 11.81949345,  9.06950125, 10.21915077,\n",
              "        9.68633978,  5.13548462,  6.45700865,  8.57297488,  8.3820032 ,\n",
              "        6.94207672, 13.30907257,  8.99693201,  7.36412414, 11.02887069,\n",
              "        4.46135459, 10.90282939, 10.01290135,  8.80214089,  9.39606282,\n",
              "       33.34490305, 34.76000321, 28.48276405, 11.68963271, 35.12475912,\n",
              "       32.32893371,  6.81985485, 10.97921806, 10.52088602, 11.1434537 ,\n",
              "        6.20301632,  7.76325495, 28.49804179, 10.5972747 ,  9.37505594,\n",
              "        8.63408582,  5.84971871,  9.65005516, 11.89588213,  6.31187017,\n",
              "        5.09347085,  8.12610114,  6.60214713, 12.10977041,  6.05787784,\n",
              "        7.57992214,  9.32349358, 14.26393097, 13.16011465,  8.11464284,\n",
              "       11.28286303,  7.76325495,  9.67297176, 11.64761894,  7.76325495,\n",
              "        8.12610114,  8.49658621, 11.01741239,  5.84017012,  6.26985641,\n",
              "       10.5972747 , 10.73859374, 30.80497969,  7.2915549 ,  7.32783952,\n",
              "       33.27233381, 32.05775392, 30.16713428,  5.33218545, 37.85565416,\n",
              "        7.90839343,  5.17367896,  6.56395279,  6.5868694 , 17.02538148,\n",
              "        9.46863206,  7.32783952,  7.54554723,  5.65874703, 11.81949345,\n",
              "        6.35770338,  7.65440109,  8.08981652,  7.65631081, 33.78031848,\n",
              "        6.43409205, 26.99509466,  8.16047605, 30.8278963 , 33.11955647,\n",
              "        9.58894422, 29.66296904,  7.82436589,  9.45144461, 38.31780562,\n",
              "        9.61377054,  6.54867506, 31.01886798,  9.14207049,  6.42072403,\n",
              "       30.84126431, 27.93849476, 13.11810088,  8.4163781 ,  5.0419085 ])"
            ]
          },
          "metadata": {
            "tags": []
          },
          "execution_count": 128
        }
      ]
    },
    {
      "cell_type": "code",
      "metadata": {
        "id": "AkAhwWwKBc-r",
        "colab": {
          "base_uri": "https://localhost:8080/"
        },
        "outputId": "4dfd0baf-7d87-4e32-c979-8a8efb582431"
      },
      "source": [
        "import numpy as np\n",
        "\n",
        "np.mean((preditos - yteste)**2)"
      ],
      "execution_count": 129,
      "outputs": [
        {
          "output_type": "execute_result",
          "data": {
            "text/plain": [
              "51.166893326206335"
            ]
          },
          "metadata": {
            "tags": []
          },
          "execution_count": 129
        }
      ]
    },
    {
      "cell_type": "markdown",
      "metadata": {
        "id": "C7r6uc_W37fY"
      },
      "source": [
        "#**Métrica de Avaliação: Erro Quadrático Médio (MSE)**"
      ]
    },
    {
      "cell_type": "code",
      "metadata": {
        "colab": {
          "base_uri": "https://localhost:8080/"
        },
        "id": "A3qv__d4CNhr",
        "outputId": "7b04eaf3-abff-41e0-dd1b-11246e555fc5"
      },
      "source": [
        "from sklearn.metrics import mean_squared_error\n",
        "\n",
        "eqm = mean_squared_error(yteste, preditos)\n",
        "print('EQM: {}'.format(round(eqm, 4)))"
      ],
      "execution_count": 130,
      "outputs": [
        {
          "output_type": "stream",
          "text": [
            "EQM: 51.1669\n"
          ],
          "name": "stdout"
        }
      ]
    },
    {
      "cell_type": "markdown",
      "metadata": {
        "id": "w3kZ4tuW4Ww0"
      },
      "source": [
        "###**Coeficientes**"
      ]
    },
    {
      "cell_type": "code",
      "metadata": {
        "colab": {
          "base_uri": "https://localhost:8080/"
        },
        "id": "YreIV_K3CuI4",
        "outputId": "3dc3a278-9e01-427c-d1bf-3d99c18b7dfa"
      },
      "source": [
        "b0 = reg.intercept_\n",
        "b1, b2 = reg.coef_\n",
        "\n",
        "print('Intercepto: \\n', reg.intercept_)\n",
        "print('Coeficientes: \\n', reg.coef_)"
      ],
      "execution_count": 131,
      "outputs": [
        {
          "output_type": "stream",
          "text": [
            "Intercepto: \n",
            " -3.267269342318272\n",
            "Coeficientes: \n",
            " [ 0.38194336 23.47714018]\n"
          ],
          "name": "stdout"
        }
      ]
    },
    {
      "cell_type": "markdown",
      "metadata": {
        "id": "McVX8rZQDnRy"
      },
      "source": [
        "#**O Modelo de Regressão**"
      ]
    },
    {
      "cell_type": "markdown",
      "metadata": {
        "id": "Tmuh80SBEBy2"
      },
      "source": [
        "##**Nesse cenário, o modelo de regressão linear é dado por:**\n",
        "\n",
        "\n",
        "*   Custos = b0 + b1.BMI + b2.0 - **Se não fumante**\n",
        "*   Custos = b0 + b1.BMI + b2.1 - **Se fumante**"
      ]
    },
    {
      "cell_type": "code",
      "metadata": {
        "id": "Qrzlmy5IDi74"
      },
      "source": [
        "import numpy as np\n",
        "\n",
        "x = np.arange(15, 55, 0.01)\n",
        "y0 = b0 + b1*x + b2*0\n",
        "y1 = b0 + b1*x + b2*1\n"
      ],
      "execution_count": 132,
      "outputs": []
    },
    {
      "cell_type": "code",
      "metadata": {
        "colab": {
          "base_uri": "https://localhost:8080/",
          "height": 398
        },
        "id": "Dvhq1c6U6EBp",
        "outputId": "c1c47956-1d54-461e-ded5-58a4990db29b"
      },
      "source": [
        "import matplotlib.pyplot as plt\n",
        "\n",
        "sns.scatterplot(x = 'bmi', y = 'charges', hue = 'smoker', data = dados)\n",
        "plt.plot(x, y0, color = 'blue')\n",
        "plt.plot(x, y1, color = 'orange')\n",
        "plt.title('Retas de Regressão')\n",
        "plt.xlabel('IMC')\n",
        "plt.ylabel('Custo')\n",
        "plt.show()"
      ],
      "execution_count": 133,
      "outputs": [
        {
          "output_type": "display_data",
          "data": {
            "image/png": "[encoded data removed]",
            "text/plain": [
              "<Figure size 600x400 with 1 Axes>"
            ]
          },
          "metadata": {
            "tags": []
          }
        }
      ]
    },
    {
      "cell_type": "markdown",
      "metadata": {
        "id": "KS3bwVTM7XXo"
      },
      "source": [
        "#**Holdout Repetido**\n",
        "\n",
        "##Repetições da técnica Holdout variando a distribuição de quem vai pra amostra de teste e treinamento.\n",
        "\n",
        "##**Objetivo:** Obter um valor mais estável para o EQM"
      ]
    },
    {
      "cell_type": "code",
      "metadata": {
        "id": "_LhQccYwGA7x"
      },
      "source": [
        "def HoldoutRep(modelo = LinearRegression(), rep = 1000, proporcao = 0.25):\n",
        "  from sklearn.metrics import mean_squared_error\n",
        "  from sklearn.model_selection import train_test_split\n",
        "\n",
        "  eqms_treino = []\n",
        "  eqms_teste = []\n",
        "\n",
        "  for i in range(replicas):\n",
        "    Xtreino , Xteste, ytreino, yteste  = train_test_split(x, y, test_size = proporcao)\n",
        "        \n",
        "    #Treinando o Modelo\n",
        "    reg = modelo\n",
        "    reg.fit(Xtreino, ytreino)\n",
        "\n",
        "    #Verificando o eqm no teste\n",
        "    preditos_treino = reg.predict(Xtreino)\n",
        "    eqm_treino = mean_squared_error(ytreino, preditos_treino)\n",
        "\n",
        "    preditos_teste = reg.predict(Xteste)\n",
        "    eqm_teste = mean_squared_error(yteste, preditos_teste)\n",
        "\n",
        "    #Guardando o resultado\n",
        "    eqms_treino.append(eqm_treino)\n",
        "    eqms_teste.append(eqm_teste)\n",
        "    \n",
        "    res_treino = np.array(eqms_treino).mean().round(2)\n",
        "    res_teste = np.array(eqms_teste).mean().round(2)\n",
        "\n",
        "    print('EQM médio de TREINO: {}'.format(res_treino))\n",
        "    print('EQM médio de TESTE: {}'.format(res_teste))\n",
        "\n",
        "    return res_treino, res_teste"
      ],
      "execution_count": 135,
      "outputs": []
    },
    {
      "cell_type": "code",
      "metadata": {
        "id": "Qt4P2P8t_pIs"
      },
      "source": [
        "def HoldoutRep(modelo = LinearRegression(), replica = 100, proporcao = 0.25):\n",
        "  from sklearn.metrics import mean_squared_error\n",
        "  from sklearn.model_selection import train_test_split\n",
        "\n",
        "  eqms_treino = []\n",
        "  eqms_teste = []\n",
        "\n",
        "  for i in range(replica):\n",
        "    Xtreino, Xteste, ytreino, yteste = train_test_split(x, y, test_size = proporcao)\n",
        "\n",
        "    #Treino do Modelo\n",
        "    reg = modelo\n",
        "    reg.fit(Xtreino, ytreino)\n",
        "\n",
        "    #Verificando o EQM no teste\n",
        "    preditos_treino = reg.predict(Xtreino)\n",
        "    eqm_treino = mean_squared_error(ytreino, preditos_treino)\n",
        "\n",
        "    preditos_teste = reg.predict(Xteste)\n",
        "    eqm_teste = mean_squared_error(xteste, preditos_teste)\n",
        "\n",
        "    #Armazenando o Resultado\n",
        "    eqms_treino.append(eqm_treino)\n",
        "    eqms_teste.append(eqm_teste)\n",
        "\n",
        "    resultado_treino = np.array(eqms_treino).mean().round(2)\n",
        "    resultado_teste = np.array(eqms_teste).mean().round(2)\n",
        "\n",
        "    print('EQM médio de Treino: {}'.format(resultado_treino))\n",
        "    print('EQM médio de Teste: {}'.format(resultado_teste))\n",
        "\n",
        "    return resultado_treino, resultado_teste"
      ],
      "execution_count": 79,
      "outputs": []
    },
    {
      "cell_type": "code",
      "metadata": {
        "id": "X2nGPpo9KQtf"
      },
      "source": [
        "HoldoutRep(rep=1000)"
      ],
      "execution_count": null,
      "outputs": []
    }
  ]
}