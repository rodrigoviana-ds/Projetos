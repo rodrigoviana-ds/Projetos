{
  "nbformat": 4,
  "nbformat_minor": 0,
  "metadata": {
    "colab": {
      "name": "RLM_saude.ipynb",
      "provenance": [],
      "toc_visible": true,
      "authorship_tag": "ABX9TyNtP+FD2ALU3GSqn/ZCA4Zv",
      "include_colab_link": true
    },
    "kernelspec": {
      "name": "python3",
      "display_name": "Python 3"
    },
    "widgets": {
      "application/vnd.jupyter.widget-state+json": {
        "b546ead82b8e49c8bce0e90c8757401a": {
          "model_module": "@jupyter-widgets/controls",
          "model_name": "HBoxModel",
          "state": {
            "_view_name": "HBoxView",
            "_dom_classes": [],
            "_model_name": "HBoxModel",
            "_view_module": "@jupyter-widgets/controls",
            "_model_module_version": "1.5.0",
            "_view_count": null,
            "_view_module_version": "1.5.0",
            "box_style": "",
            "layout": "IPY_MODEL_f605f16da21f405592820cb64ff48cfd",
            "_model_module": "@jupyter-widgets/controls",
            "children": [
              "IPY_MODEL_4450b86e51574899a77cd2aa68679b52",
              "IPY_MODEL_84e8716d1efb4e2bab590772aec913ee",
              "IPY_MODEL_14eaa3155cf5445fabdd3e4350562b2e"
            ]
          }
        },
        "f605f16da21f405592820cb64ff48cfd": {
          "model_module": "@jupyter-widgets/base",
          "model_name": "LayoutModel",
          "state": {
            "_view_name": "LayoutView",
            "grid_template_rows": null,
            "right": null,
            "justify_content": null,
            "_view_module": "@jupyter-widgets/base",
            "overflow": null,
            "_model_module_version": "1.2.0",
            "_view_count": null,
            "flex_flow": "row wrap",
            "width": "100%",
            "min_width": null,
            "border": null,
            "align_items": null,
            "bottom": null,
            "_model_module": "@jupyter-widgets/base",
            "top": null,
            "grid_column": null,
            "overflow_y": null,
            "overflow_x": null,
            "grid_auto_flow": null,
            "grid_area": null,
            "grid_template_columns": null,
            "flex": null,
            "_model_name": "LayoutModel",
            "justify_items": null,
            "grid_row": null,
            "max_height": null,
            "align_content": null,
            "visibility": null,
            "align_self": null,
            "height": null,
            "min_height": null,
            "padding": null,
            "grid_auto_rows": null,
            "grid_gap": null,
            "max_width": null,
            "order": null,
            "_view_module_version": "1.2.0",
            "grid_template_areas": null,
            "object_position": null,
            "object_fit": null,
            "grid_auto_columns": null,
            "margin": null,
            "display": "inline-flex",
            "left": null
          }
        },
        "4450b86e51574899a77cd2aa68679b52": {
          "model_module": "@jupyter-widgets/controls",
          "model_name": "HTMLModel",
          "state": {
            "_view_name": "HTMLView",
            "style": "IPY_MODEL_c6536c2286754c5bbc42646eae6719b7",
            "_dom_classes": [],
            "description": "",
            "_model_name": "HTMLModel",
            "placeholder": "​",
            "_view_module": "@jupyter-widgets/controls",
            "_model_module_version": "1.5.0",
            "value": "Done! Use &#x27;show&#x27; commands to display/save.   ",
            "_view_count": null,
            "_view_module_version": "1.5.0",
            "description_tooltip": null,
            "_model_module": "@jupyter-widgets/controls",
            "layout": "IPY_MODEL_bb79444c9c1342249ffac5a0019b3d42"
          }
        },
        "84e8716d1efb4e2bab590772aec913ee": {
          "model_module": "@jupyter-widgets/controls",
          "model_name": "FloatProgressModel",
          "state": {
            "_view_name": "ProgressView",
            "style": "IPY_MODEL_13770226597a4299af70ede71d9b06da",
            "_dom_classes": [],
            "description": "",
            "_model_name": "FloatProgressModel",
            "bar_style": "success",
            "max": 1,
            "_view_module": "@jupyter-widgets/controls",
            "_model_module_version": "1.5.0",
            "value": 1,
            "_view_count": null,
            "_view_module_version": "1.5.0",
            "orientation": "horizontal",
            "min": 0,
            "description_tooltip": null,
            "_model_module": "@jupyter-widgets/controls",
            "layout": "IPY_MODEL_ca11ac47300b44608f9e7a4c874698a3"
          }
        },
        "14eaa3155cf5445fabdd3e4350562b2e": {
          "model_module": "@jupyter-widgets/controls",
          "model_name": "HTMLModel",
          "state": {
            "_view_name": "HTMLView",
            "style": "IPY_MODEL_cc549c0dd7eb46c2997c8f46370f0029",
            "_dom_classes": [],
            "description": "",
            "_model_name": "HTMLModel",
            "placeholder": "​",
            "_view_module": "@jupyter-widgets/controls",
            "_model_module_version": "1.5.0",
            "value": " [100%]   00:00 -&gt; (00:00 left)",
            "_view_count": null,
            "_view_module_version": "1.5.0",
            "description_tooltip": null,
            "_model_module": "@jupyter-widgets/controls",
            "layout": "IPY_MODEL_cb0e5872a95e423588a08d7f7a6e21ce"
          }
        },
        "c6536c2286754c5bbc42646eae6719b7": {
          "model_module": "@jupyter-widgets/controls",
          "model_name": "DescriptionStyleModel",
          "state": {
            "_view_name": "StyleView",
            "_model_name": "DescriptionStyleModel",
            "description_width": "",
            "_view_module": "@jupyter-widgets/base",
            "_model_module_version": "1.5.0",
            "_view_count": null,
            "_view_module_version": "1.2.0",
            "_model_module": "@jupyter-widgets/controls"
          }
        },
        "bb79444c9c1342249ffac5a0019b3d42": {
          "model_module": "@jupyter-widgets/base",
          "model_name": "LayoutModel",
          "state": {
            "_view_name": "LayoutView",
            "grid_template_rows": null,
            "right": null,
            "justify_content": null,
            "_view_module": "@jupyter-widgets/base",
            "overflow": null,
            "_model_module_version": "1.2.0",
            "_view_count": null,
            "flex_flow": null,
            "width": null,
            "min_width": null,
            "border": null,
            "align_items": null,
            "bottom": null,
            "_model_module": "@jupyter-widgets/base",
            "top": null,
            "grid_column": null,
            "overflow_y": null,
            "overflow_x": null,
            "grid_auto_flow": null,
            "grid_area": null,
            "grid_template_columns": null,
            "flex": null,
            "_model_name": "LayoutModel",
            "justify_items": null,
            "grid_row": null,
            "max_height": null,
            "align_content": null,
            "visibility": null,
            "align_self": null,
            "height": null,
            "min_height": null,
            "padding": null,
            "grid_auto_rows": null,
            "grid_gap": null,
            "max_width": null,
            "order": null,
            "_view_module_version": "1.2.0",
            "grid_template_areas": null,
            "object_position": null,
            "object_fit": null,
            "grid_auto_columns": null,
            "margin": null,
            "display": null,
            "left": null
          }
        },
        "13770226597a4299af70ede71d9b06da": {
          "model_module": "@jupyter-widgets/controls",
          "model_name": "ProgressStyleModel",
          "state": {
            "_view_name": "StyleView",
            "_model_name": "ProgressStyleModel",
            "description_width": "",
            "_view_module": "@jupyter-widgets/base",
            "_model_module_version": "1.5.0",
            "_view_count": null,
            "_view_module_version": "1.2.0",
            "bar_color": null,
            "_model_module": "@jupyter-widgets/controls"
          }
        },
        "ca11ac47300b44608f9e7a4c874698a3": {
          "model_module": "@jupyter-widgets/base",
          "model_name": "LayoutModel",
          "state": {
            "_view_name": "LayoutView",
            "grid_template_rows": null,
            "right": null,
            "justify_content": null,
            "_view_module": "@jupyter-widgets/base",
            "overflow": null,
            "_model_module_version": "1.2.0",
            "_view_count": null,
            "flex_flow": null,
            "width": null,
            "min_width": null,
            "border": null,
            "align_items": null,
            "bottom": null,
            "_model_module": "@jupyter-widgets/base",
            "top": null,
            "grid_column": null,
            "overflow_y": null,
            "overflow_x": null,
            "grid_auto_flow": null,
            "grid_area": null,
            "grid_template_columns": null,
            "flex": "2",
            "_model_name": "LayoutModel",
            "justify_items": null,
            "grid_row": null,
            "max_height": null,
            "align_content": null,
            "visibility": null,
            "align_self": null,
            "height": null,
            "min_height": null,
            "padding": null,
            "grid_auto_rows": null,
            "grid_gap": null,
            "max_width": null,
            "order": null,
            "_view_module_version": "1.2.0",
            "grid_template_areas": null,
            "object_position": null,
            "object_fit": null,
            "grid_auto_columns": null,
            "margin": null,
            "display": null,
            "left": null
          }
        },
        "cc549c0dd7eb46c2997c8f46370f0029": {
          "model_module": "@jupyter-widgets/controls",
          "model_name": "DescriptionStyleModel",
          "state": {
            "_view_name": "StyleView",
            "_model_name": "DescriptionStyleModel",
            "description_width": "",
            "_view_module": "@jupyter-widgets/base",
            "_model_module_version": "1.5.0",
            "_view_count": null,
            "_view_module_version": "1.2.0",
            "_model_module": "@jupyter-widgets/controls"
          }
        },
        "cb0e5872a95e423588a08d7f7a6e21ce": {
          "model_module": "@jupyter-widgets/base",
          "model_name": "LayoutModel",
          "state": {
            "_view_name": "LayoutView",
            "grid_template_rows": null,
            "right": null,
            "justify_content": null,
            "_view_module": "@jupyter-widgets/base",
            "overflow": null,
            "_model_module_version": "1.2.0",
            "_view_count": null,
            "flex_flow": null,
            "width": null,
            "min_width": null,
            "border": null,
            "align_items": null,
            "bottom": null,
            "_model_module": "@jupyter-widgets/base",
            "top": null,
            "grid_column": null,
            "overflow_y": null,
            "overflow_x": null,
            "grid_auto_flow": null,
            "grid_area": null,
            "grid_template_columns": null,
            "flex": null,
            "_model_name": "LayoutModel",
            "justify_items": null,
            "grid_row": null,
            "max_height": null,
            "align_content": null,
            "visibility": null,
            "align_self": null,
            "height": null,
            "min_height": null,
            "padding": null,
            "grid_auto_rows": null,
            "grid_gap": null,
            "max_width": null,
            "order": null,
            "_view_module_version": "1.2.0",
            "grid_template_areas": null,
            "object_position": null,
            "object_fit": null,
            "grid_auto_columns": null,
            "margin": null,
            "display": null,
            "left": null
          }
        }
      }
    }
  },
  "cells": [
    {
      "cell_type": "markdown",
      "metadata": {
        "id": "view-in-github",
        "colab_type": "text"
      },
      "source": [
        "<a href=\"https://colab.research.google.com/github/rodrigoviana-ds/Projetos/blob/main/RLM_saude.ipynb\" target=\"_parent\"><img src=\"https://colab.research.google.com/assets/colab-badge.svg\" alt=\"Open In Colab\"/></a>"
      ]
    },
    {
      "cell_type": "markdown",
      "metadata": {
        "id": "TtCXIfCwvO8A"
      },
      "source": [
        "#**Previsão do Custo de Plano de Saúde por Pessoa**\n",
        "#**Medical Cost Data**\n",
        "\n"
      ]
    },
    {
      "cell_type": "markdown",
      "metadata": {
        "id": "c1yh9ljQz6_9"
      },
      "source": [
        "#Importação dos Dados"
      ]
    },
    {
      "cell_type": "code",
      "metadata": {
        "id": "g5NSsasLzNEY"
      },
      "source": [
        "import pandas as pd"
      ],
      "execution_count": 144,
      "outputs": []
    },
    {
      "cell_type": "code",
      "metadata": {
        "id": "99o5VLAzzYzQ"
      },
      "source": [
        "caminho = '/content/insurance.csv'\n",
        "dados = pd.read_csv(caminho)"
      ],
      "execution_count": 87,
      "outputs": []
    },
    {
      "cell_type": "code",
      "metadata": {
        "colab": {
          "base_uri": "https://localhost:8080/",
          "height": 204
        },
        "id": "19Aj8c57z2-B",
        "outputId": "5dc99b14-6314-4f2e-a481-97123538df00"
      },
      "source": [
        "dados.head()"
      ],
      "execution_count": 6,
      "outputs": [
        {
          "output_type": "execute_result",
          "data": {
            "text/html": [
              "<div>\n",
              "<style scoped>\n",
              "    .dataframe tbody tr th:only-of-type {\n",
              "        vertical-align: middle;\n",
              "    }\n",
              "\n",
              "    .dataframe tbody tr th {\n",
              "        vertical-align: top;\n",
              "    }\n",
              "\n",
              "    .dataframe thead th {\n",
              "        text-align: right;\n",
              "    }\n",
              "</style>\n",
              "<table border=\"1\" class=\"dataframe\">\n",
              "  <thead>\n",
              "    <tr style=\"text-align: right;\">\n",
              "      <th></th>\n",
              "      <th>age</th>\n",
              "      <th>sex</th>\n",
              "      <th>bmi</th>\n",
              "      <th>children</th>\n",
              "      <th>smoker</th>\n",
              "      <th>region</th>\n",
              "      <th>charges</th>\n",
              "    </tr>\n",
              "  </thead>\n",
              "  <tbody>\n",
              "    <tr>\n",
              "      <th>0</th>\n",
              "      <td>19</td>\n",
              "      <td>female</td>\n",
              "      <td>27.900</td>\n",
              "      <td>0</td>\n",
              "      <td>yes</td>\n",
              "      <td>southwest</td>\n",
              "      <td>16884.92400</td>\n",
              "    </tr>\n",
              "    <tr>\n",
              "      <th>1</th>\n",
              "      <td>18</td>\n",
              "      <td>male</td>\n",
              "      <td>33.770</td>\n",
              "      <td>1</td>\n",
              "      <td>no</td>\n",
              "      <td>southeast</td>\n",
              "      <td>1725.55230</td>\n",
              "    </tr>\n",
              "    <tr>\n",
              "      <th>2</th>\n",
              "      <td>28</td>\n",
              "      <td>male</td>\n",
              "      <td>33.000</td>\n",
              "      <td>3</td>\n",
              "      <td>no</td>\n",
              "      <td>southeast</td>\n",
              "      <td>4449.46200</td>\n",
              "    </tr>\n",
              "    <tr>\n",
              "      <th>3</th>\n",
              "      <td>33</td>\n",
              "      <td>male</td>\n",
              "      <td>22.705</td>\n",
              "      <td>0</td>\n",
              "      <td>no</td>\n",
              "      <td>northwest</td>\n",
              "      <td>21984.47061</td>\n",
              "    </tr>\n",
              "    <tr>\n",
              "      <th>4</th>\n",
              "      <td>32</td>\n",
              "      <td>male</td>\n",
              "      <td>28.880</td>\n",
              "      <td>0</td>\n",
              "      <td>no</td>\n",
              "      <td>northwest</td>\n",
              "      <td>3866.85520</td>\n",
              "    </tr>\n",
              "  </tbody>\n",
              "</table>\n",
              "</div>"
            ],
            "text/plain": [
              "   age     sex     bmi  children smoker     region      charges\n",
              "0   19  female  27.900         0    yes  southwest  16884.92400\n",
              "1   18    male  33.770         1     no  southeast   1725.55230\n",
              "2   28    male  33.000         3     no  southeast   4449.46200\n",
              "3   33    male  22.705         0     no  northwest  21984.47061\n",
              "4   32    male  28.880         0     no  northwest   3866.85520"
            ]
          },
          "metadata": {
            "tags": []
          },
          "execution_count": 6
        }
      ]
    },
    {
      "cell_type": "code",
      "metadata": {
        "colab": {
          "base_uri": "https://localhost:8080/",
          "height": 297
        },
        "id": "1GHklYqkz_nu",
        "outputId": "d78dcc2d-593c-4d1d-d49a-c04178ad10a7"
      },
      "source": [
        "dados.describe().round(2)"
      ],
      "execution_count": 7,
      "outputs": [
        {
          "output_type": "execute_result",
          "data": {
            "text/html": [
              "<div>\n",
              "<style scoped>\n",
              "    .dataframe tbody tr th:only-of-type {\n",
              "        vertical-align: middle;\n",
              "    }\n",
              "\n",
              "    .dataframe tbody tr th {\n",
              "        vertical-align: top;\n",
              "    }\n",
              "\n",
              "    .dataframe thead th {\n",
              "        text-align: right;\n",
              "    }\n",
              "</style>\n",
              "<table border=\"1\" class=\"dataframe\">\n",
              "  <thead>\n",
              "    <tr style=\"text-align: right;\">\n",
              "      <th></th>\n",
              "      <th>age</th>\n",
              "      <th>bmi</th>\n",
              "      <th>children</th>\n",
              "      <th>charges</th>\n",
              "    </tr>\n",
              "  </thead>\n",
              "  <tbody>\n",
              "    <tr>\n",
              "      <th>count</th>\n",
              "      <td>1338.00</td>\n",
              "      <td>1338.00</td>\n",
              "      <td>1338.00</td>\n",
              "      <td>1338.00</td>\n",
              "    </tr>\n",
              "    <tr>\n",
              "      <th>mean</th>\n",
              "      <td>39.21</td>\n",
              "      <td>30.66</td>\n",
              "      <td>1.09</td>\n",
              "      <td>13270.42</td>\n",
              "    </tr>\n",
              "    <tr>\n",
              "      <th>std</th>\n",
              "      <td>14.05</td>\n",
              "      <td>6.10</td>\n",
              "      <td>1.21</td>\n",
              "      <td>12110.01</td>\n",
              "    </tr>\n",
              "    <tr>\n",
              "      <th>min</th>\n",
              "      <td>18.00</td>\n",
              "      <td>15.96</td>\n",
              "      <td>0.00</td>\n",
              "      <td>1121.87</td>\n",
              "    </tr>\n",
              "    <tr>\n",
              "      <th>25%</th>\n",
              "      <td>27.00</td>\n",
              "      <td>26.30</td>\n",
              "      <td>0.00</td>\n",
              "      <td>4740.29</td>\n",
              "    </tr>\n",
              "    <tr>\n",
              "      <th>50%</th>\n",
              "      <td>39.00</td>\n",
              "      <td>30.40</td>\n",
              "      <td>1.00</td>\n",
              "      <td>9382.03</td>\n",
              "    </tr>\n",
              "    <tr>\n",
              "      <th>75%</th>\n",
              "      <td>51.00</td>\n",
              "      <td>34.69</td>\n",
              "      <td>2.00</td>\n",
              "      <td>16639.91</td>\n",
              "    </tr>\n",
              "    <tr>\n",
              "      <th>max</th>\n",
              "      <td>64.00</td>\n",
              "      <td>53.13</td>\n",
              "      <td>5.00</td>\n",
              "      <td>63770.43</td>\n",
              "    </tr>\n",
              "  </tbody>\n",
              "</table>\n",
              "</div>"
            ],
            "text/plain": [
              "           age      bmi  children   charges\n",
              "count  1338.00  1338.00   1338.00   1338.00\n",
              "mean     39.21    30.66      1.09  13270.42\n",
              "std      14.05     6.10      1.21  12110.01\n",
              "min      18.00    15.96      0.00   1121.87\n",
              "25%      27.00    26.30      0.00   4740.29\n",
              "50%      39.00    30.40      1.00   9382.03\n",
              "75%      51.00    34.69      2.00  16639.91\n",
              "max      64.00    53.13      5.00  63770.43"
            ]
          },
          "metadata": {
            "tags": []
          },
          "execution_count": 7
        }
      ]
    },
    {
      "cell_type": "code",
      "metadata": {
        "colab": {
          "base_uri": "https://localhost:8080/"
        },
        "id": "z-zqD_GkIVMp",
        "outputId": "51a65d92-3123-48d0-d920-8730aade7877"
      },
      "source": [
        "dados.shape"
      ],
      "execution_count": 88,
      "outputs": [
        {
          "output_type": "execute_result",
          "data": {
            "text/plain": [
              "(1338, 7)"
            ]
          },
          "metadata": {
            "tags": []
          },
          "execution_count": 88
        }
      ]
    },
    {
      "cell_type": "code",
      "metadata": {
        "id": "FvuEAyfM0Yh2",
        "colab": {
          "base_uri": "https://localhost:8080/"
        },
        "outputId": "79d5a646-cd41-4f6a-9801-21725c964c4c"
      },
      "source": [
        "#Instalando biblioteca de visualização\n",
        "!pip install sweetviz"
      ],
      "execution_count": 89,
      "outputs": [
        {
          "output_type": "stream",
          "text": [
            "Requirement already satisfied: sweetviz in /usr/local/lib/python3.7/dist-packages (2.0.9)\n",
            "Requirement already satisfied: scipy>=1.3.2 in /usr/local/lib/python3.7/dist-packages (from sweetviz) (1.4.1)\n",
            "Requirement already satisfied: jinja2>=2.11.1 in /usr/local/lib/python3.7/dist-packages (from sweetviz) (2.11.3)\n",
            "Requirement already satisfied: importlib-resources>=1.2.0 in /usr/local/lib/python3.7/dist-packages (from sweetviz) (5.1.2)\n",
            "Requirement already satisfied: matplotlib>=3.1.3 in /usr/local/lib/python3.7/dist-packages (from sweetviz) (3.2.2)\n",
            "Requirement already satisfied: pandas!=1.0.0,!=1.0.1,!=1.0.2,>=0.25.3 in /usr/local/lib/python3.7/dist-packages (from sweetviz) (1.1.5)\n",
            "Requirement already satisfied: tqdm>=4.43.0 in /usr/local/lib/python3.7/dist-packages (from sweetviz) (4.59.0)\n",
            "Requirement already satisfied: numpy>=1.16.0 in /usr/local/lib/python3.7/dist-packages (from sweetviz) (1.19.5)\n",
            "Requirement already satisfied: MarkupSafe>=0.23 in /usr/local/lib/python3.7/dist-packages (from jinja2>=2.11.1->sweetviz) (1.1.1)\n",
            "Requirement already satisfied: zipp>=0.4; python_version < \"3.8\" in /usr/local/lib/python3.7/dist-packages (from importlib-resources>=1.2.0->sweetviz) (3.4.1)\n",
            "Requirement already satisfied: cycler>=0.10 in /usr/local/lib/python3.7/dist-packages (from matplotlib>=3.1.3->sweetviz) (0.10.0)\n",
            "Requirement already satisfied: kiwisolver>=1.0.1 in /usr/local/lib/python3.7/dist-packages (from matplotlib>=3.1.3->sweetviz) (1.3.1)\n",
            "Requirement already satisfied: python-dateutil>=2.1 in /usr/local/lib/python3.7/dist-packages (from matplotlib>=3.1.3->sweetviz) (2.8.1)\n",
            "Requirement already satisfied: pyparsing!=2.0.4,!=2.1.2,!=2.1.6,>=2.0.1 in /usr/local/lib/python3.7/dist-packages (from matplotlib>=3.1.3->sweetviz) (2.4.7)\n",
            "Requirement already satisfied: pytz>=2017.2 in /usr/local/lib/python3.7/dist-packages (from pandas!=1.0.0,!=1.0.1,!=1.0.2,>=0.25.3->sweetviz) (2018.9)\n",
            "Requirement already satisfied: six in /usr/local/lib/python3.7/dist-packages (from cycler>=0.10->matplotlib>=3.1.3->sweetviz) (1.15.0)\n"
          ],
          "name": "stdout"
        }
      ]
    },
    {
      "cell_type": "code",
      "metadata": {
        "id": "7TLIIGRS0uKR"
      },
      "source": [
        "#Importando biblioteca\n",
        "\n",
        "import sweetviz"
      ],
      "execution_count": 90,
      "outputs": []
    },
    {
      "cell_type": "code",
      "metadata": {
        "colab": {
          "base_uri": "https://localhost:8080/",
          "height": 86,
          "referenced_widgets": [
            "b546ead82b8e49c8bce0e90c8757401a",
            "f605f16da21f405592820cb64ff48cfd",
            "4450b86e51574899a77cd2aa68679b52",
            "84e8716d1efb4e2bab590772aec913ee",
            "14eaa3155cf5445fabdd3e4350562b2e",
            "c6536c2286754c5bbc42646eae6719b7",
            "bb79444c9c1342249ffac5a0019b3d42",
            "13770226597a4299af70ede71d9b06da",
            "ca11ac47300b44608f9e7a4c874698a3",
            "cc549c0dd7eb46c2997c8f46370f0029",
            "cb0e5872a95e423588a08d7f7a6e21ce"
          ]
        },
        "id": "7D9ag8k00_TO",
        "outputId": "607b67f9-ddf7-420f-ae6c-89af4b255a0f"
      },
      "source": [
        "#Criando um arquivo html com Análise de Dados\n",
        "\n",
        "eda = sweetviz.analyze([dados, \"Seguro Saúde\"], target_feat = \"charges\")\n",
        "eda.show_html()"
      ],
      "execution_count": 91,
      "outputs": [
        {
          "output_type": "display_data",
          "data": {
            "application/vnd.jupyter.widget-view+json": {
              "model_id": "b546ead82b8e49c8bce0e90c8757401a",
              "version_minor": 0,
              "version_major": 2
            },
            "text/plain": [
              "                                             |          | [  0%]   00:00 -> (? left)"
            ]
          },
          "metadata": {
            "tags": []
          }
        },
        {
          "output_type": "stream",
          "text": [
            "Report SWEETVIZ_REPORT.html was generated! NOTEBOOK/COLAB USERS: the web browser MAY not pop up, regardless, the report IS saved in your notebook/colab files.\n"
          ],
          "name": "stdout"
        }
      ]
    },
    {
      "cell_type": "markdown",
      "metadata": {
        "id": "U0xEGrlXwR1Q"
      },
      "source": [
        "#**Pré Processamento dos Dados**\n",
        "\n",
        "\n",
        "*   Variável smoker (fumente): 0 (não) e 1 (sim)\n",
        "*   Variável resposta na escala para cada mil dólares\n",
        "\n"
      ]
    },
    {
      "cell_type": "code",
      "metadata": {
        "id": "Tx2ahteQ1lDV"
      },
      "source": [
        "dados['smoker'] = dados['smoker'].map({'yes': 1, 'no': 0})\n",
        "dados['charges'] = dados['charges']/1000"
      ],
      "execution_count": 92,
      "outputs": []
    },
    {
      "cell_type": "markdown",
      "metadata": {
        "id": "O0cIvjUiw6fv"
      },
      "source": [
        "#**Variáveis Consideradas no Modelo**\n",
        "\n",
        "\n",
        "*   BMI: Índice de Massa Corporal\n",
        "*   Smoker: fumante ou não\n",
        "*   Charges: custos\n",
        "\n",
        "\n"
      ]
    },
    {
      "cell_type": "code",
      "metadata": {
        "colab": {
          "base_uri": "https://localhost:8080/",
          "height": 204
        },
        "id": "-rrqng5f1Xhr",
        "outputId": "37446221-caed-45aa-f69f-2206966f257f"
      },
      "source": [
        "dados = dados[['bmi', 'smoker', 'charges']]\n",
        "dados.head().round(2)"
      ],
      "execution_count": 93,
      "outputs": [
        {
          "output_type": "execute_result",
          "data": {
            "text/html": [
              "<div>\n",
              "<style scoped>\n",
              "    .dataframe tbody tr th:only-of-type {\n",
              "        vertical-align: middle;\n",
              "    }\n",
              "\n",
              "    .dataframe tbody tr th {\n",
              "        vertical-align: top;\n",
              "    }\n",
              "\n",
              "    .dataframe thead th {\n",
              "        text-align: right;\n",
              "    }\n",
              "</style>\n",
              "<table border=\"1\" class=\"dataframe\">\n",
              "  <thead>\n",
              "    <tr style=\"text-align: right;\">\n",
              "      <th></th>\n",
              "      <th>bmi</th>\n",
              "      <th>smoker</th>\n",
              "      <th>charges</th>\n",
              "    </tr>\n",
              "  </thead>\n",
              "  <tbody>\n",
              "    <tr>\n",
              "      <th>0</th>\n",
              "      <td>27.90</td>\n",
              "      <td>1</td>\n",
              "      <td>16.88</td>\n",
              "    </tr>\n",
              "    <tr>\n",
              "      <th>1</th>\n",
              "      <td>33.77</td>\n",
              "      <td>0</td>\n",
              "      <td>1.73</td>\n",
              "    </tr>\n",
              "    <tr>\n",
              "      <th>2</th>\n",
              "      <td>33.00</td>\n",
              "      <td>0</td>\n",
              "      <td>4.45</td>\n",
              "    </tr>\n",
              "    <tr>\n",
              "      <th>3</th>\n",
              "      <td>22.70</td>\n",
              "      <td>0</td>\n",
              "      <td>21.98</td>\n",
              "    </tr>\n",
              "    <tr>\n",
              "      <th>4</th>\n",
              "      <td>28.88</td>\n",
              "      <td>0</td>\n",
              "      <td>3.87</td>\n",
              "    </tr>\n",
              "  </tbody>\n",
              "</table>\n",
              "</div>"
            ],
            "text/plain": [
              "     bmi  smoker  charges\n",
              "0  27.90       1    16.88\n",
              "1  33.77       0     1.73\n",
              "2  33.00       0     4.45\n",
              "3  22.70       0    21.98\n",
              "4  28.88       0     3.87"
            ]
          },
          "metadata": {
            "tags": []
          },
          "execution_count": 93
        }
      ]
    },
    {
      "cell_type": "markdown",
      "metadata": {
        "id": "tOcJcibBvqXC"
      },
      "source": [
        "#**Gráficos Pertinentes**"
      ]
    },
    {
      "cell_type": "markdown",
      "metadata": {
        "id": "KStxnW_myRz-"
      },
      "source": [
        "##**Dispersão Entre Fumantes e BMI**"
      ]
    },
    {
      "cell_type": "code",
      "metadata": {
        "id": "YYiSfDnX5PY-"
      },
      "source": [
        "import seaborn as sns"
      ],
      "execution_count": 94,
      "outputs": []
    },
    {
      "cell_type": "code",
      "metadata": {
        "colab": {
          "base_uri": "https://localhost:8080/",
          "height": 378
        },
        "id": "1pA8UB5W5Szz",
        "outputId": "e904b6ff-4aff-473b-f574-d09b63ba543c"
      },
      "source": [
        "sns.scatterplot(x = 'bmi', y = 'charges', data = dados);\n",
        "\n",
        "#A dispersão não sugere relação linear entre as variáveis"
      ],
      "execution_count": 95,
      "outputs": [
        {
          "output_type": "display_data",
          "data": {
            "image/png": "[encoded data removed]",
            "text/plain": [
              "<Figure size 600x400 with 1 Axes>"
            ]
          },
          "metadata": {
            "tags": []
          }
        }
      ]
    },
    {
      "cell_type": "markdown",
      "metadata": {
        "id": "MgGicXPWyceN"
      },
      "source": [
        "#**Categorizando Fumantes na Dispersão**"
      ]
    },
    {
      "cell_type": "code",
      "metadata": {
        "colab": {
          "base_uri": "https://localhost:8080/",
          "height": 378
        },
        "id": "h1GN7hji51xe",
        "outputId": "34fb29f1-0c15-4e81-9523-9f6afe0c834b"
      },
      "source": [
        "sns.scatterplot(x = 'bmi', y = 'charges', hue = 'smoker', data = dados);\n"
      ],
      "execution_count": 96,
      "outputs": [
        {
          "output_type": "display_data",
          "data": {
            "image/png": "[encoded data removed]",
            "text/plain": [
              "<Figure size 600x400 with 1 Axes>"
            ]
          },
          "metadata": {
            "tags": []
          }
        }
      ]
    },
    {
      "cell_type": "markdown",
      "metadata": {
        "id": "U7Q0CoLmzUXU"
      },
      "source": [
        "#**Separando a Variável Dependente da Independente**"
      ]
    },
    {
      "cell_type": "code",
      "metadata": {
        "id": "ddzYEz0LzlNY"
      },
      "source": [
        "x = dados[['bmi', 'smoker']]\n",
        "y = dados['charges']"
      ],
      "execution_count": 97,
      "outputs": []
    },
    {
      "cell_type": "markdown",
      "metadata": {
        "id": "xjpVtVcNz4tF"
      },
      "source": [
        "#**Método de Validação: Holdout**\n",
        "\n",
        "*   25% dos dados para teste\n",
        "*   75% dos dados para treinamento\n",
        "\n"
      ]
    },
    {
      "cell_type": "code",
      "metadata": {
        "id": "xfuSTrtj9wUG"
      },
      "source": [
        "import pandas as pd"
      ],
      "execution_count": 98,
      "outputs": []
    },
    {
      "cell_type": "code",
      "metadata": {
        "id": "CNWTZmSDHB_d"
      },
      "source": [
        "from sklearn.model_selection import train_test_split\n",
        "\n",
        "Xtreino, Xteste, ytreino, yteste = train_test_split(x, y, test_size = 0.25)"
      ],
      "execution_count": 99,
      "outputs": []
    },
    {
      "cell_type": "code",
      "metadata": {
        "colab": {
          "base_uri": "https://localhost:8080/"
        },
        "id": "xJCbJXvf0ON6",
        "outputId": "6a8921b8-970f-4cf1-961f-a5d6fbd016a0"
      },
      "source": [
        "Xteste.shape\n",
        "Xtreino.shape\n",
        "\n",
        "print(Xtreino.shape)\n",
        "print(Xteste.shape)"
      ],
      "execution_count": 100,
      "outputs": [
        {
          "output_type": "stream",
          "text": [
            "(1003, 2)\n",
            "(335, 2)\n"
          ],
          "name": "stdout"
        }
      ]
    },
    {
      "cell_type": "code",
      "metadata": {
        "colab": {
          "base_uri": "https://localhost:8080/",
          "height": 204
        },
        "id": "J0alFWWF0syA",
        "outputId": "4a5ba243-670d-4efb-c471-afabb4c4a77c"
      },
      "source": [
        "Xtreino.head()"
      ],
      "execution_count": 101,
      "outputs": [
        {
          "output_type": "execute_result",
          "data": {
            "text/html": [
              "<div>\n",
              "<style scoped>\n",
              "    .dataframe tbody tr th:only-of-type {\n",
              "        vertical-align: middle;\n",
              "    }\n",
              "\n",
              "    .dataframe tbody tr th {\n",
              "        vertical-align: top;\n",
              "    }\n",
              "\n",
              "    .dataframe thead th {\n",
              "        text-align: right;\n",
              "    }\n",
              "</style>\n",
              "<table border=\"1\" class=\"dataframe\">\n",
              "  <thead>\n",
              "    <tr style=\"text-align: right;\">\n",
              "      <th></th>\n",
              "      <th>bmi</th>\n",
              "      <th>smoker</th>\n",
              "    </tr>\n",
              "  </thead>\n",
              "  <tbody>\n",
              "    <tr>\n",
              "      <th>98</th>\n",
              "      <td>19.950</td>\n",
              "      <td>1</td>\n",
              "    </tr>\n",
              "    <tr>\n",
              "      <th>762</th>\n",
              "      <td>27.100</td>\n",
              "      <td>1</td>\n",
              "    </tr>\n",
              "    <tr>\n",
              "      <th>1230</th>\n",
              "      <td>34.485</td>\n",
              "      <td>1</td>\n",
              "    </tr>\n",
              "    <tr>\n",
              "      <th>1220</th>\n",
              "      <td>21.945</td>\n",
              "      <td>0</td>\n",
              "    </tr>\n",
              "    <tr>\n",
              "      <th>1056</th>\n",
              "      <td>28.900</td>\n",
              "      <td>0</td>\n",
              "    </tr>\n",
              "  </tbody>\n",
              "</table>\n",
              "</div>"
            ],
            "text/plain": [
              "         bmi  smoker\n",
              "98    19.950       1\n",
              "762   27.100       1\n",
              "1230  34.485       1\n",
              "1220  21.945       0\n",
              "1056  28.900       0"
            ]
          },
          "metadata": {
            "tags": []
          },
          "execution_count": 101
        }
      ]
    },
    {
      "cell_type": "markdown",
      "metadata": {
        "id": "Oaq8lNJ-3Jgj"
      },
      "source": [
        "#**Ajustando o Modelo de Regressão Linear**"
      ]
    },
    {
      "cell_type": "code",
      "metadata": {
        "colab": {
          "base_uri": "https://localhost:8080/"
        },
        "id": "5qn9p3CmGyuW",
        "outputId": "212f3095-d51c-4186-edfe-5fe1d58c102d"
      },
      "source": [
        "pip install sklearn"
      ],
      "execution_count": 153,
      "outputs": [
        {
          "output_type": "stream",
          "text": [
            "Requirement already satisfied: sklearn in /usr/local/lib/python3.7/dist-packages (0.0)\n",
            "Requirement already satisfied: scikit-learn in /usr/local/lib/python3.7/dist-packages (from sklearn) (0.22.2.post1)\n",
            "Requirement already satisfied: joblib>=0.11 in /usr/local/lib/python3.7/dist-packages (from scikit-learn->sklearn) (1.0.1)\n",
            "Requirement already satisfied: numpy>=1.11.0 in /usr/local/lib/python3.7/dist-packages (from scikit-learn->sklearn) (1.19.5)\n",
            "Requirement already satisfied: scipy>=0.17.0 in /usr/local/lib/python3.7/dist-packages (from scikit-learn->sklearn) (1.4.1)\n"
          ],
          "name": "stdout"
        }
      ]
    },
    {
      "cell_type": "code",
      "metadata": {
        "id": "7pRs8MLWHCuT"
      },
      "source": [
        "import sklearn"
      ],
      "execution_count": 154,
      "outputs": []
    },
    {
      "cell_type": "code",
      "metadata": {
        "id": "IuQw04t7AhEI"
      },
      "source": [
        "from sklearn.linear_model import LinearRegression\n",
        "\n",
        "#Ajuste na Amostra Treino\n",
        "\n",
        "reg = LinearRegression()\n",
        "reg.fit(Xtreino, ytreino)\n",
        "\n",
        "#Predição da Amostra Teste\n",
        "\n",
        "preditos = reg.predict(Xteste)"
      ],
      "execution_count": 155,
      "outputs": []
    },
    {
      "cell_type": "markdown",
      "metadata": {
        "id": "uJL2Ilgs3yiI"
      },
      "source": [
        "#**Predição da Amostra Teste**"
      ]
    },
    {
      "cell_type": "code",
      "metadata": {
        "id": "skXsh2XGBS51",
        "colab": {
          "base_uri": "https://localhost:8080/"
        },
        "outputId": "d77b3eb2-4f6c-45ae-c8a7-16fe508587ab"
      },
      "source": [
        "preditos = reg.predict(Xteste)\n",
        "preditos"
      ],
      "execution_count": 156,
      "outputs": [
        {
          "output_type": "execute_result",
          "data": {
            "text/plain": [
              "array([ 7.69828393,  8.21934714,  7.8765424 ,  6.39562593, 11.79822861,\n",
              "       12.18608768, 35.23979085,  6.84225153,  6.95390793, 10.75022555,\n",
              "       29.91358465,  8.14686842,  7.10278313, 29.76666833,  8.14686842,\n",
              "        7.53177877,  6.17231313,  6.97153789,  9.48478634,  7.99015768,\n",
              "        4.30745535,  5.68846872,  7.8765424 ,  8.14490954,  9.89419314,\n",
              "        7.10278313, 33.67660124,  5.27906192,  9.08713285,  7.54940873,\n",
              "        9.48478634,  7.02834553, 31.03014866,  6.47006353,  9.12631053,\n",
              "        9.11259834, 11.94122715, 29.72749065,  7.99603433, 10.82466315,\n",
              "        3.52977831,  5.36525283,  7.9627333 ,  9.00094194,  6.6972941 ,\n",
              "        7.95881553,  7.70416059,  4.12527911, 31.13005175, 36.09190548,\n",
              "       11.92751497,  7.79426926, 30.22896501,  8.85206674,  6.66986972,\n",
              "        9.29869234,  8.62875394, 11.45346498,  8.18212834, 11.64347675,\n",
              "       12.35063396, 32.2662046 ,  4.98131152,  8.74041034,  5.53959352,\n",
              "       10.69341791,  4.86965512, 31.43955546,  8.43678328,  5.01853032,\n",
              "        8.81288905, 11.04797595,  9.60036051, 13.52204672,  6.61893873,\n",
              "       12.09010236,  7.4416701 ,  7.32609593,  6.62677426,  7.87262463,\n",
              "       28.08594567,  6.30551725, 10.33298321,  7.25165833,  7.40053353,\n",
              "        8.02933537, 10.00584954, 12.42507156,  5.63949662,  4.01362271,\n",
              "       28.01542584, 32.03505626,  5.09296792,  8.00582876,  7.20660399,\n",
              "       30.73239826,  9.38488325,  3.97640391,  3.95485619, 29.46695905,\n",
              "       12.35063396,  7.9627333 ,  5.42793712,  7.14000193,  6.91668913,\n",
              "       31.55121186, 36.23098626,  5.98621912, 10.22916235,  9.37312994,\n",
              "        9.18703594,  8.40544114,  3.04593391,  8.02933537, 29.87636585,\n",
              "        3.38090311,  8.42111221, 12.91871038, 37.00670441, 33.83331198,\n",
              "        7.27320606,  6.10962883,  7.14000193,  4.34663303,  6.87947033,\n",
              "        7.28887713,  8.04892421,  9.11259834,  7.52002547, 10.37999643,\n",
              "        8.14686842,  5.93724702,  5.71785199,  8.695356  ,  4.01362271,\n",
              "        7.52002547, 30.7147683 ,  5.20462432, 11.94122715,  7.05772879,\n",
              "        4.85594293,  7.74725604,  6.02343792,  6.13509432,  5.91178152,\n",
              "       29.50809562,  7.04989326,  9.4279787 , 31.51399306,  8.49946758,\n",
              "       13.43585582,  5.93724702, 10.73259559,  8.33100354, 31.31810464,\n",
              "        6.84225153,  5.98621912, 34.42097724,  7.91963785,  4.07238924,\n",
              "        5.68846872, 32.85386987,  7.4416701 ,  3.64143471,  5.39071832,\n",
              "       29.16920865, 32.66777587,  5.05574912, 10.85012864,  6.50728233,\n",
              "        7.80994033,  6.76781393,  5.46515592, 31.95278313,  6.32118833,\n",
              "        7.17722073,  7.66106513, 10.76393774,  9.7139758 , 34.33478634,\n",
              "        6.46222799, 11.23406995, 10.22916235,  4.23693552, 31.61977281,\n",
              "        9.25559689,  7.83344694,  8.85206674, 11.10870136,  7.79426926,\n",
              "        3.19480911,  7.47497113,  4.42890617, 10.54846047,  5.99209578,\n",
              "        7.4416701 ,  8.88928554,  9.11259834, 10.63465138,  8.77762914,\n",
              "       12.38785276,  8.47987874, 34.71480988, 10.03131504, 33.70990227,\n",
              "        8.07047193,  7.54940873, 10.86188195, 30.89498565,  5.53959352,\n",
              "       12.12732116,  9.12631053, 33.75495661,  5.83734392,  9.00094194,\n",
              "       31.21624266,  8.65617832,  8.52297419,  7.51218993, 10.02739727,\n",
              "       31.36511786,  7.52002547,  8.25656594, 35.45918588,  7.59838084,\n",
              "       29.59428652, 10.19194355, 32.65406368,  7.21443953, 11.12241355,\n",
              "        7.02834553,  8.29378474,  6.54058336, 11.7120377 , 10.22916235,\n",
              "        9.18703594, 29.76666833, 30.8009592 ,  5.71785199, 29.20642745,\n",
              "        7.91180231, 11.53182035, 10.63856915, 11.68069555,  6.43284473,\n",
              "        4.47200162, 10.28988776, 12.4446604 ,  6.17231313, 30.65991954,\n",
              "       33.03996387,  7.17722073, 36.70503624,  8.66597274,  6.28396953,\n",
              "       10.63465138,  7.40249242, 10.2467923 ,  9.64345596, 12.05288356,\n",
              "       10.52691275, 35.45526811, 32.22115026,  6.02343792, 12.57394676,\n",
              "        7.02834553,  4.27415432, 30.21133505,  9.40055432,  5.65124992,\n",
              "       10.56413155,  6.81482715,  8.62875394,  7.43775233,  9.12631053,\n",
              "       12.06463686,  9.12631053,  4.86965512, 33.68835454,  4.9342983 ,\n",
              "       29.65305305,  7.87262463,  9.44756754,  7.47497113, 33.37493307,\n",
              "       12.61704221,  6.35840713, 10.97353835, 33.17120911, 35.00864251,\n",
              "        5.42793712,  6.99112673,  2.45043311,  9.18703594,  8.44265994,\n",
              "       13.09109219, 35.92931809, 12.61704221,  6.91668913,  8.36822234,\n",
              "       11.41036953, 34.56593468, 10.26246338,  7.40249242, 28.75980185,\n",
              "       33.99002271, 34.29169088,  6.28396953, 33.94692726,  7.06556433,\n",
              "        5.80012512,  9.85697434, 10.11750595, 12.61704221,  6.10962883,\n",
              "       10.86188195, 32.10949386,  9.22425474,  8.55431634, 31.83525007,\n",
              "        3.97640391, 10.71300675,  8.85206674, 11.08519475,  8.30357916,\n",
              "        5.16740552,  6.07045115, 35.49836356, 11.60625795,  6.97153789,\n",
              "       13.73752399,  6.58367881,  6.54450113,  7.91963785, 33.89599627])"
            ]
          },
          "metadata": {
            "tags": []
          },
          "execution_count": 156
        }
      ]
    },
    {
      "cell_type": "code",
      "metadata": {
        "id": "AkAhwWwKBc-r",
        "colab": {
          "base_uri": "https://localhost:8080/"
        },
        "outputId": "8a81f22d-08e6-478e-bd11-b6cdc0c07357"
      },
      "source": [
        "import numpy as np\n",
        "\n",
        "np.mean((preditos - yteste)**2)"
      ],
      "execution_count": 157,
      "outputs": [
        {
          "output_type": "execute_result",
          "data": {
            "text/plain": [
              "53.73116287943398"
            ]
          },
          "metadata": {
            "tags": []
          },
          "execution_count": 157
        }
      ]
    },
    {
      "cell_type": "markdown",
      "metadata": {
        "id": "C7r6uc_W37fY"
      },
      "source": [
        "#**Métrica de Avaliação: Erro Quadrático Médio (MSE)**"
      ]
    },
    {
      "cell_type": "code",
      "metadata": {
        "colab": {
          "base_uri": "https://localhost:8080/"
        },
        "id": "A3qv__d4CNhr",
        "outputId": "42d74d5d-e24c-42ae-810b-61cd312413dd"
      },
      "source": [
        "from sklearn.metrics import mean_squared_error\n",
        "\n",
        "eqm = mean_squared_error(yteste, preditos)\n",
        "print('EQM: {}'.format(round(eqm, 4)))"
      ],
      "execution_count": 158,
      "outputs": [
        {
          "output_type": "stream",
          "text": [
            "EQM: 53.7312\n"
          ],
          "name": "stdout"
        }
      ]
    },
    {
      "cell_type": "markdown",
      "metadata": {
        "id": "w3kZ4tuW4Ww0"
      },
      "source": [
        "###**Coeficientes**"
      ]
    },
    {
      "cell_type": "code",
      "metadata": {
        "colab": {
          "base_uri": "https://localhost:8080/"
        },
        "id": "YreIV_K3CuI4",
        "outputId": "84dcbcdd-e530-4d70-d791-5213c01ac362"
      },
      "source": [
        "b0 = reg.intercept_\n",
        "b1, b2 = reg.coef_\n",
        "\n",
        "print('Intercepto: \\n', reg.intercept_)\n",
        "print('Coeficientes: \\n', reg.coef_)"
      ],
      "execution_count": 159,
      "outputs": [
        {
          "output_type": "stream",
          "text": [
            "Intercepto: \n",
            " -3.802325326046528\n",
            "Coeficientes: \n",
            " [ 0.39177684 24.00180313]\n"
          ],
          "name": "stdout"
        }
      ]
    },
    {
      "cell_type": "markdown",
      "metadata": {
        "id": "McVX8rZQDnRy"
      },
      "source": [
        "#**O Modelo de Regressão**"
      ]
    },
    {
      "cell_type": "markdown",
      "metadata": {
        "id": "Tmuh80SBEBy2"
      },
      "source": [
        "##**Nesse cenário, o modelo de regressão linear é dado por:**\n",
        "\n",
        "\n",
        "*   Custos = b0 + b1.BMI + b2.0 - **Se não fumante**\n",
        "*   Custos = b0 + b1.BMI + b2.1 - **Se fumante**"
      ]
    },
    {
      "cell_type": "code",
      "metadata": {
        "id": "Qrzlmy5IDi74"
      },
      "source": [
        "import numpy as np\n",
        "\n",
        "x = np.arange(15, 55, 0.01)\n",
        "y0 = b0 + b1*x + b2*0\n",
        "y1 = b0 + b1*x + b2*1\n"
      ],
      "execution_count": 160,
      "outputs": []
    },
    {
      "cell_type": "code",
      "metadata": {
        "colab": {
          "base_uri": "https://localhost:8080/",
          "height": 398
        },
        "id": "Dvhq1c6U6EBp",
        "outputId": "57d2ea88-1c93-405c-c8df-552721c9533f"
      },
      "source": [
        "import matplotlib.pyplot as plt\n",
        "\n",
        "sns.scatterplot(x = 'bmi', y = 'charges', hue = 'smoker', data = dados)\n",
        "plt.plot(x, y0, color = 'blue')\n",
        "plt.plot(x, y1, color = 'orange')\n",
        "plt.title('Retas de Regressão')\n",
        "plt.xlabel('IMC')\n",
        "plt.ylabel('Custo')\n",
        "plt.show()"
      ],
      "execution_count": 161,
      "outputs": [
        {
          "output_type": "display_data",
          "data": {
            "image/png": "[encoded data removed]",
            "text/plain": [
              "<Figure size 600x400 with 1 Axes>"
            ]
          },
          "metadata": {
            "tags": []
          }
        }
      ]
    },
    {
      "cell_type": "markdown",
      "metadata": {
        "id": "KS3bwVTM7XXo"
      },
      "source": [
        "#**Holdout Repetido**\n",
        "\n",
        "##Repetições da técnica Holdout variando a distribuição de quem vai pra amostra de teste e treinamento.\n",
        "\n",
        "##**Objetivo:** Obter um valor mais estável para o EQM"
      ]
    },
    {
      "cell_type": "code",
      "metadata": {
        "id": "Qt4P2P8t_pIs"
      },
      "source": [
        "def HoldoutRep(modelo = LinearRegression(), replica = 100, proporcao = 0.25):\n",
        "  from sklearn.metrics import mean_squared_error\n",
        "  from sklearn.model_selection import train_test_split\n",
        "\n",
        "  eqms_treino = []\n",
        "  eqms_teste = []\n",
        "\n",
        "  for i in range(replica):\n",
        "    Xtreino, Xteste, ytreino, yteste = train_test_split(x, y, test_size = proporcao)\n",
        "\n",
        "    #Treino do Modelo\n",
        "    reg = modelo\n",
        "    reg.fit(Xtreino, ytreino)\n",
        "\n",
        "    #Verificando o EQM no teste\n",
        "    preditos_treino = reg.predict(Xtreino)\n",
        "    eqm_treino = mean_squared_error(ytreino, preditos_treino)\n",
        "\n",
        "    preditos_teste = reg.predict(Xteste)\n",
        "    eqm_teste = mean_squared_error(xteste, preditos_teste)\n",
        "\n",
        "    #Armazenando o Resultado\n",
        "    eqms_treino.append(eqm_treino)\n",
        "    eqms_teste.append(eqm_teste)\n",
        "\n",
        "    resultado_treino = np.array(eqms_treino).mean().round(2)\n",
        "    resultado_teste = np.array(eqms_teste).mean().round(2)\n",
        "\n",
        "    print('EQM médio de Treino: {}'.format(resultado_treino))\n",
        "    print('EQM médio de Teste: {}'.format(resultado_teste))\n",
        "\n",
        "    return resultado_treino, resultado_teste"
      ],
      "execution_count": 162,
      "outputs": []
    },
    {
      "cell_type": "code",
      "metadata": {
        "id": "-m0TnIzPLja0"
      },
      "source": [
        "HoldoutRep(replica=100)"
      ],
      "execution_count": null,
      "outputs": []
    }
  ]
}